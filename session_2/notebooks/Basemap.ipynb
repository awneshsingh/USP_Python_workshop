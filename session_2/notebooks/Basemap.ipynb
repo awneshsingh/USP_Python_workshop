{
 "cells": [
  {
   "cell_type": "code",
   "execution_count": null,
   "metadata": {
    "collapsed": false
   },
   "outputs": [],
   "source": [
    "%load_ext load_style\n",
    "%load_style talk.css"
   ]
  },
  {
   "cell_type": "markdown",
   "metadata": {},
   "source": [
    "# Basemap"
   ]
  },
  {
   "cell_type": "code",
   "execution_count": null,
   "metadata": {
    "collapsed": false
   },
   "outputs": [],
   "source": [
    "from IPython.display import Image, HTML"
   ]
  },
  {
   "cell_type": "markdown",
   "metadata": {},
   "source": [
    "[basemap](http://matplotlib.org/basemap/) is a Matplotlib **toolkit** that allows to draw geographical maps and overlay data on these maps, it supports a large number of projections (see [http://matplotlib.org/basemap/users/mapsetup.html](http://matplotlib.org/basemap/users/mapsetup.html) for a list and later on in the present notebook)\n",
    "\n",
    "The [Basemap dcumentation](http://matplotlib.org/basemap/index.html) is a good place to start, but see also [https://basemaptutorial.readthedocs.io/en/latest/](https://basemaptutorial.readthedocs.io/en/latest/) for a good tutorial on Basemap "
   ]
  },
  {
   "cell_type": "markdown",
   "metadata": {},
   "source": [
    "## Basemap"
   ]
  },
  {
   "cell_type": "code",
   "execution_count": null,
   "metadata": {
    "collapsed": true
   },
   "outputs": [],
   "source": [
    "%matplotlib inline\n",
    "from matplotlib import pyplot as plt\n",
    "import numpy as np"
   ]
  },
  {
   "cell_type": "code",
   "execution_count": null,
   "metadata": {
    "collapsed": false
   },
   "outputs": [],
   "source": [
    "from mpl_toolkits.basemap import Basemap as bm\n",
    "from mpl_toolkits.basemap import supported_projections, projection_params "
   ]
  },
  {
   "cell_type": "code",
   "execution_count": null,
   "metadata": {
    "collapsed": false
   },
   "outputs": [],
   "source": [
    "print(supported_projections)"
   ]
  },
  {
   "cell_type": "code",
   "execution_count": null,
   "metadata": {
    "collapsed": false
   },
   "outputs": [],
   "source": [
    "projection_params['merc']"
   ]
  },
  {
   "cell_type": "markdown",
   "metadata": {},
   "source": [
    "### Draw basemap of a region with a bathymetric and topographic overlay"
   ]
  },
  {
   "cell_type": "markdown",
   "metadata": {},
   "source": [
    "defines the parameters for the *Mercator* projection"
   ]
  },
  {
   "cell_type": "code",
   "execution_count": null,
   "metadata": {
    "collapsed": true
   },
   "outputs": [],
   "source": [
    "llcrnrlat = -50 # lower left corner latitude \n",
    "urcrnrlat = 20 # upper right corner latitude \n",
    "\n",
    "llcrnrlon = 150 # lower left corner longitude\n",
    "urcrnrlon = 290 # upper right corner longitude\n",
    "\n",
    "lat_ts = -40 # true scale latitude"
   ]
  },
  {
   "cell_type": "markdown",
   "metadata": {},
   "source": [
    "initialises the projection"
   ]
  },
  {
   "cell_type": "code",
   "execution_count": null,
   "metadata": {
    "collapsed": false
   },
   "outputs": [],
   "source": [
    "m = bm(projection='merc',\\\n",
    "            llcrnrlat=llcrnrlat,\\\n",
    "            urcrnrlat=urcrnrlat,\\\n",
    "            llcrnrlon=llcrnrlon,\\\n",
    "            urcrnrlon=urcrnrlon,\\\n",
    "            lat_ts=lat_ts,\\\n",
    "            resolution='i', \\\n",
    "            area_thresh=100)"
   ]
  },
  {
   "cell_type": "markdown",
   "metadata": {},
   "source": [
    "and now plots"
   ]
  },
  {
   "cell_type": "code",
   "execution_count": null,
   "metadata": {
    "collapsed": false
   },
   "outputs": [],
   "source": [
    "f, ax = plt.subplots(figsize=(14,10))\n",
    "\n",
    "m.ax = ax # the axes in which the map needs to be embedded\n",
    "\n",
    "m.etopo() # draw bathymetry and topography\n",
    "\n",
    "m.drawcoastlines()\n",
    "\n",
    "parallels = np.arange(llcrnrlat, urcrnrlat, 20)\n",
    "\n",
    "m.drawparallels(parallels, labels=[False,True,False,False]) # left, right, top, bottom\n",
    "\n",
    "meridians = np.arange(llcrnrlon, urcrnrlon, 30)\n",
    "\n",
    "m.drawmeridians(meridians,  labels=[False,False,True,True]) # left, right, top, bottom\n",
    "\n",
    "plt.show()"
   ]
  },
  {
   "cell_type": "markdown",
   "metadata": {},
   "source": [
    "### overlay data on a basemap"
   ]
  },
  {
   "cell_type": "code",
   "execution_count": null,
   "metadata": {
    "collapsed": true
   },
   "outputs": [],
   "source": [
    "url = 'http://www.esrl.noaa.gov/psd/thredds/dodsC/Datasets/interp_OLR/olr.mon.mean.nc'"
   ]
  },
  {
   "cell_type": "code",
   "execution_count": null,
   "metadata": {
    "collapsed": false
   },
   "outputs": [],
   "source": [
    "import xarray as xr"
   ]
  },
  {
   "cell_type": "code",
   "execution_count": null,
   "metadata": {
    "collapsed": true
   },
   "outputs": [],
   "source": [
    "dset = xr.open_dataset(url)"
   ]
  },
  {
   "cell_type": "code",
   "execution_count": null,
   "metadata": {
    "collapsed": false
   },
   "outputs": [],
   "source": [
    "sub = dset.sel(lat=slice(20, -50), lon=slice(150, 290), time='1998-1')"
   ]
  },
  {
   "cell_type": "code",
   "execution_count": null,
   "metadata": {
    "collapsed": false
   },
   "outputs": [],
   "source": [
    "lat = sub.lat\n",
    "lon = sub.lon"
   ]
  },
  {
   "cell_type": "code",
   "execution_count": null,
   "metadata": {
    "collapsed": true
   },
   "outputs": [],
   "source": [
    "lons, lats = np.meshgrid(lon, lat)"
   ]
  },
  {
   "cell_type": "code",
   "execution_count": null,
   "metadata": {
    "collapsed": false
   },
   "outputs": [],
   "source": [
    "sub['olr'].plot()"
   ]
  },
  {
   "cell_type": "code",
   "execution_count": null,
   "metadata": {
    "collapsed": false
   },
   "outputs": [],
   "source": [
    "sub"
   ]
  },
  {
   "cell_type": "markdown",
   "metadata": {},
   "source": [
    "#### using pcolormesh (gridded faceted plot)"
   ]
  },
  {
   "cell_type": "code",
   "execution_count": null,
   "metadata": {
    "collapsed": false
   },
   "outputs": [],
   "source": [
    "from mpl_toolkits.basemap import Basemap\n",
    "\n",
    "f, ax = plt.subplots(figsize=(12,8))\n",
    "\n",
    "m.ax = ax\n",
    "\n",
    "im = m.pcolormesh(lons, lats, sub['olr'].data.squeeze(), latlon=True)\n",
    "\n",
    "m.drawcoastlines()\n",
    "\n",
    "parallels = np.arange(llcrnrlat, urcrnrlat, 20)\n",
    "\n",
    "m.drawparallels(parallels, labels=[False,True,False,False]) # left, right, top, bottom\n",
    "\n",
    "meridians = np.arange(llcrnrlon, urcrnrlon, 30)\n",
    "\n",
    "m.drawmeridians(meridians,  labels=[False,False,True,True]) # left, right, top, bottom\n",
    "\n",
    "cb = m.colorbar(im, pad='6%')\n",
    "cb.set_label(r'$W.m^{-2}$', fontsize=18)\n",
    "\n",
    "plt.show()"
   ]
  },
  {
   "cell_type": "markdown",
   "metadata": {},
   "source": [
    "#### using contourf (filled contours)"
   ]
  },
  {
   "cell_type": "code",
   "execution_count": null,
   "metadata": {
    "collapsed": false
   },
   "outputs": [],
   "source": [
    "from mpl_toolkits.basemap import Basemap\n",
    "\n",
    "f, ax = plt.subplots(figsize=(12,8))\n",
    "\n",
    "m.ax = ax\n",
    "\n",
    "im = m.contourf(lons, lats, sub['olr'].data.squeeze(), np.arange(180, 290, 5), latlon=True, extend='both')\n",
    "\n",
    "# Choosing another colormap (see http://matplotlib.org/users/colormaps.html) is easy:\n",
    "# im = m.contourf(mlon, mlat, olr, np.arange(180, 290, 5), latlon=True, extend='both', cmap=plt.get_cmap('cubehelix_r'))\n",
    "\n",
    "m.drawcoastlines()\n",
    "\n",
    "parallels = np.arange(llcrnrlat, urcrnrlat, 20)\n",
    "\n",
    "m.drawparallels(parallels, labels=[False,True,False,False]) # left, right, top, bottom\n",
    "\n",
    "meridians = np.arange(llcrnrlon, urcrnrlon, 30)\n",
    "\n",
    "m.drawmeridians(meridians,  labels=[False,False,True,True]) # left, right, top, bottom\n",
    "\n",
    "cb = m.colorbar(im, pad='6%')\n",
    "cb.set_label(r'$W.m^{-2}$', fontsize=18)\n",
    "\n",
    "plt.show()"
   ]
  },
  {
   "cell_type": "code",
   "execution_count": null,
   "metadata": {
    "collapsed": false
   },
   "outputs": [],
   "source": [
    "from mpl_toolkits.basemap import Basemap\n",
    "\n",
    "f, ax = plt.subplots(figsize=(12,8))\n",
    "\n",
    "m.ax = ax\n",
    "\n",
    "im = m.contourf(lons, lats, sub['olr'].data.squeeze(), np.arange(180, 290, 5), latlon=True, extend='both')\n",
    "\n",
    "cs = m.contour(lons, lats, sub['olr'].data.squeeze(), np.arange(180, 290, 10), latlon=True, colors='k')\n",
    "\n",
    "plt.clabel(cs, colors='k', fmt=\"%4i\")\n",
    "\n",
    "# Choosing another colormap (see http://matplotlib.org/users/colormaps.html) is easy:\n",
    "# im = m.contourf(mlon, mlat, olr, np.arange(180, 290, 5), latlon=True, cmap=plt.get_cmap('cubehelix_r'))\n",
    "\n",
    "m.drawcoastlines()\n",
    "\n",
    "parallels = np.arange(llcrnrlat, urcrnrlat, 20)\n",
    "\n",
    "m.drawparallels(parallels, labels=[False,True,False,False]) # left, right, top, bottom\n",
    "\n",
    "meridians = np.arange(llcrnrlon, urcrnrlon, 30)\n",
    "\n",
    "m.drawmeridians(meridians,  labels=[False,False,True,True]) # left, right, top, bottom\n",
    "\n",
    "cb = m.colorbar(im, pad='6%')\n",
    "cb.set_label(r'$W.m^{-2}$', fontsize=18)\n",
    "\n",
    "plt.show();"
   ]
  },
  {
   "cell_type": "code",
   "execution_count": null,
   "metadata": {
    "collapsed": false
   },
   "outputs": [],
   "source": [
    "name = 'Basemap'\n",
    "!jupyter nbconvert {name}.ipynb --to html"
   ]
  },
  {
   "cell_type": "code",
   "execution_count": null,
   "metadata": {
    "collapsed": true
   },
   "outputs": [],
   "source": []
  }
 ],
 "metadata": {
  "anaconda-cloud": {},
  "kernelspec": {
   "display_name": "Python [conda env:py3]",
   "language": "python",
   "name": "conda-env-py3-py"
  },
  "language_info": {
   "codemirror_mode": {
    "name": "ipython",
    "version": 3
   },
   "file_extension": ".py",
   "mimetype": "text/x-python",
   "name": "python",
   "nbconvert_exporter": "python",
   "pygments_lexer": "ipython3",
   "version": "3.5.2"
  },
  "latex_envs": {
   "bibliofile": "biblio.bib",
   "cite_by": "apalike",
   "current_citInitial": 1,
   "eqLabelWithNumbers": true,
   "eqNumInitial": 0
  },
  "nav_menu": {},
  "toc": {
   "navigate_menu": true,
   "number_sections": true,
   "sideBar": true,
   "threshold": 6,
   "toc_cell": false,
   "toc_section_display": "block",
   "toc_window_display": false
  }
 },
 "nbformat": 4,
 "nbformat_minor": 0
}
