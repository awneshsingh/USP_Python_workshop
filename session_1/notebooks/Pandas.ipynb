{
 "cells": [
  {
   "cell_type": "code",
   "execution_count": 1,
   "metadata": {
    "collapsed": false
   },
   "outputs": [
    {
     "data": {
      "text/html": [
       "<style>\n",
       "\n",
       ".rendered_html {\n",
       "    font-family: \"proxima-nova\", helvetica;\n",
       "    font-size: 130%;\n",
       "    line-height: 1.5;\n",
       "}\n",
       "\n",
       ".rendered_html h1 {\n",
       "    margin: 0.25em 0em 0.5em;\n",
       "    color: #015C9C;\n",
       "    text-align: center;\n",
       "    line-height: 1.2; \n",
       "    page-break-before: always;\n",
       "}\n",
       "\n",
       ".rendered_html h2 {\n",
       "    margin: 1.1em 0em 0.5em;\n",
       "    color: #26465D;\n",
       "    line-height: 1.2;\n",
       "}\n",
       "\n",
       ".rendered_html h3 {\n",
       "    margin: 1.1em 0em 0.5em;\n",
       "    color: #002845;\n",
       "    line-height: 1.2;\n",
       "}\n",
       "\n",
       ".rendered_html li {\n",
       "    line-height: 1.5; \n",
       "}\n",
       "\n",
       "/*.prompt {\n",
       "    font-size: 120%; \n",
       "}*/\n",
       "\n",
       ".CodeMirror-lines {\n",
       "    font-size: 110%; \n",
       "}\n",
       "\n",
       "/*.output_area {\n",
       "    font-size: 120%; \n",
       "}*/\n",
       "\n",
       "/*#notebook {\n",
       "    background-image: url('files/images/witewall_3.png');\n",
       "}*/\n",
       "\n",
       "h1.bigtitle {\n",
       "    margin: 4cm 1cm 4cm 1cm;\n",
       "    font-size: 300%;\n",
       "}\n",
       "\n",
       "h3.point {\n",
       "    font-size: 200%;\n",
       "    text-align: center;\n",
       "    margin: 2em 0em 2em 0em;\n",
       "    #26465D\n",
       "}\n",
       "\n",
       ".logo {\n",
       "    margin: 20px 0 20px 0;\n",
       "}\n",
       "\n",
       "a.anchor-link {\n",
       "    display: none;\n",
       "}\n",
       "\n",
       "h1.title { \n",
       "    font-size: 250%;\n",
       "}\n",
       "\n",
       "</style>"
      ],
      "text/plain": [
       "<IPython.core.display.HTML object>"
      ]
     },
     "metadata": {},
     "output_type": "display_data"
    }
   ],
   "source": [
    "%load_ext load_style\n",
    "%load_style talk.css"
   ]
  },
  {
   "cell_type": "markdown",
   "metadata": {},
   "source": [
    "# Pandas"
   ]
  },
  {
   "cell_type": "code",
   "execution_count": 3,
   "metadata": {
    "collapsed": false
   },
   "outputs": [],
   "source": [
    "# import addutils.toc ; addutils.toc.js(ipy_notebook=True)"
   ]
  },
  {
   "cell_type": "code",
   "execution_count": 4,
   "metadata": {
    "collapsed": false
   },
   "outputs": [],
   "source": [
    "from IPython.display import Image, HTML"
   ]
  },
  {
   "cell_type": "markdown",
   "metadata": {},
   "source": [
    "**pandas** is a Python package providing fast, flexible, and expressive data structures designed to work with *relational* or *labeled* data. It is a fundamental high-level building block for doing practical, real world data analysis in Python. \n",
    "\n",
    "pandas is well suited for:\n",
    "\n",
    "- Tabular data with heterogeneously-typed columns, as in an SQL table or Excel spreadsheet\n",
    "- Ordered and unordered (not necessarily fixed-frequency) time series data.\n",
    "- Arbitrary matrix data (homogeneously typed or heterogeneous) with row and column labels\n",
    "- Any other form of observational / statistical data sets. The data actually need not be labeled at all to be placed into a pandas data structure\n",
    "\n",
    "\n",
    "Key features:  \n",
    "    \n",
    "- Easy handling of **missing data**\n",
    "- **Size mutability**: columns can be inserted and deleted from DataFrame and higher dimensional objects\n",
    "- Automatic and explicit **data alignment**: objects can be explicitly aligned to a set of labels, or the data can be aligned automatically\n",
    "- Powerful, flexible **group by functionality** to perform split-apply-combine operations on data sets\n",
    "- Intelligent label-based **slicing, fancy indexing, and subsetting** of large data sets\n",
    "- Intuitive **merging and joining** data sets\n",
    "- Flexible **reshaping and pivoting** of data sets\n",
    "- **Hierarchical labeling** of axes\n",
    "- Robust **IO tools** for loading data from flat files, Excel files, databases, and HDF5\n",
    "- **Time series functionality**: date range generation and frequency conversion, moving window statistics, moving window linear regressions, date shifting and lagging, etc."
   ]
  },
  {
   "cell_type": "code",
   "execution_count": 5,
   "metadata": {
    "collapsed": false
   },
   "outputs": [
    {
     "data": {
      "text/html": [
       "<iframe src=http://pandas.pydata.org/index.html width=900 height=350></iframe>"
      ],
      "text/plain": [
       "<IPython.core.display.HTML object>"
      ]
     },
     "execution_count": 5,
     "metadata": {},
     "output_type": "execute_result"
    }
   ],
   "source": [
    "HTML('<iframe src=http://pandas.pydata.org/index.html width=900 height=350></iframe>')"
   ]
  },
  {
   "cell_type": "markdown",
   "metadata": {},
   "source": [
    "The conventional way to import pandas is: \n",
    "\n",
    "```python\n",
    "import pandas as pd\n",
    "```"
   ]
  },
  {
   "cell_type": "code",
   "execution_count": 6,
   "metadata": {
    "collapsed": false
   },
   "outputs": [],
   "source": [
    "import pandas as pd"
   ]
  },
  {
   "cell_type": "code",
   "execution_count": 7,
   "metadata": {
    "collapsed": false
   },
   "outputs": [
    {
     "name": "stdout",
     "output_type": "stream",
     "text": [
      "0.18.1\n"
     ]
    }
   ],
   "source": [
    "print(pd.__version__)"
   ]
  },
  {
   "cell_type": "code",
   "execution_count": 8,
   "metadata": {
    "collapsed": true
   },
   "outputs": [],
   "source": [
    "import numpy as np\n",
    "import matplotlib.pyplot as plt\n",
    "%matplotlib inline"
   ]
  },
  {
   "cell_type": "markdown",
   "metadata": {},
   "source": [
    "some options setting "
   ]
  },
  {
   "cell_type": "code",
   "execution_count": 9,
   "metadata": {
    "collapsed": false
   },
   "outputs": [],
   "source": [
    "pd.set_option(\"display.width\", 80)\n",
    "# toggle the line below that if one doesnt want DataFrames displayed as HTML tables\n",
    "#pd.set_option(\"notebook_repr_html\", False) \n",
    "pd.set_option(\"notebook_repr_html\", True) "
   ]
  },
  {
   "cell_type": "markdown",
   "metadata": {},
   "source": [
    "Pandas's data structures and functionalities will be familiar to R users, there's a section on Pandas's website where \n",
    "Wes McKinney gives some translation of common idioms / operations between R and Pandas "
   ]
  },
  {
   "cell_type": "code",
   "execution_count": 10,
   "metadata": {
    "collapsed": false
   },
   "outputs": [
    {
     "data": {
      "text/html": [
       "<iframe src=http://pandas.pydata.org/pandas-docs/stable/comparison_with_r.html#compare-with-r width=900 height=350></iframe>"
      ],
      "text/plain": [
       "<IPython.core.display.HTML object>"
      ]
     },
     "execution_count": 10,
     "metadata": {},
     "output_type": "execute_result"
    }
   ],
   "source": [
    "HTML('<iframe src=http://pandas.pydata.org/pandas-docs/stable/comparison_with_r.html#compare-with-r width=900 height=350></iframe>')"
   ]
  },
  {
   "cell_type": "markdown",
   "metadata": {},
   "source": [
    "## Pandas data structures"
   ]
  },
  {
   "cell_type": "markdown",
   "metadata": {},
   "source": [
    "### Series"
   ]
  },
  {
   "cell_type": "markdown",
   "metadata": {},
   "source": [
    "\n",
    "A **Series** is a single vector of data values (think a NumPy array with shape N or (N,1)) with an **index** that labels each element in the vector."
   ]
  },
  {
   "cell_type": "markdown",
   "metadata": {},
   "source": [
    "#### Series constructions"
   ]
  },
  {
   "cell_type": "code",
   "execution_count": 11,
   "metadata": {
    "collapsed": false
   },
   "outputs": [],
   "source": [
    "a = pd.Series(np.random.normal(0,1,(10,)))"
   ]
  },
  {
   "cell_type": "code",
   "execution_count": 13,
   "metadata": {
    "collapsed": false
   },
   "outputs": [
    {
     "data": {
      "text/plain": [
       "RangeIndex(start=0, stop=10, step=1)"
      ]
     },
     "execution_count": 13,
     "metadata": {},
     "output_type": "execute_result"
    }
   ],
   "source": [
    "a.index"
   ]
  },
  {
   "cell_type": "code",
   "execution_count": 13,
   "metadata": {
    "collapsed": false
   },
   "outputs": [
    {
     "data": {
      "text/plain": [
       "array([ 0.4864535 , -0.73034884,  2.14221846,  0.85847929,  0.61352902,\n",
       "        0.41007344,  0.24430496,  1.01081354,  0.37242184, -1.34838402])"
      ]
     },
     "execution_count": 13,
     "metadata": {},
     "output_type": "execute_result"
    }
   ],
   "source": [
    "a.values"
   ]
  },
  {
   "cell_type": "markdown",
   "metadata": {},
   "source": [
    "#### You can define your own **index**"
   ]
  },
  {
   "cell_type": "code",
   "execution_count": 14,
   "metadata": {
    "collapsed": false
   },
   "outputs": [],
   "source": [
    "a = pd.Series(np.random.normal(0,1,(10,)), index=np.arange(1,11))"
   ]
  },
  {
   "cell_type": "code",
   "execution_count": 15,
   "metadata": {
    "collapsed": false
   },
   "outputs": [
    {
     "data": {
      "text/plain": [
       "<matplotlib.axes._subplots.AxesSubplot at 0x10e90e978>"
      ]
     },
     "execution_count": 15,
     "metadata": {},
     "output_type": "execute_result"
    },
    {
     "data": {
      "image/png": "[encoded data removed]",
      "text/plain": [
       "<matplotlib.figure.Figure at 0x10e90e390>"
      ]
     },
     "metadata": {},
     "output_type": "display_data"
    }
   ],
   "source": [
    "a.plot()"
   ]
  },
  {
   "cell_type": "code",
   "execution_count": 16,
   "metadata": {
    "collapsed": false
   },
   "outputs": [],
   "source": [
    "a = pd.Series(np.random.normal(0,1,5), \\\n",
    "              index=['a','b','c','d','e'], name='my series')"
   ]
  },
  {
   "cell_type": "code",
   "execution_count": 17,
   "metadata": {
    "collapsed": false
   },
   "outputs": [
    {
     "data": {
      "text/plain": [
       "a   -0.774220\n",
       "b    0.124874\n",
       "c    1.103268\n",
       "d    0.458087\n",
       "e    0.918273\n",
       "Name: my series, dtype: float64"
      ]
     },
     "execution_count": 17,
     "metadata": {},
     "output_type": "execute_result"
    }
   ],
   "source": [
    "a"
   ]
  },
  {
   "cell_type": "markdown",
   "metadata": {},
   "source": [
    "Pandas objects expose some powerful, **high level plotting functions** (built on top of Matplotlib)"
   ]
  },
  {
   "cell_type": "code",
   "execution_count": 18,
   "metadata": {
    "collapsed": false
   },
   "outputs": [
    {
     "data": {
      "image/png": "[encoded data removed]",
      "text/plain": [
       "<matplotlib.figure.Figure at 0x1171b8358>"
      ]
     },
     "metadata": {},
     "output_type": "display_data"
    }
   ],
   "source": [
    "plot = a.plot(kind='bar', rot=0, color='r', title=a.name, width=0.9)"
   ]
  },
  {
   "cell_type": "markdown",
   "metadata": {},
   "source": [
    "same plot in matplotlib"
   ]
  },
  {
   "cell_type": "code",
   "execution_count": 19,
   "metadata": {
    "collapsed": false
   },
   "outputs": [
    {
     "data": {
      "image/png": "[encoded data removed]",
      "text/plain": [
       "<matplotlib.figure.Figure at 0x11c667b70>"
      ]
     },
     "metadata": {},
     "output_type": "display_data"
    }
   ],
   "source": [
    "f, ax = plt.subplots()\n",
    "bars = ax.bar(np.arange(len(a)), a.values, color='r', align='center', width=0.9)\n",
    "ax.set_xticks(np.arange(len(a)))\n",
    "ax.set_xlim(-0.5, len(a)-0.5)\n",
    "ax.set_xticklabels(a.index)\n",
    "ax.set_title(a.name)\n",
    "ax.grid()"
   ]
  },
  {
   "cell_type": "markdown",
   "metadata": {},
   "source": [
    "#### Series indexing"
   ]
  },
  {
   "cell_type": "markdown",
   "metadata": {},
   "source": [
    "Selecting from a Series is easy, using the corresponding index key (like a dict)"
   ]
  },
  {
   "cell_type": "code",
   "execution_count": 20,
   "metadata": {
    "collapsed": false
   },
   "outputs": [
    {
     "data": {
      "text/plain": [
       "a   -0.774220\n",
       "b    0.124874\n",
       "c    1.103268\n",
       "d    0.458087\n",
       "e    0.918273\n",
       "Name: my series, dtype: float64"
      ]
     },
     "execution_count": 20,
     "metadata": {},
     "output_type": "execute_result"
    }
   ],
   "source": [
    "a"
   ]
  },
  {
   "cell_type": "code",
   "execution_count": 21,
   "metadata": {
    "collapsed": false
   },
   "outputs": [
    {
     "data": {
      "text/plain": [
       "1.103267746110159"
      ]
     },
     "execution_count": 21,
     "metadata": {},
     "output_type": "execute_result"
    }
   ],
   "source": [
    "a['c']"
   ]
  },
  {
   "cell_type": "markdown",
   "metadata": {},
   "source": [
    "slices are permitted "
   ]
  },
  {
   "cell_type": "code",
   "execution_count": 22,
   "metadata": {
    "collapsed": false
   },
   "outputs": [
    {
     "data": {
      "text/plain": [
       "a   -0.774220\n",
       "b    0.124874\n",
       "c    1.103268\n",
       "Name: my series, dtype: float64"
      ]
     },
     "execution_count": 22,
     "metadata": {},
     "output_type": "execute_result"
    }
   ],
   "source": [
    "a['a':'c'] ### Note the difference with standard Python / Numpy positional, integer indexing"
   ]
  },
  {
   "cell_type": "code",
   "execution_count": 23,
   "metadata": {
    "collapsed": false
   },
   "outputs": [
    {
     "data": {
      "text/plain": [
       "c    1.103268\n",
       "d    0.458087\n",
       "e    0.918273\n",
       "Name: my series, dtype: float64"
      ]
     },
     "execution_count": 23,
     "metadata": {},
     "output_type": "execute_result"
    }
   ],
   "source": [
    "a['c':]"
   ]
  },
  {
   "cell_type": "markdown",
   "metadata": {},
   "source": [
    "deleting an element "
   ]
  },
  {
   "cell_type": "code",
   "execution_count": 24,
   "metadata": {
    "collapsed": false
   },
   "outputs": [
    {
     "data": {
      "text/plain": [
       "a   -0.774220\n",
       "b    0.124874\n",
       "c    1.103268\n",
       "e    0.918273\n",
       "Name: my series, dtype: float64"
      ]
     },
     "execution_count": 24,
     "metadata": {},
     "output_type": "execute_result"
    }
   ],
   "source": [
    "a.drop('d')"
   ]
  },
  {
   "cell_type": "markdown",
   "metadata": {},
   "source": [
    "Adding an element is (to my knowledge) not straightforward"
   ]
  },
  {
   "cell_type": "code",
   "execution_count": 25,
   "metadata": {
    "collapsed": false
   },
   "outputs": [],
   "source": [
    "a.drop('a', inplace=True)"
   ]
  },
  {
   "cell_type": "code",
   "execution_count": 26,
   "metadata": {
    "collapsed": false
   },
   "outputs": [
    {
     "data": {
      "text/plain": [
       "b    0.124874\n",
       "c    1.103268\n",
       "d    0.458087\n",
       "e    0.918273\n",
       "Name: my series, dtype: float64"
      ]
     },
     "execution_count": 26,
     "metadata": {},
     "output_type": "execute_result"
    }
   ],
   "source": [
    "a"
   ]
  },
  {
   "cell_type": "code",
   "execution_count": 27,
   "metadata": {
    "collapsed": false
   },
   "outputs": [
    {
     "data": {
      "text/plain": [
       "b    0.124874\n",
       "c    1.103268\n",
       "d    0.458087\n",
       "e    0.918273\n",
       "a    5.000000\n",
       "dtype: float64"
      ]
     },
     "execution_count": 27,
     "metadata": {},
     "output_type": "execute_result"
    }
   ],
   "source": [
    "a.append(pd.Series({'a':5}))"
   ]
  },
  {
   "cell_type": "code",
   "execution_count": 28,
   "metadata": {
    "collapsed": false
   },
   "outputs": [
    {
     "data": {
      "text/plain": [
       "b    0.124874\n",
       "c    1.103268\n",
       "d    0.458087\n",
       "e    0.918273\n",
       "Name: my series, dtype: float64"
      ]
     },
     "execution_count": 28,
     "metadata": {},
     "output_type": "execute_result"
    }
   ],
   "source": [
    "a"
   ]
  },
  {
   "cell_type": "markdown",
   "metadata": {},
   "source": [
    "Mathematical operations involving two series will perform operations by *aligning indices*.\n",
    "\n",
    "1. The union of all indices is created\n",
    "2. The mathematical operation is performed on matching indices. \n",
    "\n",
    "Indices that do not match are given the value NaN (not a number), and values are computed for all unique pairs of repeated indices."
   ]
  },
  {
   "cell_type": "code",
   "execution_count": 29,
   "metadata": {
    "collapsed": false
   },
   "outputs": [],
   "source": [
    "s1 = pd.Series(np.arange(1.0,4.0),index=['a','b','c'])\n",
    "s2 = pd.Series(np.arange(1.0,4.0),index=['b','c','d'])"
   ]
  },
  {
   "cell_type": "code",
   "execution_count": 30,
   "metadata": {
    "collapsed": false
   },
   "outputs": [],
   "source": [
    "s3 = s1 + s2"
   ]
  },
  {
   "cell_type": "code",
   "execution_count": 31,
   "metadata": {
    "collapsed": false
   },
   "outputs": [
    {
     "data": {
      "text/plain": [
       "a    NaN\n",
       "b    3.0\n",
       "c    5.0\n",
       "d    NaN\n",
       "dtype: float64"
      ]
     },
     "execution_count": 31,
     "metadata": {},
     "output_type": "execute_result"
    }
   ],
   "source": [
    "s3"
   ]
  },
  {
   "cell_type": "markdown",
   "metadata": {},
   "source": [
    "NaNs are ignored in all operations "
   ]
  },
  {
   "cell_type": "code",
   "execution_count": 32,
   "metadata": {
    "collapsed": false
   },
   "outputs": [
    {
     "data": {
      "text/plain": [
       "4.0"
      ]
     },
     "execution_count": 32,
     "metadata": {},
     "output_type": "execute_result"
    }
   ],
   "source": [
    "s3.mean()"
   ]
  },
  {
   "cell_type": "markdown",
   "metadata": {},
   "source": [
    "You can drop them from the Series"
   ]
  },
  {
   "cell_type": "code",
   "execution_count": 33,
   "metadata": {
    "collapsed": false
   },
   "outputs": [],
   "source": [
    "s4 = s3.dropna()"
   ]
  },
  {
   "cell_type": "code",
   "execution_count": 34,
   "metadata": {
    "collapsed": false
   },
   "outputs": [
    {
     "data": {
      "text/plain": [
       "b    3.0\n",
       "c    5.0\n",
       "dtype: float64"
      ]
     },
     "execution_count": 34,
     "metadata": {},
     "output_type": "execute_result"
    }
   ],
   "source": [
    "s4"
   ]
  },
  {
   "cell_type": "markdown",
   "metadata": {},
   "source": [
    "Or use the `fillna` method to replace them by a value"
   ]
  },
  {
   "cell_type": "code",
   "execution_count": 35,
   "metadata": {
    "collapsed": false
   },
   "outputs": [
    {
     "data": {
      "text/plain": [
       "a   -999.0\n",
       "b      3.0\n",
       "c      5.0\n",
       "d   -999.0\n",
       "dtype: float64"
      ]
     },
     "execution_count": 35,
     "metadata": {},
     "output_type": "execute_result"
    }
   ],
   "source": [
    "s3.fillna(-999)"
   ]
  },
  {
   "cell_type": "code",
   "execution_count": 36,
   "metadata": {
    "collapsed": false
   },
   "outputs": [
    {
     "data": {
      "text/plain": [
       "a    4.0\n",
       "b    3.0\n",
       "c    5.0\n",
       "d    4.0\n",
       "dtype: float64"
      ]
     },
     "execution_count": 36,
     "metadata": {},
     "output_type": "execute_result"
    }
   ],
   "source": [
    "s3.fillna(s3.mean())"
   ]
  },
  {
   "cell_type": "markdown",
   "metadata": {},
   "source": [
    "#### Series with a date / datetime index (timeseries)"
   ]
  },
  {
   "cell_type": "markdown",
   "metadata": {},
   "source": [
    "Series can have indexes representing dates / times "
   ]
  },
  {
   "cell_type": "code",
   "execution_count": 37,
   "metadata": {
    "collapsed": false
   },
   "outputs": [
    {
     "data": {
      "text/plain": [
       "b    0.124874\n",
       "c    1.103268\n",
       "d    0.458087\n",
       "e    0.918273\n",
       "Name: my series, dtype: float64"
      ]
     },
     "execution_count": 37,
     "metadata": {},
     "output_type": "execute_result"
    }
   ],
   "source": [
    "a"
   ]
  },
  {
   "cell_type": "code",
   "execution_count": 38,
   "metadata": {
    "collapsed": false
   },
   "outputs": [],
   "source": [
    "a.index = pd.date_range(start='2014-1-1', periods=len(a)) # default 'period' is daily"
   ]
  },
  {
   "cell_type": "code",
   "execution_count": 39,
   "metadata": {
    "collapsed": false
   },
   "outputs": [
    {
     "data": {
      "text/plain": [
       "2014-01-01    0.124874\n",
       "2014-01-02    1.103268\n",
       "2014-01-03    0.458087\n",
       "2014-01-04    0.918273\n",
       "Freq: D, Name: my series, dtype: float64"
      ]
     },
     "execution_count": 39,
     "metadata": {},
     "output_type": "execute_result"
    }
   ],
   "source": [
    "a.head()"
   ]
  },
  {
   "cell_type": "code",
   "execution_count": 40,
   "metadata": {
    "collapsed": false
   },
   "outputs": [
    {
     "data": {
      "text/plain": [
       "DatetimeIndex(['2014-01-01', '2014-01-02', '2014-01-03', '2014-01-04'], dtype='datetime64[ns]', freq='D')"
      ]
     },
     "execution_count": 40,
     "metadata": {},
     "output_type": "execute_result"
    }
   ],
   "source": [
    "a.index"
   ]
  },
  {
   "cell_type": "code",
   "execution_count": 41,
   "metadata": {
    "collapsed": false
   },
   "outputs": [],
   "source": [
    "### but you can convert it to an numpy array of python datetime objects if you want\n",
    "py_datetimes = a.index.to_pydatetime()"
   ]
  },
  {
   "cell_type": "code",
   "execution_count": 42,
   "metadata": {
    "collapsed": false
   },
   "outputs": [
    {
     "data": {
      "text/plain": [
       "array([datetime.datetime(2014, 1, 1, 0, 0),\n",
       "       datetime.datetime(2014, 1, 2, 0, 0),\n",
       "       datetime.datetime(2014, 1, 3, 0, 0),\n",
       "       datetime.datetime(2014, 1, 4, 0, 0)], dtype=object)"
      ]
     },
     "execution_count": 42,
     "metadata": {},
     "output_type": "execute_result"
    }
   ],
   "source": [
    "py_datetimes"
   ]
  },
  {
   "cell_type": "markdown",
   "metadata": {},
   "source": [
    "And a number of useful methods for manipulation of time series is exposed"
   ]
  },
  {
   "cell_type": "code",
   "execution_count": 48,
   "metadata": {
    "collapsed": false
   },
   "outputs": [
    {
     "data": {
      "text/plain": [
       "2014-01-01 00:00:00    0.124874\n",
       "2014-01-01 01:00:00    0.124874\n",
       "2014-01-01 02:00:00    0.124874\n",
       "2014-01-01 03:00:00    0.124874\n",
       "2014-01-01 04:00:00    0.124874\n",
       "Freq: H, Name: my series, dtype: float64"
      ]
     },
     "execution_count": 48,
     "metadata": {},
     "output_type": "execute_result"
    }
   ],
   "source": [
    "### resample daily time-series to 1 hour 'period', using forward filling method\n",
    "a.resample('1h').ffill().head()"
   ]
  },
  {
   "cell_type": "code",
   "execution_count": 49,
   "metadata": {
    "collapsed": false
   },
   "outputs": [
    {
     "data": {
      "text/plain": [
       "2014-01-01    0.124874\n",
       "2014-01-02    1.103268\n",
       "2014-01-03    0.458087\n",
       "2014-01-04    0.918273\n",
       "Freq: D, Name: my series, dtype: float64"
      ]
     },
     "execution_count": 49,
     "metadata": {},
     "output_type": "execute_result"
    }
   ],
   "source": [
    "a"
   ]
  },
  {
   "cell_type": "code",
   "execution_count": 50,
   "metadata": {
    "collapsed": false
   },
   "outputs": [
    {
     "data": {
      "text/plain": [
       "2014-01-01    1.103268\n",
       "2014-01-02    0.458087\n",
       "2014-01-03    0.918273\n",
       "2014-01-04         NaN\n",
       "Freq: D, Name: my series, dtype: float64"
      ]
     },
     "execution_count": 50,
     "metadata": {},
     "output_type": "execute_result"
    }
   ],
   "source": [
    "### the ```shift``` method makes it easy e.g. to compare series with lead / lags \n",
    "a.shift(periods=-1)"
   ]
  },
  {
   "cell_type": "code",
   "execution_count": 51,
   "metadata": {
    "collapsed": false
   },
   "outputs": [
    {
     "data": {
      "text/plain": [
       "2014-01-01    0.124874\n",
       "2014-01-02    1.103268\n",
       "2014-01-03    0.458087\n",
       "2014-01-04    0.918273\n",
       "Freq: D, Name: my series, dtype: float64"
      ]
     },
     "execution_count": 51,
     "metadata": {},
     "output_type": "execute_result"
    }
   ],
   "source": [
    "a"
   ]
  },
  {
   "cell_type": "code",
   "execution_count": 52,
   "metadata": {
    "collapsed": false
   },
   "outputs": [
    {
     "data": {
      "text/plain": [
       "2014-01-01    0.124874\n",
       "2014-01-02    1.103268\n",
       "Freq: D, Name: my series, dtype: float64"
      ]
     },
     "execution_count": 52,
     "metadata": {},
     "output_type": "execute_result"
    }
   ],
   "source": [
    "### and the ```truncate`` method allows easy selection of time-slices\n",
    "a.truncate(after='2014-1-2')"
   ]
  },
  {
   "cell_type": "markdown",
   "metadata": {},
   "source": [
    "### DataFrames"
   ]
  },
  {
   "cell_type": "markdown",
   "metadata": {},
   "source": [
    "**DataFrames** are IMHO one of the most powerful data structures in the Python / data analysis world. \n",
    "\n",
    "They can be viewed as a *collection* of named Series. They feature two **indexes**, respectively for the rows and the columns, and can contain heteregoneous data types (although it must be consistent *within* each column). \n",
    "Note that a DataFrame index, either along the rows or the columns (or both !) can contain more than one level, they are called **hierarchical indexes** and allows the representation of complex data organisation. \n",
    "\n",
    "If the index along the rows of a DataFrame is of **datetime** type, all the methods exposed for the Series (re-sampling, shifting, truncating, etc) are available for the DataFrame."
   ]
  },
  {
   "cell_type": "markdown",
   "metadata": {},
   "source": [
    "#### DataFrame constructions"
   ]
  },
  {
   "cell_type": "code",
   "execution_count": 54,
   "metadata": {
    "collapsed": false
   },
   "outputs": [
    {
     "name": "stdout",
     "output_type": "stream",
     "text": [
      "['a', 'b', 'c', 'd', 'e', 'f', 'g', 'h', 'i', 'j']\n"
     ]
    }
   ],
   "source": [
    "import string # part of the standard library\n",
    "idx = list(string.ascii_lowercase[0:10])\n",
    "print(idx)"
   ]
  },
  {
   "cell_type": "code",
   "execution_count": 55,
   "metadata": {
    "collapsed": false
   },
   "outputs": [],
   "source": [
    "df = pd.DataFrame(np.arange(100).reshape(10,10),\\\n",
    "                  columns=idx,index=np.arange(1,11))"
   ]
  },
  {
   "cell_type": "code",
   "execution_count": 56,
   "metadata": {
    "collapsed": false
   },
   "outputs": [
    {
     "data": {
      "text/html": [
       "<div>\n",
       "<table border=\"1\" class=\"dataframe\">\n",
       "  <thead>\n",
       "    <tr style=\"text-align: right;\">\n",
       "      <th></th>\n",
       "      <th>a</th>\n",
       "      <th>b</th>\n",
       "      <th>c</th>\n",
       "      <th>d</th>\n",
       "      <th>e</th>\n",
       "      <th>f</th>\n",
       "      <th>g</th>\n",
       "      <th>h</th>\n",
       "      <th>i</th>\n",
       "      <th>j</th>\n",
       "    </tr>\n",
       "  </thead>\n",
       "  <tbody>\n",
       "    <tr>\n",
       "      <th>1</th>\n",
       "      <td>0</td>\n",
       "      <td>1</td>\n",
       "      <td>2</td>\n",
       "      <td>3</td>\n",
       "      <td>4</td>\n",
       "      <td>5</td>\n",
       "      <td>6</td>\n",
       "      <td>7</td>\n",
       "      <td>8</td>\n",
       "      <td>9</td>\n",
       "    </tr>\n",
       "    <tr>\n",
       "      <th>2</th>\n",
       "      <td>10</td>\n",
       "      <td>11</td>\n",
       "      <td>12</td>\n",
       "      <td>13</td>\n",
       "      <td>14</td>\n",
       "      <td>15</td>\n",
       "      <td>16</td>\n",
       "      <td>17</td>\n",
       "      <td>18</td>\n",
       "      <td>19</td>\n",
       "    </tr>\n",
       "    <tr>\n",
       "      <th>3</th>\n",
       "      <td>20</td>\n",
       "      <td>21</td>\n",
       "      <td>22</td>\n",
       "      <td>23</td>\n",
       "      <td>24</td>\n",
       "      <td>25</td>\n",
       "      <td>26</td>\n",
       "      <td>27</td>\n",
       "      <td>28</td>\n",
       "      <td>29</td>\n",
       "    </tr>\n",
       "    <tr>\n",
       "      <th>4</th>\n",
       "      <td>30</td>\n",
       "      <td>31</td>\n",
       "      <td>32</td>\n",
       "      <td>33</td>\n",
       "      <td>34</td>\n",
       "      <td>35</td>\n",
       "      <td>36</td>\n",
       "      <td>37</td>\n",
       "      <td>38</td>\n",
       "      <td>39</td>\n",
       "    </tr>\n",
       "    <tr>\n",
       "      <th>5</th>\n",
       "      <td>40</td>\n",
       "      <td>41</td>\n",
       "      <td>42</td>\n",
       "      <td>43</td>\n",
       "      <td>44</td>\n",
       "      <td>45</td>\n",
       "      <td>46</td>\n",
       "      <td>47</td>\n",
       "      <td>48</td>\n",
       "      <td>49</td>\n",
       "    </tr>\n",
       "    <tr>\n",
       "      <th>6</th>\n",
       "      <td>50</td>\n",
       "      <td>51</td>\n",
       "      <td>52</td>\n",
       "      <td>53</td>\n",
       "      <td>54</td>\n",
       "      <td>55</td>\n",
       "      <td>56</td>\n",
       "      <td>57</td>\n",
       "      <td>58</td>\n",
       "      <td>59</td>\n",
       "    </tr>\n",
       "    <tr>\n",
       "      <th>7</th>\n",
       "      <td>60</td>\n",
       "      <td>61</td>\n",
       "      <td>62</td>\n",
       "      <td>63</td>\n",
       "      <td>64</td>\n",
       "      <td>65</td>\n",
       "      <td>66</td>\n",
       "      <td>67</td>\n",
       "      <td>68</td>\n",
       "      <td>69</td>\n",
       "    </tr>\n",
       "    <tr>\n",
       "      <th>8</th>\n",
       "      <td>70</td>\n",
       "      <td>71</td>\n",
       "      <td>72</td>\n",
       "      <td>73</td>\n",
       "      <td>74</td>\n",
       "      <td>75</td>\n",
       "      <td>76</td>\n",
       "      <td>77</td>\n",
       "      <td>78</td>\n",
       "      <td>79</td>\n",
       "    </tr>\n",
       "    <tr>\n",
       "      <th>9</th>\n",
       "      <td>80</td>\n",
       "      <td>81</td>\n",
       "      <td>82</td>\n",
       "      <td>83</td>\n",
       "      <td>84</td>\n",
       "      <td>85</td>\n",
       "      <td>86</td>\n",
       "      <td>87</td>\n",
       "      <td>88</td>\n",
       "      <td>89</td>\n",
       "    </tr>\n",
       "    <tr>\n",
       "      <th>10</th>\n",
       "      <td>90</td>\n",
       "      <td>91</td>\n",
       "      <td>92</td>\n",
       "      <td>93</td>\n",
       "      <td>94</td>\n",
       "      <td>95</td>\n",
       "      <td>96</td>\n",
       "      <td>97</td>\n",
       "      <td>98</td>\n",
       "      <td>99</td>\n",
       "    </tr>\n",
       "  </tbody>\n",
       "</table>\n",
       "</div>"
      ],
      "text/plain": [
       "     a   b   c   d   e   f   g   h   i   j\n",
       "1    0   1   2   3   4   5   6   7   8   9\n",
       "2   10  11  12  13  14  15  16  17  18  19\n",
       "3   20  21  22  23  24  25  26  27  28  29\n",
       "4   30  31  32  33  34  35  36  37  38  39\n",
       "5   40  41  42  43  44  45  46  47  48  49\n",
       "6   50  51  52  53  54  55  56  57  58  59\n",
       "7   60  61  62  63  64  65  66  67  68  69\n",
       "8   70  71  72  73  74  75  76  77  78  79\n",
       "9   80  81  82  83  84  85  86  87  88  89\n",
       "10  90  91  92  93  94  95  96  97  98  99"
      ]
     },
     "execution_count": 56,
     "metadata": {},
     "output_type": "execute_result"
    }
   ],
   "source": [
    "df"
   ]
  },
  {
   "cell_type": "code",
   "execution_count": 61,
   "metadata": {
    "collapsed": false
   },
   "outputs": [],
   "source": [
    "### here I am creating a DataFrame from a dictionnary\n",
    "\n",
    "df = pd.DataFrame({'a' : np.random.random(5),\\\n",
    "                   'b' : np.random.random(5),\\\n",
    "                   'c': np.random.random(5)}, index=np.arange(1,6))"
   ]
  },
  {
   "cell_type": "code",
   "execution_count": 62,
   "metadata": {
    "collapsed": false
   },
   "outputs": [
    {
     "data": {
      "text/html": [
       "<div>\n",
       "<table border=\"1\" class=\"dataframe\">\n",
       "  <thead>\n",
       "    <tr style=\"text-align: right;\">\n",
       "      <th></th>\n",
       "      <th>a</th>\n",
       "      <th>b</th>\n",
       "      <th>c</th>\n",
       "    </tr>\n",
       "  </thead>\n",
       "  <tbody>\n",
       "    <tr>\n",
       "      <th>1</th>\n",
       "      <td>0.653164</td>\n",
       "      <td>0.412884</td>\n",
       "      <td>0.152349</td>\n",
       "    </tr>\n",
       "    <tr>\n",
       "      <th>2</th>\n",
       "      <td>0.962469</td>\n",
       "      <td>0.849935</td>\n",
       "      <td>0.230913</td>\n",
       "    </tr>\n",
       "    <tr>\n",
       "      <th>3</th>\n",
       "      <td>0.028905</td>\n",
       "      <td>0.333779</td>\n",
       "      <td>0.613020</td>\n",
       "    </tr>\n",
       "    <tr>\n",
       "      <th>4</th>\n",
       "      <td>0.038971</td>\n",
       "      <td>0.512849</td>\n",
       "      <td>0.163867</td>\n",
       "    </tr>\n",
       "    <tr>\n",
       "      <th>5</th>\n",
       "      <td>0.111465</td>\n",
       "      <td>0.813810</td>\n",
       "      <td>0.520264</td>\n",
       "    </tr>\n",
       "  </tbody>\n",
       "</table>\n",
       "</div>"
      ],
      "text/plain": [
       "          a         b         c\n",
       "1  0.653164  0.412884  0.152349\n",
       "2  0.962469  0.849935  0.230913\n",
       "3  0.028905  0.333779  0.613020\n",
       "4  0.038971  0.512849  0.163867\n",
       "5  0.111465  0.813810  0.520264"
      ]
     },
     "execution_count": 62,
     "metadata": {},
     "output_type": "execute_result"
    }
   ],
   "source": [
    "df"
   ]
  },
  {
   "cell_type": "markdown",
   "metadata": {},
   "source": [
    "#### Indexing a DataFrame"
   ]
  },
  {
   "cell_type": "markdown",
   "metadata": {},
   "source": [
    "different ways, return either a Series or a DataFrame"
   ]
  },
  {
   "cell_type": "code",
   "execution_count": 63,
   "metadata": {
    "collapsed": false
   },
   "outputs": [
    {
     "data": {
      "text/html": [
       "<div>\n",
       "<table border=\"1\" class=\"dataframe\">\n",
       "  <thead>\n",
       "    <tr style=\"text-align: right;\">\n",
       "      <th></th>\n",
       "      <th>a</th>\n",
       "    </tr>\n",
       "  </thead>\n",
       "  <tbody>\n",
       "    <tr>\n",
       "      <th>1</th>\n",
       "      <td>0.653164</td>\n",
       "    </tr>\n",
       "    <tr>\n",
       "      <th>2</th>\n",
       "      <td>0.962469</td>\n",
       "    </tr>\n",
       "    <tr>\n",
       "      <th>3</th>\n",
       "      <td>0.028905</td>\n",
       "    </tr>\n",
       "    <tr>\n",
       "      <th>4</th>\n",
       "      <td>0.038971</td>\n",
       "    </tr>\n",
       "    <tr>\n",
       "      <th>5</th>\n",
       "      <td>0.111465</td>\n",
       "    </tr>\n",
       "  </tbody>\n",
       "</table>\n",
       "</div>"
      ],
      "text/plain": [
       "          a\n",
       "1  0.653164\n",
       "2  0.962469\n",
       "3  0.028905\n",
       "4  0.038971\n",
       "5  0.111465"
      ]
     },
     "execution_count": 63,
     "metadata": {},
     "output_type": "execute_result"
    }
   ],
   "source": [
    "df[['a']]"
   ]
  },
  {
   "cell_type": "code",
   "execution_count": 64,
   "metadata": {
    "collapsed": false
   },
   "outputs": [
    {
     "data": {
      "text/plain": [
       "pandas.core.series.Series"
      ]
     },
     "execution_count": 64,
     "metadata": {},
     "output_type": "execute_result"
    }
   ],
   "source": [
    "type(df['a']) "
   ]
  },
  {
   "cell_type": "code",
   "execution_count": 65,
   "metadata": {
    "collapsed": false
   },
   "outputs": [
    {
     "data": {
      "text/html": [
       "<div>\n",
       "<table border=\"1\" class=\"dataframe\">\n",
       "  <thead>\n",
       "    <tr style=\"text-align: right;\">\n",
       "      <th></th>\n",
       "      <th>a</th>\n",
       "    </tr>\n",
       "  </thead>\n",
       "  <tbody>\n",
       "    <tr>\n",
       "      <th>1</th>\n",
       "      <td>0.653164</td>\n",
       "    </tr>\n",
       "    <tr>\n",
       "      <th>2</th>\n",
       "      <td>0.962469</td>\n",
       "    </tr>\n",
       "    <tr>\n",
       "      <th>3</th>\n",
       "      <td>0.028905</td>\n",
       "    </tr>\n",
       "    <tr>\n",
       "      <th>4</th>\n",
       "      <td>0.038971</td>\n",
       "    </tr>\n",
       "    <tr>\n",
       "      <th>5</th>\n",
       "      <td>0.111465</td>\n",
       "    </tr>\n",
       "  </tbody>\n",
       "</table>\n",
       "</div>"
      ],
      "text/plain": [
       "          a\n",
       "1  0.653164\n",
       "2  0.962469\n",
       "3  0.028905\n",
       "4  0.038971\n",
       "5  0.111465"
      ]
     },
     "execution_count": 65,
     "metadata": {},
     "output_type": "execute_result"
    }
   ],
   "source": [
    "df[['a']]"
   ]
  },
  {
   "cell_type": "code",
   "execution_count": 66,
   "metadata": {
    "collapsed": false
   },
   "outputs": [
    {
     "data": {
      "text/plain": [
       "pandas.core.series.Series"
      ]
     },
     "execution_count": 66,
     "metadata": {},
     "output_type": "execute_result"
    }
   ],
   "source": [
    "type(df['a'])"
   ]
  },
  {
   "cell_type": "markdown",
   "metadata": {},
   "source": [
    "To access a particular *row* instead of a column, you use the *ix* method"
   ]
  },
  {
   "cell_type": "code",
   "execution_count": 67,
   "metadata": {
    "collapsed": false
   },
   "outputs": [
    {
     "data": {
      "text/html": [
       "<div>\n",
       "<table border=\"1\" class=\"dataframe\">\n",
       "  <thead>\n",
       "    <tr style=\"text-align: right;\">\n",
       "      <th></th>\n",
       "      <th>a</th>\n",
       "      <th>b</th>\n",
       "      <th>c</th>\n",
       "    </tr>\n",
       "  </thead>\n",
       "  <tbody>\n",
       "    <tr>\n",
       "      <th>1</th>\n",
       "      <td>0.653164</td>\n",
       "      <td>0.412884</td>\n",
       "      <td>0.152349</td>\n",
       "    </tr>\n",
       "    <tr>\n",
       "      <th>2</th>\n",
       "      <td>0.962469</td>\n",
       "      <td>0.849935</td>\n",
       "      <td>0.230913</td>\n",
       "    </tr>\n",
       "    <tr>\n",
       "      <th>3</th>\n",
       "      <td>0.028905</td>\n",
       "      <td>0.333779</td>\n",
       "      <td>0.613020</td>\n",
       "    </tr>\n",
       "    <tr>\n",
       "      <th>4</th>\n",
       "      <td>0.038971</td>\n",
       "      <td>0.512849</td>\n",
       "      <td>0.163867</td>\n",
       "    </tr>\n",
       "    <tr>\n",
       "      <th>5</th>\n",
       "      <td>0.111465</td>\n",
       "      <td>0.813810</td>\n",
       "      <td>0.520264</td>\n",
       "    </tr>\n",
       "  </tbody>\n",
       "</table>\n",
       "</div>"
      ],
      "text/plain": [
       "          a         b         c\n",
       "1  0.653164  0.412884  0.152349\n",
       "2  0.962469  0.849935  0.230913\n",
       "3  0.028905  0.333779  0.613020\n",
       "4  0.038971  0.512849  0.163867\n",
       "5  0.111465  0.813810  0.520264"
      ]
     },
     "execution_count": 67,
     "metadata": {},
     "output_type": "execute_result"
    }
   ],
   "source": [
    "df"
   ]
  },
  {
   "cell_type": "code",
   "execution_count": 68,
   "metadata": {
    "collapsed": false
   },
   "outputs": [
    {
     "data": {
      "text/plain": [
       "a    0.028905\n",
       "b    0.333779\n",
       "c    0.613020\n",
       "Name: 3, dtype: float64"
      ]
     },
     "execution_count": 68,
     "metadata": {},
     "output_type": "execute_result"
    }
   ],
   "source": [
    "df.ix[3]"
   ]
  },
  {
   "cell_type": "code",
   "execution_count": 69,
   "metadata": {
    "collapsed": false
   },
   "outputs": [
    {
     "data": {
      "text/html": [
       "<div>\n",
       "<table border=\"1\" class=\"dataframe\">\n",
       "  <thead>\n",
       "    <tr style=\"text-align: right;\">\n",
       "      <th></th>\n",
       "      <th>a</th>\n",
       "      <th>b</th>\n",
       "      <th>c</th>\n",
       "    </tr>\n",
       "  </thead>\n",
       "  <tbody>\n",
       "    <tr>\n",
       "      <th>1</th>\n",
       "      <td>0.653164</td>\n",
       "      <td>0.412884</td>\n",
       "      <td>0.152349</td>\n",
       "    </tr>\n",
       "    <tr>\n",
       "      <th>2</th>\n",
       "      <td>0.962469</td>\n",
       "      <td>0.849935</td>\n",
       "      <td>0.230913</td>\n",
       "    </tr>\n",
       "    <tr>\n",
       "      <th>3</th>\n",
       "      <td>0.028905</td>\n",
       "      <td>0.333779</td>\n",
       "      <td>0.613020</td>\n",
       "    </tr>\n",
       "    <tr>\n",
       "      <th>4</th>\n",
       "      <td>0.038971</td>\n",
       "      <td>0.512849</td>\n",
       "      <td>0.163867</td>\n",
       "    </tr>\n",
       "    <tr>\n",
       "      <th>5</th>\n",
       "      <td>0.111465</td>\n",
       "      <td>0.813810</td>\n",
       "      <td>0.520264</td>\n",
       "    </tr>\n",
       "  </tbody>\n",
       "</table>\n",
       "</div>"
      ],
      "text/plain": [
       "          a         b         c\n",
       "1  0.653164  0.412884  0.152349\n",
       "2  0.962469  0.849935  0.230913\n",
       "3  0.028905  0.333779  0.613020\n",
       "4  0.038971  0.512849  0.163867\n",
       "5  0.111465  0.813810  0.520264"
      ]
     },
     "execution_count": 69,
     "metadata": {},
     "output_type": "execute_result"
    }
   ],
   "source": [
    "df"
   ]
  },
  {
   "cell_type": "markdown",
   "metadata": {},
   "source": [
    "access values per **positional indices** only"
   ]
  },
  {
   "cell_type": "code",
   "execution_count": 70,
   "metadata": {
    "collapsed": false
   },
   "outputs": [
    {
     "data": {
      "text/plain": [
       "a    0.028905\n",
       "b    0.333779\n",
       "Name: 3, dtype: float64"
      ]
     },
     "execution_count": 70,
     "metadata": {},
     "output_type": "execute_result"
    }
   ],
   "source": [
    "df.iloc[2,0:2]"
   ]
  },
  {
   "cell_type": "code",
   "execution_count": 71,
   "metadata": {
    "collapsed": false
   },
   "outputs": [
    {
     "data": {
      "text/plain": [
       "pandas.core.series.Series"
      ]
     },
     "execution_count": 71,
     "metadata": {},
     "output_type": "execute_result"
    }
   ],
   "source": [
    "type(_)"
   ]
  },
  {
   "cell_type": "markdown",
   "metadata": {},
   "source": [
    "And you can combine of course row (with ix) and column indexing, using the same convention for slices as we saw for the Series "
   ]
  },
  {
   "cell_type": "code",
   "execution_count": 72,
   "metadata": {
    "collapsed": false
   },
   "outputs": [
    {
     "data": {
      "text/plain": [
       "a    0.028905\n",
       "b    0.333779\n",
       "Name: 3, dtype: float64"
      ]
     },
     "execution_count": 72,
     "metadata": {},
     "output_type": "execute_result"
    }
   ],
   "source": [
    "df.ix[3]['a':'b']"
   ]
  },
  {
   "cell_type": "code",
   "execution_count": 73,
   "metadata": {
    "collapsed": false
   },
   "outputs": [
    {
     "data": {
      "text/html": [
       "<div>\n",
       "<table border=\"1\" class=\"dataframe\">\n",
       "  <thead>\n",
       "    <tr style=\"text-align: right;\">\n",
       "      <th></th>\n",
       "      <th>a</th>\n",
       "      <th>c</th>\n",
       "    </tr>\n",
       "  </thead>\n",
       "  <tbody>\n",
       "    <tr>\n",
       "      <th>3</th>\n",
       "      <td>0.028905</td>\n",
       "      <td>0.613020</td>\n",
       "    </tr>\n",
       "    <tr>\n",
       "      <th>4</th>\n",
       "      <td>0.038971</td>\n",
       "      <td>0.163867</td>\n",
       "    </tr>\n",
       "    <tr>\n",
       "      <th>5</th>\n",
       "      <td>0.111465</td>\n",
       "      <td>0.520264</td>\n",
       "    </tr>\n",
       "  </tbody>\n",
       "</table>\n",
       "</div>"
      ],
      "text/plain": [
       "          a         c\n",
       "3  0.028905  0.613020\n",
       "4  0.038971  0.163867\n",
       "5  0.111465  0.520264"
      ]
     },
     "execution_count": 73,
     "metadata": {},
     "output_type": "execute_result"
    }
   ],
   "source": [
    "df.ix[3:5][['a','c']]"
   ]
  },
  {
   "cell_type": "markdown",
   "metadata": {},
   "source": [
    "you can also use the `loc` method, giving it both row **AND** columns indexes \n",
    "(the indexing is based on the *label*, **NOT** on the *position*)"
   ]
  },
  {
   "cell_type": "code",
   "execution_count": 74,
   "metadata": {
    "collapsed": false
   },
   "outputs": [
    {
     "data": {
      "text/html": [
       "<div>\n",
       "<table border=\"1\" class=\"dataframe\">\n",
       "  <thead>\n",
       "    <tr style=\"text-align: right;\">\n",
       "      <th></th>\n",
       "      <th>a</th>\n",
       "      <th>b</th>\n",
       "      <th>c</th>\n",
       "    </tr>\n",
       "  </thead>\n",
       "  <tbody>\n",
       "    <tr>\n",
       "      <th>1</th>\n",
       "      <td>0.653164</td>\n",
       "      <td>0.412884</td>\n",
       "      <td>0.152349</td>\n",
       "    </tr>\n",
       "    <tr>\n",
       "      <th>2</th>\n",
       "      <td>0.962469</td>\n",
       "      <td>0.849935</td>\n",
       "      <td>0.230913</td>\n",
       "    </tr>\n",
       "    <tr>\n",
       "      <th>3</th>\n",
       "      <td>0.028905</td>\n",
       "      <td>0.333779</td>\n",
       "      <td>0.613020</td>\n",
       "    </tr>\n",
       "    <tr>\n",
       "      <th>4</th>\n",
       "      <td>0.038971</td>\n",
       "      <td>0.512849</td>\n",
       "      <td>0.163867</td>\n",
       "    </tr>\n",
       "    <tr>\n",
       "      <th>5</th>\n",
       "      <td>0.111465</td>\n",
       "      <td>0.813810</td>\n",
       "      <td>0.520264</td>\n",
       "    </tr>\n",
       "  </tbody>\n",
       "</table>\n",
       "</div>"
      ],
      "text/plain": [
       "          a         b         c\n",
       "1  0.653164  0.412884  0.152349\n",
       "2  0.962469  0.849935  0.230913\n",
       "3  0.028905  0.333779  0.613020\n",
       "4  0.038971  0.512849  0.163867\n",
       "5  0.111465  0.813810  0.520264"
      ]
     },
     "execution_count": 74,
     "metadata": {},
     "output_type": "execute_result"
    }
   ],
   "source": [
    "df"
   ]
  },
  {
   "cell_type": "code",
   "execution_count": 75,
   "metadata": {
    "collapsed": false
   },
   "outputs": [
    {
     "data": {
      "text/html": [
       "<div>\n",
       "<table border=\"1\" class=\"dataframe\">\n",
       "  <thead>\n",
       "    <tr style=\"text-align: right;\">\n",
       "      <th></th>\n",
       "      <th>a</th>\n",
       "      <th>b</th>\n",
       "    </tr>\n",
       "  </thead>\n",
       "  <tbody>\n",
       "    <tr>\n",
       "      <th>3</th>\n",
       "      <td>0.028905</td>\n",
       "      <td>0.333779</td>\n",
       "    </tr>\n",
       "    <tr>\n",
       "      <th>5</th>\n",
       "      <td>0.111465</td>\n",
       "      <td>0.813810</td>\n",
       "    </tr>\n",
       "  </tbody>\n",
       "</table>\n",
       "</div>"
      ],
      "text/plain": [
       "          a         b\n",
       "3  0.028905  0.333779\n",
       "5  0.111465  0.813810"
      ]
     },
     "execution_count": 75,
     "metadata": {},
     "output_type": "execute_result"
    }
   ],
   "source": [
    "df.loc[[3,5],['a','b']]"
   ]
  },
  {
   "cell_type": "markdown",
   "metadata": {},
   "source": [
    "conditional indexing or subsetting of a DataFrame "
   ]
  },
  {
   "cell_type": "code",
   "execution_count": 76,
   "metadata": {
    "collapsed": false
   },
   "outputs": [
    {
     "data": {
      "text/html": [
       "<div>\n",
       "<table border=\"1\" class=\"dataframe\">\n",
       "  <thead>\n",
       "    <tr style=\"text-align: right;\">\n",
       "      <th></th>\n",
       "      <th>a</th>\n",
       "      <th>b</th>\n",
       "      <th>c</th>\n",
       "    </tr>\n",
       "  </thead>\n",
       "  <tbody>\n",
       "    <tr>\n",
       "      <th>1</th>\n",
       "      <td>0.653164</td>\n",
       "      <td>0.412884</td>\n",
       "      <td>0.152349</td>\n",
       "    </tr>\n",
       "    <tr>\n",
       "      <th>2</th>\n",
       "      <td>0.962469</td>\n",
       "      <td>0.849935</td>\n",
       "      <td>0.230913</td>\n",
       "    </tr>\n",
       "    <tr>\n",
       "      <th>3</th>\n",
       "      <td>0.028905</td>\n",
       "      <td>0.333779</td>\n",
       "      <td>0.613020</td>\n",
       "    </tr>\n",
       "    <tr>\n",
       "      <th>4</th>\n",
       "      <td>0.038971</td>\n",
       "      <td>0.512849</td>\n",
       "      <td>0.163867</td>\n",
       "    </tr>\n",
       "    <tr>\n",
       "      <th>5</th>\n",
       "      <td>0.111465</td>\n",
       "      <td>0.813810</td>\n",
       "      <td>0.520264</td>\n",
       "    </tr>\n",
       "  </tbody>\n",
       "</table>\n",
       "</div>"
      ],
      "text/plain": [
       "          a         b         c\n",
       "1  0.653164  0.412884  0.152349\n",
       "2  0.962469  0.849935  0.230913\n",
       "3  0.028905  0.333779  0.613020\n",
       "4  0.038971  0.512849  0.163867\n",
       "5  0.111465  0.813810  0.520264"
      ]
     },
     "execution_count": 76,
     "metadata": {},
     "output_type": "execute_result"
    }
   ],
   "source": [
    "df"
   ]
  },
  {
   "cell_type": "code",
   "execution_count": 77,
   "metadata": {
    "collapsed": false
   },
   "outputs": [
    {
     "data": {
      "text/html": [
       "<div>\n",
       "<table border=\"1\" class=\"dataframe\">\n",
       "  <thead>\n",
       "    <tr style=\"text-align: right;\">\n",
       "      <th></th>\n",
       "      <th>a</th>\n",
       "      <th>b</th>\n",
       "      <th>c</th>\n",
       "    </tr>\n",
       "  </thead>\n",
       "  <tbody>\n",
       "    <tr>\n",
       "      <th>1</th>\n",
       "      <td>0.653164</td>\n",
       "      <td>0.412884</td>\n",
       "      <td>0.152349</td>\n",
       "    </tr>\n",
       "    <tr>\n",
       "      <th>2</th>\n",
       "      <td>0.962469</td>\n",
       "      <td>0.849935</td>\n",
       "      <td>0.230913</td>\n",
       "    </tr>\n",
       "    <tr>\n",
       "      <th>3</th>\n",
       "      <td>0.028905</td>\n",
       "      <td>0.333779</td>\n",
       "      <td>0.613020</td>\n",
       "    </tr>\n",
       "    <tr>\n",
       "      <th>4</th>\n",
       "      <td>0.038971</td>\n",
       "      <td>0.512849</td>\n",
       "      <td>0.163867</td>\n",
       "    </tr>\n",
       "    <tr>\n",
       "      <th>5</th>\n",
       "      <td>0.111465</td>\n",
       "      <td>0.813810</td>\n",
       "      <td>0.520264</td>\n",
       "    </tr>\n",
       "  </tbody>\n",
       "</table>\n",
       "</div>"
      ],
      "text/plain": [
       "          a         b         c\n",
       "1  0.653164  0.412884  0.152349\n",
       "2  0.962469  0.849935  0.230913\n",
       "3  0.028905  0.333779  0.613020\n",
       "4  0.038971  0.512849  0.163867\n",
       "5  0.111465  0.813810  0.520264"
      ]
     },
     "execution_count": 77,
     "metadata": {},
     "output_type": "execute_result"
    }
   ],
   "source": [
    "df"
   ]
  },
  {
   "cell_type": "code",
   "execution_count": 78,
   "metadata": {
    "collapsed": false
   },
   "outputs": [],
   "source": [
    "subset = df[df['a'] <= 0.4]"
   ]
  },
  {
   "cell_type": "code",
   "execution_count": 79,
   "metadata": {
    "collapsed": false
   },
   "outputs": [
    {
     "data": {
      "text/html": [
       "<div>\n",
       "<table border=\"1\" class=\"dataframe\">\n",
       "  <thead>\n",
       "    <tr style=\"text-align: right;\">\n",
       "      <th></th>\n",
       "      <th>a</th>\n",
       "      <th>b</th>\n",
       "      <th>c</th>\n",
       "    </tr>\n",
       "  </thead>\n",
       "  <tbody>\n",
       "    <tr>\n",
       "      <th>3</th>\n",
       "      <td>0.028905</td>\n",
       "      <td>0.333779</td>\n",
       "      <td>0.613020</td>\n",
       "    </tr>\n",
       "    <tr>\n",
       "      <th>4</th>\n",
       "      <td>0.038971</td>\n",
       "      <td>0.512849</td>\n",
       "      <td>0.163867</td>\n",
       "    </tr>\n",
       "    <tr>\n",
       "      <th>5</th>\n",
       "      <td>0.111465</td>\n",
       "      <td>0.813810</td>\n",
       "      <td>0.520264</td>\n",
       "    </tr>\n",
       "  </tbody>\n",
       "</table>\n",
       "</div>"
      ],
      "text/plain": [
       "          a         b         c\n",
       "3  0.028905  0.333779  0.613020\n",
       "4  0.038971  0.512849  0.163867\n",
       "5  0.111465  0.813810  0.520264"
      ]
     },
     "execution_count": 79,
     "metadata": {},
     "output_type": "execute_result"
    }
   ],
   "source": [
    "subset"
   ]
  },
  {
   "cell_type": "markdown",
   "metadata": {},
   "source": [
    "#### queries"
   ]
  },
  {
   "cell_type": "markdown",
   "metadata": {},
   "source": [
    "as from Pandas version 0.14, you can build complex *database-like* queries on DataFrames"
   ]
  },
  {
   "cell_type": "code",
   "execution_count": 80,
   "metadata": {
    "collapsed": false
   },
   "outputs": [
    {
     "data": {
      "text/html": [
       "<div>\n",
       "<table border=\"1\" class=\"dataframe\">\n",
       "  <thead>\n",
       "    <tr style=\"text-align: right;\">\n",
       "      <th></th>\n",
       "      <th>a</th>\n",
       "      <th>b</th>\n",
       "      <th>c</th>\n",
       "    </tr>\n",
       "  </thead>\n",
       "  <tbody>\n",
       "    <tr>\n",
       "      <th>1</th>\n",
       "      <td>0.653164</td>\n",
       "      <td>0.412884</td>\n",
       "      <td>0.152349</td>\n",
       "    </tr>\n",
       "    <tr>\n",
       "      <th>2</th>\n",
       "      <td>0.962469</td>\n",
       "      <td>0.849935</td>\n",
       "      <td>0.230913</td>\n",
       "    </tr>\n",
       "    <tr>\n",
       "      <th>3</th>\n",
       "      <td>0.028905</td>\n",
       "      <td>0.333779</td>\n",
       "      <td>0.613020</td>\n",
       "    </tr>\n",
       "    <tr>\n",
       "      <th>4</th>\n",
       "      <td>0.038971</td>\n",
       "      <td>0.512849</td>\n",
       "      <td>0.163867</td>\n",
       "    </tr>\n",
       "    <tr>\n",
       "      <th>5</th>\n",
       "      <td>0.111465</td>\n",
       "      <td>0.813810</td>\n",
       "      <td>0.520264</td>\n",
       "    </tr>\n",
       "  </tbody>\n",
       "</table>\n",
       "</div>"
      ],
      "text/plain": [
       "          a         b         c\n",
       "1  0.653164  0.412884  0.152349\n",
       "2  0.962469  0.849935  0.230913\n",
       "3  0.028905  0.333779  0.613020\n",
       "4  0.038971  0.512849  0.163867\n",
       "5  0.111465  0.813810  0.520264"
      ]
     },
     "execution_count": 80,
     "metadata": {},
     "output_type": "execute_result"
    }
   ],
   "source": [
    "df"
   ]
  },
  {
   "cell_type": "code",
   "execution_count": 81,
   "metadata": {
    "collapsed": false
   },
   "outputs": [
    {
     "data": {
      "text/html": [
       "<div>\n",
       "<table border=\"1\" class=\"dataframe\">\n",
       "  <thead>\n",
       "    <tr style=\"text-align: right;\">\n",
       "      <th></th>\n",
       "      <th>a</th>\n",
       "      <th>b</th>\n",
       "      <th>c</th>\n",
       "    </tr>\n",
       "  </thead>\n",
       "  <tbody>\n",
       "    <tr>\n",
       "      <th>1</th>\n",
       "      <td>0.653164</td>\n",
       "      <td>0.412884</td>\n",
       "      <td>0.152349</td>\n",
       "    </tr>\n",
       "    <tr>\n",
       "      <th>2</th>\n",
       "      <td>0.962469</td>\n",
       "      <td>0.849935</td>\n",
       "      <td>0.230913</td>\n",
       "    </tr>\n",
       "  </tbody>\n",
       "</table>\n",
       "</div>"
      ],
      "text/plain": [
       "          a         b         c\n",
       "1  0.653164  0.412884  0.152349\n",
       "2  0.962469  0.849935  0.230913"
      ]
     },
     "execution_count": 81,
     "metadata": {},
     "output_type": "execute_result"
    }
   ],
   "source": [
    "df.query('a > b')"
   ]
  },
  {
   "cell_type": "code",
   "execution_count": 82,
   "metadata": {
    "collapsed": false
   },
   "outputs": [
    {
     "data": {
      "text/html": [
       "<div>\n",
       "<table border=\"1\" class=\"dataframe\">\n",
       "  <thead>\n",
       "    <tr style=\"text-align: right;\">\n",
       "      <th></th>\n",
       "      <th>a</th>\n",
       "      <th>b</th>\n",
       "      <th>c</th>\n",
       "    </tr>\n",
       "  </thead>\n",
       "  <tbody>\n",
       "    <tr>\n",
       "      <th>1</th>\n",
       "      <td>0.653164</td>\n",
       "      <td>0.412884</td>\n",
       "      <td>0.152349</td>\n",
       "    </tr>\n",
       "    <tr>\n",
       "      <th>2</th>\n",
       "      <td>0.962469</td>\n",
       "      <td>0.849935</td>\n",
       "      <td>0.230913</td>\n",
       "    </tr>\n",
       "  </tbody>\n",
       "</table>\n",
       "</div>"
      ],
      "text/plain": [
       "          a         b         c\n",
       "1  0.653164  0.412884  0.152349\n",
       "2  0.962469  0.849935  0.230913"
      ]
     },
     "execution_count": 82,
     "metadata": {},
     "output_type": "execute_result"
    }
   ],
   "source": [
    "df.query('(a > b) & (b > c)')"
   ]
  },
  {
   "cell_type": "markdown",
   "metadata": {},
   "source": [
    "#### Extending a DataFrame"
   ]
  },
  {
   "cell_type": "markdown",
   "metadata": {},
   "source": [
    "Adding a column is easy "
   ]
  },
  {
   "cell_type": "code",
   "execution_count": 83,
   "metadata": {
    "collapsed": false
   },
   "outputs": [
    {
     "data": {
      "text/html": [
       "<div>\n",
       "<table border=\"1\" class=\"dataframe\">\n",
       "  <thead>\n",
       "    <tr style=\"text-align: right;\">\n",
       "      <th></th>\n",
       "      <th>a</th>\n",
       "      <th>b</th>\n",
       "      <th>c</th>\n",
       "    </tr>\n",
       "  </thead>\n",
       "  <tbody>\n",
       "    <tr>\n",
       "      <th>1</th>\n",
       "      <td>0.653164</td>\n",
       "      <td>0.412884</td>\n",
       "      <td>0.152349</td>\n",
       "    </tr>\n",
       "    <tr>\n",
       "      <th>2</th>\n",
       "      <td>0.962469</td>\n",
       "      <td>0.849935</td>\n",
       "      <td>0.230913</td>\n",
       "    </tr>\n",
       "    <tr>\n",
       "      <th>3</th>\n",
       "      <td>0.028905</td>\n",
       "      <td>0.333779</td>\n",
       "      <td>0.613020</td>\n",
       "    </tr>\n",
       "    <tr>\n",
       "      <th>4</th>\n",
       "      <td>0.038971</td>\n",
       "      <td>0.512849</td>\n",
       "      <td>0.163867</td>\n",
       "    </tr>\n",
       "    <tr>\n",
       "      <th>5</th>\n",
       "      <td>0.111465</td>\n",
       "      <td>0.813810</td>\n",
       "      <td>0.520264</td>\n",
       "    </tr>\n",
       "  </tbody>\n",
       "</table>\n",
       "</div>"
      ],
      "text/plain": [
       "          a         b         c\n",
       "1  0.653164  0.412884  0.152349\n",
       "2  0.962469  0.849935  0.230913\n",
       "3  0.028905  0.333779  0.613020\n",
       "4  0.038971  0.512849  0.163867\n",
       "5  0.111465  0.813810  0.520264"
      ]
     },
     "execution_count": 83,
     "metadata": {},
     "output_type": "execute_result"
    }
   ],
   "source": [
    "df"
   ]
  },
  {
   "cell_type": "code",
   "execution_count": 84,
   "metadata": {
    "collapsed": false
   },
   "outputs": [],
   "source": [
    "df['d'] = np.random.random(5)"
   ]
  },
  {
   "cell_type": "code",
   "execution_count": 85,
   "metadata": {
    "collapsed": false
   },
   "outputs": [
    {
     "data": {
      "text/html": [
       "<div>\n",
       "<table border=\"1\" class=\"dataframe\">\n",
       "  <thead>\n",
       "    <tr style=\"text-align: right;\">\n",
       "      <th></th>\n",
       "      <th>a</th>\n",
       "      <th>b</th>\n",
       "      <th>c</th>\n",
       "      <th>d</th>\n",
       "    </tr>\n",
       "  </thead>\n",
       "  <tbody>\n",
       "    <tr>\n",
       "      <th>1</th>\n",
       "      <td>0.653164</td>\n",
       "      <td>0.412884</td>\n",
       "      <td>0.152349</td>\n",
       "      <td>0.426597</td>\n",
       "    </tr>\n",
       "    <tr>\n",
       "      <th>2</th>\n",
       "      <td>0.962469</td>\n",
       "      <td>0.849935</td>\n",
       "      <td>0.230913</td>\n",
       "      <td>0.246311</td>\n",
       "    </tr>\n",
       "    <tr>\n",
       "      <th>3</th>\n",
       "      <td>0.028905</td>\n",
       "      <td>0.333779</td>\n",
       "      <td>0.613020</td>\n",
       "      <td>0.581089</td>\n",
       "    </tr>\n",
       "    <tr>\n",
       "      <th>4</th>\n",
       "      <td>0.038971</td>\n",
       "      <td>0.512849</td>\n",
       "      <td>0.163867</td>\n",
       "      <td>0.508902</td>\n",
       "    </tr>\n",
       "    <tr>\n",
       "      <th>5</th>\n",
       "      <td>0.111465</td>\n",
       "      <td>0.813810</td>\n",
       "      <td>0.520264</td>\n",
       "      <td>0.908871</td>\n",
       "    </tr>\n",
       "  </tbody>\n",
       "</table>\n",
       "</div>"
      ],
      "text/plain": [
       "          a         b         c         d\n",
       "1  0.653164  0.412884  0.152349  0.426597\n",
       "2  0.962469  0.849935  0.230913  0.246311\n",
       "3  0.028905  0.333779  0.613020  0.581089\n",
       "4  0.038971  0.512849  0.163867  0.508902\n",
       "5  0.111465  0.813810  0.520264  0.908871"
      ]
     },
     "execution_count": 85,
     "metadata": {},
     "output_type": "execute_result"
    }
   ],
   "source": [
    "df"
   ]
  },
  {
   "cell_type": "markdown",
   "metadata": {},
   "source": [
    "The following works because Pandas understands that a single value must be repeated over the row length"
   ]
  },
  {
   "cell_type": "code",
   "execution_count": 86,
   "metadata": {
    "collapsed": false
   },
   "outputs": [],
   "source": [
    "df['e'] = 5"
   ]
  },
  {
   "cell_type": "code",
   "execution_count": 87,
   "metadata": {
    "collapsed": false
   },
   "outputs": [
    {
     "data": {
      "text/html": [
       "<div>\n",
       "<table border=\"1\" class=\"dataframe\">\n",
       "  <thead>\n",
       "    <tr style=\"text-align: right;\">\n",
       "      <th></th>\n",
       "      <th>a</th>\n",
       "      <th>b</th>\n",
       "      <th>c</th>\n",
       "      <th>d</th>\n",
       "      <th>e</th>\n",
       "    </tr>\n",
       "  </thead>\n",
       "  <tbody>\n",
       "    <tr>\n",
       "      <th>1</th>\n",
       "      <td>0.653164</td>\n",
       "      <td>0.412884</td>\n",
       "      <td>0.152349</td>\n",
       "      <td>0.426597</td>\n",
       "      <td>5</td>\n",
       "    </tr>\n",
       "    <tr>\n",
       "      <th>2</th>\n",
       "      <td>0.962469</td>\n",
       "      <td>0.849935</td>\n",
       "      <td>0.230913</td>\n",
       "      <td>0.246311</td>\n",
       "      <td>5</td>\n",
       "    </tr>\n",
       "    <tr>\n",
       "      <th>3</th>\n",
       "      <td>0.028905</td>\n",
       "      <td>0.333779</td>\n",
       "      <td>0.613020</td>\n",
       "      <td>0.581089</td>\n",
       "      <td>5</td>\n",
       "    </tr>\n",
       "    <tr>\n",
       "      <th>4</th>\n",
       "      <td>0.038971</td>\n",
       "      <td>0.512849</td>\n",
       "      <td>0.163867</td>\n",
       "      <td>0.508902</td>\n",
       "      <td>5</td>\n",
       "    </tr>\n",
       "    <tr>\n",
       "      <th>5</th>\n",
       "      <td>0.111465</td>\n",
       "      <td>0.813810</td>\n",
       "      <td>0.520264</td>\n",
       "      <td>0.908871</td>\n",
       "      <td>5</td>\n",
       "    </tr>\n",
       "  </tbody>\n",
       "</table>\n",
       "</div>"
      ],
      "text/plain": [
       "          a         b         c         d  e\n",
       "1  0.653164  0.412884  0.152349  0.426597  5\n",
       "2  0.962469  0.849935  0.230913  0.246311  5\n",
       "3  0.028905  0.333779  0.613020  0.581089  5\n",
       "4  0.038971  0.512849  0.163867  0.508902  5\n",
       "5  0.111465  0.813810  0.520264  0.908871  5"
      ]
     },
     "execution_count": 87,
     "metadata": {},
     "output_type": "execute_result"
    }
   ],
   "source": [
    "df"
   ]
  },
  {
   "cell_type": "markdown",
   "metadata": {},
   "source": [
    "The following doesn't work because there's no way to tell **where** to insert the missing value (align to 1st or last index ?)"
   ]
  },
  {
   "cell_type": "code",
   "execution_count": 88,
   "metadata": {
    "collapsed": false
   },
   "outputs": [
    {
     "ename": "ValueError",
     "evalue": "Length of values does not match length of index",
     "output_type": "error",
     "traceback": [
      "\u001b[0;31m---------------------------------------------------------------------------\u001b[0m",
      "\u001b[0;31mValueError\u001b[0m                                Traceback (most recent call last)",
      "\u001b[0;32m<ipython-input-88-840e6680bd18>\u001b[0m in \u001b[0;36m<module>\u001b[0;34m()\u001b[0m\n\u001b[0;32m----> 1\u001b[0;31m \u001b[0mdf\u001b[0m\u001b[0;34m[\u001b[0m\u001b[0;34m'f'\u001b[0m\u001b[0;34m]\u001b[0m \u001b[0;34m=\u001b[0m \u001b[0mnp\u001b[0m\u001b[0;34m.\u001b[0m\u001b[0mrandom\u001b[0m\u001b[0;34m.\u001b[0m\u001b[0mrandom\u001b[0m\u001b[0;34m(\u001b[0m\u001b[0;36m4\u001b[0m\u001b[0;34m)\u001b[0m\u001b[0;34m\u001b[0m\u001b[0m\n\u001b[0m",
      "\u001b[0;32m/Users/nicolasf/anaconda/anaconda/lib/python3.5/site-packages/pandas/core/frame.py\u001b[0m in \u001b[0;36m__setitem__\u001b[0;34m(self, key, value)\u001b[0m\n\u001b[1;32m   2346\u001b[0m         \u001b[0;32melse\u001b[0m\u001b[0;34m:\u001b[0m\u001b[0;34m\u001b[0m\u001b[0m\n\u001b[1;32m   2347\u001b[0m             \u001b[0;31m# set column\u001b[0m\u001b[0;34m\u001b[0m\u001b[0;34m\u001b[0m\u001b[0m\n\u001b[0;32m-> 2348\u001b[0;31m             \u001b[0mself\u001b[0m\u001b[0;34m.\u001b[0m\u001b[0m_set_item\u001b[0m\u001b[0;34m(\u001b[0m\u001b[0mkey\u001b[0m\u001b[0;34m,\u001b[0m \u001b[0mvalue\u001b[0m\u001b[0;34m)\u001b[0m\u001b[0;34m\u001b[0m\u001b[0m\n\u001b[0m\u001b[1;32m   2349\u001b[0m \u001b[0;34m\u001b[0m\u001b[0m\n\u001b[1;32m   2350\u001b[0m     \u001b[0;32mdef\u001b[0m \u001b[0m_setitem_slice\u001b[0m\u001b[0;34m(\u001b[0m\u001b[0mself\u001b[0m\u001b[0;34m,\u001b[0m \u001b[0mkey\u001b[0m\u001b[0;34m,\u001b[0m \u001b[0mvalue\u001b[0m\u001b[0;34m)\u001b[0m\u001b[0;34m:\u001b[0m\u001b[0;34m\u001b[0m\u001b[0m\n",
      "\u001b[0;32m/Users/nicolasf/anaconda/anaconda/lib/python3.5/site-packages/pandas/core/frame.py\u001b[0m in \u001b[0;36m_set_item\u001b[0;34m(self, key, value)\u001b[0m\n\u001b[1;32m   2412\u001b[0m \u001b[0;34m\u001b[0m\u001b[0m\n\u001b[1;32m   2413\u001b[0m         \u001b[0mself\u001b[0m\u001b[0;34m.\u001b[0m\u001b[0m_ensure_valid_index\u001b[0m\u001b[0;34m(\u001b[0m\u001b[0mvalue\u001b[0m\u001b[0;34m)\u001b[0m\u001b[0;34m\u001b[0m\u001b[0m\n\u001b[0;32m-> 2414\u001b[0;31m         \u001b[0mvalue\u001b[0m \u001b[0;34m=\u001b[0m \u001b[0mself\u001b[0m\u001b[0;34m.\u001b[0m\u001b[0m_sanitize_column\u001b[0m\u001b[0;34m(\u001b[0m\u001b[0mkey\u001b[0m\u001b[0;34m,\u001b[0m \u001b[0mvalue\u001b[0m\u001b[0;34m)\u001b[0m\u001b[0;34m\u001b[0m\u001b[0m\n\u001b[0m\u001b[1;32m   2415\u001b[0m         \u001b[0mNDFrame\u001b[0m\u001b[0;34m.\u001b[0m\u001b[0m_set_item\u001b[0m\u001b[0;34m(\u001b[0m\u001b[0mself\u001b[0m\u001b[0;34m,\u001b[0m \u001b[0mkey\u001b[0m\u001b[0;34m,\u001b[0m \u001b[0mvalue\u001b[0m\u001b[0;34m)\u001b[0m\u001b[0;34m\u001b[0m\u001b[0m\n\u001b[1;32m   2416\u001b[0m \u001b[0;34m\u001b[0m\u001b[0m\n",
      "\u001b[0;32m/Users/nicolasf/anaconda/anaconda/lib/python3.5/site-packages/pandas/core/frame.py\u001b[0m in \u001b[0;36m_sanitize_column\u001b[0;34m(self, key, value)\u001b[0m\n\u001b[1;32m   2570\u001b[0m \u001b[0;34m\u001b[0m\u001b[0m\n\u001b[1;32m   2571\u001b[0m             \u001b[0;31m# turn me into an ndarray\u001b[0m\u001b[0;34m\u001b[0m\u001b[0;34m\u001b[0m\u001b[0m\n\u001b[0;32m-> 2572\u001b[0;31m             \u001b[0mvalue\u001b[0m \u001b[0;34m=\u001b[0m \u001b[0m_sanitize_index\u001b[0m\u001b[0;34m(\u001b[0m\u001b[0mvalue\u001b[0m\u001b[0;34m,\u001b[0m \u001b[0mself\u001b[0m\u001b[0;34m.\u001b[0m\u001b[0mindex\u001b[0m\u001b[0;34m,\u001b[0m \u001b[0mcopy\u001b[0m\u001b[0;34m=\u001b[0m\u001b[0;32mFalse\u001b[0m\u001b[0;34m)\u001b[0m\u001b[0;34m\u001b[0m\u001b[0m\n\u001b[0m\u001b[1;32m   2573\u001b[0m             \u001b[0;32mif\u001b[0m \u001b[0;32mnot\u001b[0m \u001b[0misinstance\u001b[0m\u001b[0;34m(\u001b[0m\u001b[0mvalue\u001b[0m\u001b[0;34m,\u001b[0m \u001b[0;34m(\u001b[0m\u001b[0mnp\u001b[0m\u001b[0;34m.\u001b[0m\u001b[0mndarray\u001b[0m\u001b[0;34m,\u001b[0m \u001b[0mIndex\u001b[0m\u001b[0;34m)\u001b[0m\u001b[0;34m)\u001b[0m\u001b[0;34m:\u001b[0m\u001b[0;34m\u001b[0m\u001b[0m\n\u001b[1;32m   2574\u001b[0m                 \u001b[0;32mif\u001b[0m \u001b[0misinstance\u001b[0m\u001b[0;34m(\u001b[0m\u001b[0mvalue\u001b[0m\u001b[0;34m,\u001b[0m \u001b[0mlist\u001b[0m\u001b[0;34m)\u001b[0m \u001b[0;32mand\u001b[0m \u001b[0mlen\u001b[0m\u001b[0;34m(\u001b[0m\u001b[0mvalue\u001b[0m\u001b[0;34m)\u001b[0m \u001b[0;34m>\u001b[0m \u001b[0;36m0\u001b[0m\u001b[0;34m:\u001b[0m\u001b[0;34m\u001b[0m\u001b[0m\n",
      "\u001b[0;32m/Users/nicolasf/anaconda/anaconda/lib/python3.5/site-packages/pandas/core/series.py\u001b[0m in \u001b[0;36m_sanitize_index\u001b[0;34m(data, index, copy)\u001b[0m\n\u001b[1;32m   2819\u001b[0m \u001b[0;34m\u001b[0m\u001b[0m\n\u001b[1;32m   2820\u001b[0m     \u001b[0;32mif\u001b[0m \u001b[0mlen\u001b[0m\u001b[0;34m(\u001b[0m\u001b[0mdata\u001b[0m\u001b[0;34m)\u001b[0m \u001b[0;34m!=\u001b[0m \u001b[0mlen\u001b[0m\u001b[0;34m(\u001b[0m\u001b[0mindex\u001b[0m\u001b[0;34m)\u001b[0m\u001b[0;34m:\u001b[0m\u001b[0;34m\u001b[0m\u001b[0m\n\u001b[0;32m-> 2821\u001b[0;31m         \u001b[0;32mraise\u001b[0m \u001b[0mValueError\u001b[0m\u001b[0;34m(\u001b[0m\u001b[0;34m'Length of values does not match length of '\u001b[0m \u001b[0;34m'index'\u001b[0m\u001b[0;34m)\u001b[0m\u001b[0;34m\u001b[0m\u001b[0m\n\u001b[0m\u001b[1;32m   2822\u001b[0m \u001b[0;34m\u001b[0m\u001b[0m\n\u001b[1;32m   2823\u001b[0m     \u001b[0;32mif\u001b[0m \u001b[0misinstance\u001b[0m\u001b[0;34m(\u001b[0m\u001b[0mdata\u001b[0m\u001b[0;34m,\u001b[0m \u001b[0mPeriodIndex\u001b[0m\u001b[0;34m)\u001b[0m\u001b[0;34m:\u001b[0m\u001b[0;34m\u001b[0m\u001b[0m\n",
      "\u001b[0;31mValueError\u001b[0m: Length of values does not match length of index"
     ]
    }
   ],
   "source": [
    "df['f'] = np.random.random(4)"
   ]
  },
  {
   "cell_type": "markdown",
   "metadata": {},
   "source": [
    "Unless we make a series out of it, with a index matching at least partly the DataFrame (row) index"
   ]
  },
  {
   "cell_type": "code",
   "execution_count": 89,
   "metadata": {
    "collapsed": false
   },
   "outputs": [],
   "source": [
    "df['f'] = pd.Series(np.random.random(4), index=np.arange(1,5)) #"
   ]
  },
  {
   "cell_type": "code",
   "execution_count": 90,
   "metadata": {
    "collapsed": false
   },
   "outputs": [
    {
     "data": {
      "text/html": [
       "<div>\n",
       "<table border=\"1\" class=\"dataframe\">\n",
       "  <thead>\n",
       "    <tr style=\"text-align: right;\">\n",
       "      <th></th>\n",
       "      <th>a</th>\n",
       "      <th>b</th>\n",
       "      <th>c</th>\n",
       "      <th>d</th>\n",
       "      <th>e</th>\n",
       "      <th>f</th>\n",
       "    </tr>\n",
       "  </thead>\n",
       "  <tbody>\n",
       "    <tr>\n",
       "      <th>1</th>\n",
       "      <td>0.653164</td>\n",
       "      <td>0.412884</td>\n",
       "      <td>0.152349</td>\n",
       "      <td>0.426597</td>\n",
       "      <td>5</td>\n",
       "      <td>0.688023</td>\n",
       "    </tr>\n",
       "    <tr>\n",
       "      <th>2</th>\n",
       "      <td>0.962469</td>\n",
       "      <td>0.849935</td>\n",
       "      <td>0.230913</td>\n",
       "      <td>0.246311</td>\n",
       "      <td>5</td>\n",
       "      <td>0.015322</td>\n",
       "    </tr>\n",
       "    <tr>\n",
       "      <th>3</th>\n",
       "      <td>0.028905</td>\n",
       "      <td>0.333779</td>\n",
       "      <td>0.613020</td>\n",
       "      <td>0.581089</td>\n",
       "      <td>5</td>\n",
       "      <td>0.012792</td>\n",
       "    </tr>\n",
       "    <tr>\n",
       "      <th>4</th>\n",
       "      <td>0.038971</td>\n",
       "      <td>0.512849</td>\n",
       "      <td>0.163867</td>\n",
       "      <td>0.508902</td>\n",
       "      <td>5</td>\n",
       "      <td>0.049240</td>\n",
       "    </tr>\n",
       "    <tr>\n",
       "      <th>5</th>\n",
       "      <td>0.111465</td>\n",
       "      <td>0.813810</td>\n",
       "      <td>0.520264</td>\n",
       "      <td>0.908871</td>\n",
       "      <td>5</td>\n",
       "      <td>NaN</td>\n",
       "    </tr>\n",
       "  </tbody>\n",
       "</table>\n",
       "</div>"
      ],
      "text/plain": [
       "          a         b         c         d  e         f\n",
       "1  0.653164  0.412884  0.152349  0.426597  5  0.688023\n",
       "2  0.962469  0.849935  0.230913  0.246311  5  0.015322\n",
       "3  0.028905  0.333779  0.613020  0.581089  5  0.012792\n",
       "4  0.038971  0.512849  0.163867  0.508902  5  0.049240\n",
       "5  0.111465  0.813810  0.520264  0.908871  5       NaN"
      ]
     },
     "execution_count": 90,
     "metadata": {},
     "output_type": "execute_result"
    }
   ],
   "source": [
    "df"
   ]
  },
  {
   "cell_type": "markdown",
   "metadata": {},
   "source": [
    "#### Useful DataFrames methods"
   ]
  },
  {
   "cell_type": "markdown",
   "metadata": {},
   "source": [
    "##### applying a numpy function"
   ]
  },
  {
   "cell_type": "code",
   "execution_count": 91,
   "metadata": {
    "collapsed": false
   },
   "outputs": [
    {
     "data": {
      "text/html": [
       "<div>\n",
       "<table border=\"1\" class=\"dataframe\">\n",
       "  <thead>\n",
       "    <tr style=\"text-align: right;\">\n",
       "      <th></th>\n",
       "      <th>a</th>\n",
       "      <th>b</th>\n",
       "      <th>c</th>\n",
       "      <th>d</th>\n",
       "      <th>e</th>\n",
       "      <th>f</th>\n",
       "    </tr>\n",
       "  </thead>\n",
       "  <tbody>\n",
       "    <tr>\n",
       "      <th>1</th>\n",
       "      <td>0.808185</td>\n",
       "      <td>0.642560</td>\n",
       "      <td>0.390319</td>\n",
       "      <td>0.653144</td>\n",
       "      <td>2.236068</td>\n",
       "      <td>0.829472</td>\n",
       "    </tr>\n",
       "    <tr>\n",
       "      <th>2</th>\n",
       "      <td>0.981055</td>\n",
       "      <td>0.921919</td>\n",
       "      <td>0.480534</td>\n",
       "      <td>0.496297</td>\n",
       "      <td>2.236068</td>\n",
       "      <td>0.123783</td>\n",
       "    </tr>\n",
       "    <tr>\n",
       "      <th>3</th>\n",
       "      <td>0.170014</td>\n",
       "      <td>0.577736</td>\n",
       "      <td>0.782956</td>\n",
       "      <td>0.762292</td>\n",
       "      <td>2.236068</td>\n",
       "      <td>0.113101</td>\n",
       "    </tr>\n",
       "    <tr>\n",
       "      <th>4</th>\n",
       "      <td>0.197410</td>\n",
       "      <td>0.716135</td>\n",
       "      <td>0.404804</td>\n",
       "      <td>0.713374</td>\n",
       "      <td>2.236068</td>\n",
       "      <td>0.221900</td>\n",
       "    </tr>\n",
       "    <tr>\n",
       "      <th>5</th>\n",
       "      <td>0.333863</td>\n",
       "      <td>0.902114</td>\n",
       "      <td>0.721293</td>\n",
       "      <td>0.953347</td>\n",
       "      <td>2.236068</td>\n",
       "      <td>NaN</td>\n",
       "    </tr>\n",
       "  </tbody>\n",
       "</table>\n",
       "</div>"
      ],
      "text/plain": [
       "          a         b         c         d         e         f\n",
       "1  0.808185  0.642560  0.390319  0.653144  2.236068  0.829472\n",
       "2  0.981055  0.921919  0.480534  0.496297  2.236068  0.123783\n",
       "3  0.170014  0.577736  0.782956  0.762292  2.236068  0.113101\n",
       "4  0.197410  0.716135  0.404804  0.713374  2.236068  0.221900\n",
       "5  0.333863  0.902114  0.721293  0.953347  2.236068       NaN"
      ]
     },
     "execution_count": 91,
     "metadata": {},
     "output_type": "execute_result"
    }
   ],
   "source": [
    "df.apply(np.sqrt) # or np.sqrt(df)"
   ]
  },
  {
   "cell_type": "markdown",
   "metadata": {},
   "source": [
    "##### summarizing data"
   ]
  },
  {
   "cell_type": "code",
   "execution_count": 92,
   "metadata": {
    "collapsed": false
   },
   "outputs": [
    {
     "data": {
      "text/html": [
       "<div>\n",
       "<table border=\"1\" class=\"dataframe\">\n",
       "  <thead>\n",
       "    <tr style=\"text-align: right;\">\n",
       "      <th></th>\n",
       "      <th>a</th>\n",
       "      <th>b</th>\n",
       "      <th>c</th>\n",
       "      <th>d</th>\n",
       "      <th>e</th>\n",
       "      <th>f</th>\n",
       "    </tr>\n",
       "  </thead>\n",
       "  <tbody>\n",
       "    <tr>\n",
       "      <th>count</th>\n",
       "      <td>5.000000</td>\n",
       "      <td>5.000000</td>\n",
       "      <td>5.000000</td>\n",
       "      <td>5.000000</td>\n",
       "      <td>5.0</td>\n",
       "      <td>4.000000</td>\n",
       "    </tr>\n",
       "    <tr>\n",
       "      <th>mean</th>\n",
       "      <td>0.358994</td>\n",
       "      <td>0.584651</td>\n",
       "      <td>0.336082</td>\n",
       "      <td>0.534354</td>\n",
       "      <td>5.0</td>\n",
       "      <td>0.191344</td>\n",
       "    </tr>\n",
       "    <tr>\n",
       "      <th>std</th>\n",
       "      <td>0.425253</td>\n",
       "      <td>0.234780</td>\n",
       "      <td>0.215113</td>\n",
       "      <td>0.243760</td>\n",
       "      <td>0.0</td>\n",
       "      <td>0.331536</td>\n",
       "    </tr>\n",
       "    <tr>\n",
       "      <th>min</th>\n",
       "      <td>0.028905</td>\n",
       "      <td>0.333779</td>\n",
       "      <td>0.152349</td>\n",
       "      <td>0.246311</td>\n",
       "      <td>5.0</td>\n",
       "      <td>0.012792</td>\n",
       "    </tr>\n",
       "    <tr>\n",
       "      <th>25%</th>\n",
       "      <td>0.038971</td>\n",
       "      <td>0.412884</td>\n",
       "      <td>0.163867</td>\n",
       "      <td>0.426597</td>\n",
       "      <td>5.0</td>\n",
       "      <td>0.014690</td>\n",
       "    </tr>\n",
       "    <tr>\n",
       "      <th>50%</th>\n",
       "      <td>0.111465</td>\n",
       "      <td>0.512849</td>\n",
       "      <td>0.230913</td>\n",
       "      <td>0.508902</td>\n",
       "      <td>5.0</td>\n",
       "      <td>0.032281</td>\n",
       "    </tr>\n",
       "    <tr>\n",
       "      <th>75%</th>\n",
       "      <td>0.653164</td>\n",
       "      <td>0.813810</td>\n",
       "      <td>0.520264</td>\n",
       "      <td>0.581089</td>\n",
       "      <td>5.0</td>\n",
       "      <td>0.208936</td>\n",
       "    </tr>\n",
       "    <tr>\n",
       "      <th>max</th>\n",
       "      <td>0.962469</td>\n",
       "      <td>0.849935</td>\n",
       "      <td>0.613020</td>\n",
       "      <td>0.908871</td>\n",
       "      <td>5.0</td>\n",
       "      <td>0.688023</td>\n",
       "    </tr>\n",
       "  </tbody>\n",
       "</table>\n",
       "</div>"
      ],
      "text/plain": [
       "              a         b         c         d    e         f\n",
       "count  5.000000  5.000000  5.000000  5.000000  5.0  4.000000\n",
       "mean   0.358994  0.584651  0.336082  0.534354  5.0  0.191344\n",
       "std    0.425253  0.234780  0.215113  0.243760  0.0  0.331536\n",
       "min    0.028905  0.333779  0.152349  0.246311  5.0  0.012792\n",
       "25%    0.038971  0.412884  0.163867  0.426597  5.0  0.014690\n",
       "50%    0.111465  0.512849  0.230913  0.508902  5.0  0.032281\n",
       "75%    0.653164  0.813810  0.520264  0.581089  5.0  0.208936\n",
       "max    0.962469  0.849935  0.613020  0.908871  5.0  0.688023"
      ]
     },
     "execution_count": 92,
     "metadata": {},
     "output_type": "execute_result"
    }
   ],
   "source": [
    "df.describe()"
   ]
  },
  {
   "cell_type": "markdown",
   "metadata": {},
   "source": [
    "##### replacing values"
   ]
  },
  {
   "cell_type": "code",
   "execution_count": 93,
   "metadata": {
    "collapsed": false
   },
   "outputs": [
    {
     "data": {
      "text/html": [
       "<div>\n",
       "<table border=\"1\" class=\"dataframe\">\n",
       "  <thead>\n",
       "    <tr style=\"text-align: right;\">\n",
       "      <th></th>\n",
       "      <th>a</th>\n",
       "      <th>b</th>\n",
       "      <th>c</th>\n",
       "      <th>d</th>\n",
       "      <th>e</th>\n",
       "      <th>f</th>\n",
       "    </tr>\n",
       "  </thead>\n",
       "  <tbody>\n",
       "    <tr>\n",
       "      <th>1</th>\n",
       "      <td>0.653164</td>\n",
       "      <td>0.412884</td>\n",
       "      <td>0.152349</td>\n",
       "      <td>0.426597</td>\n",
       "      <td>5</td>\n",
       "      <td>0.688023</td>\n",
       "    </tr>\n",
       "    <tr>\n",
       "      <th>2</th>\n",
       "      <td>0.962469</td>\n",
       "      <td>0.849935</td>\n",
       "      <td>0.230913</td>\n",
       "      <td>0.246311</td>\n",
       "      <td>5</td>\n",
       "      <td>0.015322</td>\n",
       "    </tr>\n",
       "    <tr>\n",
       "      <th>3</th>\n",
       "      <td>0.028905</td>\n",
       "      <td>0.333779</td>\n",
       "      <td>0.613020</td>\n",
       "      <td>0.581089</td>\n",
       "      <td>5</td>\n",
       "      <td>0.012792</td>\n",
       "    </tr>\n",
       "    <tr>\n",
       "      <th>4</th>\n",
       "      <td>0.038971</td>\n",
       "      <td>0.512849</td>\n",
       "      <td>0.163867</td>\n",
       "      <td>0.508902</td>\n",
       "      <td>5</td>\n",
       "      <td>0.049240</td>\n",
       "    </tr>\n",
       "    <tr>\n",
       "      <th>5</th>\n",
       "      <td>0.111465</td>\n",
       "      <td>0.813810</td>\n",
       "      <td>0.520264</td>\n",
       "      <td>0.908871</td>\n",
       "      <td>5</td>\n",
       "      <td>NaN</td>\n",
       "    </tr>\n",
       "  </tbody>\n",
       "</table>\n",
       "</div>"
      ],
      "text/plain": [
       "          a         b         c         d  e         f\n",
       "1  0.653164  0.412884  0.152349  0.426597  5  0.688023\n",
       "2  0.962469  0.849935  0.230913  0.246311  5  0.015322\n",
       "3  0.028905  0.333779  0.613020  0.581089  5  0.012792\n",
       "4  0.038971  0.512849  0.163867  0.508902  5  0.049240\n",
       "5  0.111465  0.813810  0.520264  0.908871  5       NaN"
      ]
     },
     "execution_count": 93,
     "metadata": {},
     "output_type": "execute_result"
    }
   ],
   "source": [
    "df.head()"
   ]
  },
  {
   "cell_type": "code",
   "execution_count": 94,
   "metadata": {
    "collapsed": false
   },
   "outputs": [],
   "source": [
    "df['e'].replace(5, 0.0, inplace=True) \n",
    "# you can use dictionnary to multiple replacements"
   ]
  },
  {
   "cell_type": "markdown",
   "metadata": {},
   "source": [
    "##### assign "
   ]
  },
  {
   "cell_type": "markdown",
   "metadata": {},
   "source": [
    "**Note**: `assign` is a `DataFrame` method available in version 0.16 of Pandas, to update: \n",
    "        \n",
    "```\n",
    "ᐅ conda update pandas \n",
    "```"
   ]
  },
  {
   "cell_type": "code",
   "execution_count": 95,
   "metadata": {
    "collapsed": false
   },
   "outputs": [
    {
     "data": {
      "text/html": [
       "<div>\n",
       "<table border=\"1\" class=\"dataframe\">\n",
       "  <thead>\n",
       "    <tr style=\"text-align: right;\">\n",
       "      <th></th>\n",
       "      <th>a</th>\n",
       "      <th>b</th>\n",
       "      <th>c</th>\n",
       "      <th>d</th>\n",
       "      <th>e</th>\n",
       "      <th>f</th>\n",
       "    </tr>\n",
       "  </thead>\n",
       "  <tbody>\n",
       "    <tr>\n",
       "      <th>1</th>\n",
       "      <td>0.653164</td>\n",
       "      <td>0.412884</td>\n",
       "      <td>0.152349</td>\n",
       "      <td>0.426597</td>\n",
       "      <td>0</td>\n",
       "      <td>0.653164</td>\n",
       "    </tr>\n",
       "    <tr>\n",
       "      <th>2</th>\n",
       "      <td>0.962469</td>\n",
       "      <td>0.849935</td>\n",
       "      <td>0.230913</td>\n",
       "      <td>0.246311</td>\n",
       "      <td>0</td>\n",
       "      <td>0.962469</td>\n",
       "    </tr>\n",
       "    <tr>\n",
       "      <th>3</th>\n",
       "      <td>0.028905</td>\n",
       "      <td>0.333779</td>\n",
       "      <td>0.613020</td>\n",
       "      <td>0.581089</td>\n",
       "      <td>0</td>\n",
       "      <td>0.028905</td>\n",
       "    </tr>\n",
       "    <tr>\n",
       "      <th>4</th>\n",
       "      <td>0.038971</td>\n",
       "      <td>0.512849</td>\n",
       "      <td>0.163867</td>\n",
       "      <td>0.508902</td>\n",
       "      <td>0</td>\n",
       "      <td>0.038971</td>\n",
       "    </tr>\n",
       "    <tr>\n",
       "      <th>5</th>\n",
       "      <td>0.111465</td>\n",
       "      <td>0.813810</td>\n",
       "      <td>0.520264</td>\n",
       "      <td>0.908871</td>\n",
       "      <td>0</td>\n",
       "      <td>0.111465</td>\n",
       "    </tr>\n",
       "  </tbody>\n",
       "</table>\n",
       "</div>"
      ],
      "text/plain": [
       "          a         b         c         d  e         f\n",
       "1  0.653164  0.412884  0.152349  0.426597  0  0.653164\n",
       "2  0.962469  0.849935  0.230913  0.246311  0  0.962469\n",
       "3  0.028905  0.333779  0.613020  0.581089  0  0.028905\n",
       "4  0.038971  0.512849  0.163867  0.508902  0  0.038971\n",
       "5  0.111465  0.813810  0.520264  0.908871  0  0.111465"
      ]
     },
     "execution_count": 95,
     "metadata": {},
     "output_type": "execute_result"
    }
   ],
   "source": [
    "df.assign(f = df['a'] + df['e'])"
   ]
  },
  {
   "cell_type": "markdown",
   "metadata": {},
   "source": [
    "that allows you to write very succint code"
   ]
  },
  {
   "cell_type": "code",
   "execution_count": 96,
   "metadata": {
    "collapsed": false
   },
   "outputs": [
    {
     "data": {
      "text/html": [
       "<div>\n",
       "<table border=\"1\" class=\"dataframe\">\n",
       "  <thead>\n",
       "    <tr style=\"text-align: right;\">\n",
       "      <th></th>\n",
       "      <th>a</th>\n",
       "      <th>b</th>\n",
       "      <th>c</th>\n",
       "      <th>d</th>\n",
       "      <th>e</th>\n",
       "      <th>f</th>\n",
       "    </tr>\n",
       "  </thead>\n",
       "  <tbody>\n",
       "    <tr>\n",
       "      <th>1</th>\n",
       "      <td>0.653164</td>\n",
       "      <td>0.412884</td>\n",
       "      <td>0.152349</td>\n",
       "      <td>0.426597</td>\n",
       "      <td>0</td>\n",
       "      <td>0.653164</td>\n",
       "    </tr>\n",
       "    <tr>\n",
       "      <th>2</th>\n",
       "      <td>0.962469</td>\n",
       "      <td>0.849935</td>\n",
       "      <td>0.230913</td>\n",
       "      <td>0.246311</td>\n",
       "      <td>0</td>\n",
       "      <td>0.962469</td>\n",
       "    </tr>\n",
       "  </tbody>\n",
       "</table>\n",
       "</div>"
      ],
      "text/plain": [
       "          a         b         c         d  e         f\n",
       "1  0.653164  0.412884  0.152349  0.426597  0  0.653164\n",
       "2  0.962469  0.849935  0.230913  0.246311  0  0.962469"
      ]
     },
     "execution_count": 96,
     "metadata": {},
     "output_type": "execute_result"
    }
   ],
   "source": [
    "df.query('a > 0.6').assign(f = df['a'] + df['e'])"
   ]
  },
  {
   "cell_type": "markdown",
   "metadata": {},
   "source": [
    "#### DataFrame high-level plotting functions"
   ]
  },
  {
   "cell_type": "code",
   "execution_count": 97,
   "metadata": {
    "collapsed": false
   },
   "outputs": [
    {
     "data": {
      "image/png": "[encoded data removed]",
      "text/plain": [
       "<matplotlib.figure.Figure at 0x11d330c50>"
      ]
     },
     "metadata": {},
     "output_type": "display_data"
    }
   ],
   "source": [
    "df.plot(subplots=True, figsize=(10,10));"
   ]
  },
  {
   "cell_type": "code",
   "execution_count": 98,
   "metadata": {
    "collapsed": false
   },
   "outputs": [
    {
     "data": {
      "image/png": "[encoded data removed]",
      "text/plain": [
       "<matplotlib.figure.Figure at 0x11d3e6e10>"
      ]
     },
     "metadata": {},
     "output_type": "display_data"
    }
   ],
   "source": [
    "df.drop('e', axis=1).plot(figsize=(8,12), \\\n",
    "                          subplots=True, \\\n",
    "                          sharex=True, \\\n",
    "                          kind='bar', rot=0); "
   ]
  },
  {
   "cell_type": "code",
   "execution_count": 99,
   "metadata": {
    "collapsed": false
   },
   "outputs": [],
   "source": [
    "import pandas as pd\n",
    "from sklearn.datasets import load_iris\n",
    " \n",
    "    \n",
    "iris = load_iris()\n",
    " \n",
    "iris = pd.DataFrame(iris.data, columns=iris.feature_names)"
   ]
  },
  {
   "cell_type": "code",
   "execution_count": 100,
   "metadata": {
    "collapsed": false
   },
   "outputs": [
    {
     "data": {
      "text/html": [
       "<div>\n",
       "<table border=\"1\" class=\"dataframe\">\n",
       "  <thead>\n",
       "    <tr style=\"text-align: right;\">\n",
       "      <th></th>\n",
       "      <th>sepal length (cm)</th>\n",
       "      <th>sepal width (cm)</th>\n",
       "      <th>petal length (cm)</th>\n",
       "      <th>petal width (cm)</th>\n",
       "    </tr>\n",
       "  </thead>\n",
       "  <tbody>\n",
       "    <tr>\n",
       "      <th>0</th>\n",
       "      <td>5.1</td>\n",
       "      <td>3.5</td>\n",
       "      <td>1.4</td>\n",
       "      <td>0.2</td>\n",
       "    </tr>\n",
       "    <tr>\n",
       "      <th>1</th>\n",
       "      <td>4.9</td>\n",
       "      <td>3.0</td>\n",
       "      <td>1.4</td>\n",
       "      <td>0.2</td>\n",
       "    </tr>\n",
       "    <tr>\n",
       "      <th>2</th>\n",
       "      <td>4.7</td>\n",
       "      <td>3.2</td>\n",
       "      <td>1.3</td>\n",
       "      <td>0.2</td>\n",
       "    </tr>\n",
       "    <tr>\n",
       "      <th>3</th>\n",
       "      <td>4.6</td>\n",
       "      <td>3.1</td>\n",
       "      <td>1.5</td>\n",
       "      <td>0.2</td>\n",
       "    </tr>\n",
       "    <tr>\n",
       "      <th>4</th>\n",
       "      <td>5.0</td>\n",
       "      <td>3.6</td>\n",
       "      <td>1.4</td>\n",
       "      <td>0.2</td>\n",
       "    </tr>\n",
       "  </tbody>\n",
       "</table>\n",
       "</div>"
      ],
      "text/plain": [
       "   sepal length (cm)  sepal width (cm)  petal length (cm)  petal width (cm)\n",
       "0                5.1               3.5                1.4               0.2\n",
       "1                4.9               3.0                1.4               0.2\n",
       "2                4.7               3.2                1.3               0.2\n",
       "3                4.6               3.1                1.5               0.2\n",
       "4                5.0               3.6                1.4               0.2"
      ]
     },
     "execution_count": 100,
     "metadata": {},
     "output_type": "execute_result"
    }
   ],
   "source": [
    "iris.head()"
   ]
  },
  {
   "cell_type": "code",
   "execution_count": 101,
   "metadata": {
    "collapsed": false
   },
   "outputs": [
    {
     "data": {
      "image/png": "[encoded data removed]",
      "text/plain": [
       "<matplotlib.figure.Figure at 0x11e0d66d8>"
      ]
     },
     "metadata": {},
     "output_type": "display_data"
    }
   ],
   "source": [
    "iris.hist(); "
   ]
  },
  {
   "cell_type": "code",
   "execution_count": 102,
   "metadata": {
    "collapsed": true
   },
   "outputs": [],
   "source": [
    "from pandas.tools.plotting import scatter_matrix"
   ]
  },
  {
   "cell_type": "code",
   "execution_count": 103,
   "metadata": {
    "collapsed": false
   },
   "outputs": [
    {
     "data": {
      "image/png": "[encoded data removed]",
      "text/plain": [
       "<matplotlib.figure.Figure at 0x11de7a198>"
      ]
     },
     "metadata": {},
     "output_type": "display_data"
    }
   ],
   "source": [
    "scatter_matrix(iris, alpha=0.4, figsize=(10, 10), diagonal='kde'); "
   ]
  },
  {
   "cell_type": "code",
   "execution_count": 104,
   "metadata": {
    "collapsed": false
   },
   "outputs": [
    {
     "data": {
      "text/html": [
       "<iframe src=http://pandas.pydata.org/pandas-docs/stable/visualization.html width=800 height=350></iframe>"
      ],
      "text/plain": [
       "<IPython.core.display.HTML object>"
      ]
     },
     "execution_count": 104,
     "metadata": {},
     "output_type": "execute_result"
    }
   ],
   "source": [
    "HTML('<iframe src=http://pandas.pydata.org/pandas-docs/stable/visualization.html width=800 height=350></iframe>')"
   ]
  },
  {
   "cell_type": "markdown",
   "metadata": {},
   "source": [
    "### Input and Output in pandas"
   ]
  },
  {
   "cell_type": "markdown",
   "metadata": {},
   "source": [
    "Pandas has **very powerful IO methods**, allowing to load csv, excel, tab-delimited files very easily. Pandas DataFrames can also be \n",
    "saved also in csv, excel files. \n",
    "\n",
    "Other supported file types are: \n",
    "\n",
    "* JSON (JavaScript Object Notation)\n",
    "* HDF5 \n",
    "* HTML (to e.g. read tables contained in HTML documents)\n",
    "* SQL (Pandas can **query directly from SQL databases** thanks to [SQLAlchemy](http://www.sqlalchemy.org/))\n",
    "* ..."
   ]
  },
  {
   "cell_type": "code",
   "execution_count": 105,
   "metadata": {
    "collapsed": true
   },
   "outputs": [],
   "source": [
    "pd.read_sql_table?"
   ]
  },
  {
   "cell_type": "code",
   "execution_count": 106,
   "metadata": {
    "collapsed": false
   },
   "outputs": [],
   "source": [
    "SOI = pd.read_csv('../data/NIWA_SOI.csv')"
   ]
  },
  {
   "cell_type": "code",
   "execution_count": 107,
   "metadata": {
    "collapsed": true
   },
   "outputs": [],
   "source": [
    "!open ../data/NIWA_SOI.csv"
   ]
  },
  {
   "cell_type": "code",
   "execution_count": 108,
   "metadata": {
    "collapsed": false
   },
   "outputs": [
    {
     "data": {
      "text/html": [
       "<div>\n",
       "<table border=\"1\" class=\"dataframe\">\n",
       "  <thead>\n",
       "    <tr style=\"text-align: right;\">\n",
       "      <th></th>\n",
       "      <th>Year</th>\n",
       "      <th>Jan</th>\n",
       "      <th>Feb</th>\n",
       "      <th>Mar</th>\n",
       "      <th>Apr</th>\n",
       "      <th>May</th>\n",
       "      <th>Jun</th>\n",
       "      <th>Jul</th>\n",
       "      <th>Aug</th>\n",
       "      <th>Sep</th>\n",
       "      <th>Oct</th>\n",
       "      <th>Nov</th>\n",
       "      <th>Dec</th>\n",
       "    </tr>\n",
       "  </thead>\n",
       "  <tbody>\n",
       "    <tr>\n",
       "      <th>0</th>\n",
       "      <td>1876</td>\n",
       "      <td>1.1</td>\n",
       "      <td>1.0</td>\n",
       "      <td>0.1</td>\n",
       "      <td>1.0</td>\n",
       "      <td>0.8</td>\n",
       "      <td>1.8</td>\n",
       "      <td>-0.5</td>\n",
       "      <td>1.3</td>\n",
       "      <td>1.0</td>\n",
       "      <td>-0.8</td>\n",
       "      <td>-0.3</td>\n",
       "      <td>-0.4</td>\n",
       "    </tr>\n",
       "    <tr>\n",
       "      <th>1</th>\n",
       "      <td>1877</td>\n",
       "      <td>-0.9</td>\n",
       "      <td>-0.6</td>\n",
       "      <td>-0.4</td>\n",
       "      <td>-0.7</td>\n",
       "      <td>0.5</td>\n",
       "      <td>-1.6</td>\n",
       "      <td>-1.0</td>\n",
       "      <td>-0.8</td>\n",
       "      <td>-1.8</td>\n",
       "      <td>-1.5</td>\n",
       "      <td>-1.3</td>\n",
       "      <td>-1.4</td>\n",
       "    </tr>\n",
       "    <tr>\n",
       "      <th>2</th>\n",
       "      <td>1878</td>\n",
       "      <td>-0.8</td>\n",
       "      <td>-1.9</td>\n",
       "      <td>-1.5</td>\n",
       "      <td>-0.7</td>\n",
       "      <td>0.3</td>\n",
       "      <td>-0.2</td>\n",
       "      <td>1.7</td>\n",
       "      <td>1.3</td>\n",
       "      <td>1.7</td>\n",
       "      <td>1.1</td>\n",
       "      <td>1.4</td>\n",
       "      <td>1.7</td>\n",
       "    </tr>\n",
       "    <tr>\n",
       "      <th>3</th>\n",
       "      <td>1879</td>\n",
       "      <td>1.3</td>\n",
       "      <td>1.3</td>\n",
       "      <td>1.3</td>\n",
       "      <td>1.2</td>\n",
       "      <td>0.3</td>\n",
       "      <td>1.7</td>\n",
       "      <td>2.3</td>\n",
       "      <td>2.3</td>\n",
       "      <td>1.8</td>\n",
       "      <td>1.5</td>\n",
       "      <td>0.9</td>\n",
       "      <td>-0.6</td>\n",
       "    </tr>\n",
       "    <tr>\n",
       "      <th>4</th>\n",
       "      <td>1880</td>\n",
       "      <td>1.1</td>\n",
       "      <td>0.7</td>\n",
       "      <td>1.4</td>\n",
       "      <td>0.6</td>\n",
       "      <td>1.3</td>\n",
       "      <td>1.0</td>\n",
       "      <td>0.2</td>\n",
       "      <td>1.5</td>\n",
       "      <td>0.7</td>\n",
       "      <td>0.5</td>\n",
       "      <td>0.6</td>\n",
       "      <td>-0.3</td>\n",
       "    </tr>\n",
       "  </tbody>\n",
       "</table>\n",
       "</div>"
      ],
      "text/plain": [
       "   Year  Jan  Feb  Mar  Apr  May  Jun  Jul  Aug  Sep  Oct  Nov  Dec\n",
       "0  1876  1.1  1.0  0.1  1.0  0.8  1.8 -0.5  1.3  1.0 -0.8 -0.3 -0.4\n",
       "1  1877 -0.9 -0.6 -0.4 -0.7  0.5 -1.6 -1.0 -0.8 -1.8 -1.5 -1.3 -1.4\n",
       "2  1878 -0.8 -1.9 -1.5 -0.7  0.3 -0.2  1.7  1.3  1.7  1.1  1.4  1.7\n",
       "3  1879  1.3  1.3  1.3  1.2  0.3  1.7  2.3  2.3  1.8  1.5  0.9 -0.6\n",
       "4  1880  1.1  0.7  1.4  0.6  1.3  1.0  0.2  1.5  0.7  0.5  0.6 -0.3"
      ]
     },
     "execution_count": 108,
     "metadata": {},
     "output_type": "execute_result"
    }
   ],
   "source": [
    "SOI.head()"
   ]
  },
  {
   "cell_type": "code",
   "execution_count": 109,
   "metadata": {
    "collapsed": false
   },
   "outputs": [],
   "source": [
    "SOI = pd.read_csv('../data/NIWA_SOI.csv', index_col=0)"
   ]
  },
  {
   "cell_type": "code",
   "execution_count": 110,
   "metadata": {
    "collapsed": false
   },
   "outputs": [
    {
     "data": {
      "text/html": [
       "<div>\n",
       "<table border=\"1\" class=\"dataframe\">\n",
       "  <thead>\n",
       "    <tr style=\"text-align: right;\">\n",
       "      <th></th>\n",
       "      <th>Jan</th>\n",
       "      <th>Feb</th>\n",
       "      <th>Mar</th>\n",
       "      <th>Apr</th>\n",
       "      <th>May</th>\n",
       "      <th>Jun</th>\n",
       "      <th>Jul</th>\n",
       "      <th>Aug</th>\n",
       "      <th>Sep</th>\n",
       "      <th>Oct</th>\n",
       "      <th>Nov</th>\n",
       "      <th>Dec</th>\n",
       "    </tr>\n",
       "    <tr>\n",
       "      <th>Year</th>\n",
       "      <th></th>\n",
       "      <th></th>\n",
       "      <th></th>\n",
       "      <th></th>\n",
       "      <th></th>\n",
       "      <th></th>\n",
       "      <th></th>\n",
       "      <th></th>\n",
       "      <th></th>\n",
       "      <th></th>\n",
       "      <th></th>\n",
       "      <th></th>\n",
       "    </tr>\n",
       "  </thead>\n",
       "  <tbody>\n",
       "    <tr>\n",
       "      <th>1876</th>\n",
       "      <td>1.1</td>\n",
       "      <td>1.0</td>\n",
       "      <td>0.1</td>\n",
       "      <td>1.0</td>\n",
       "      <td>0.8</td>\n",
       "      <td>1.8</td>\n",
       "      <td>-0.5</td>\n",
       "      <td>1.3</td>\n",
       "      <td>1.0</td>\n",
       "      <td>-0.8</td>\n",
       "      <td>-0.3</td>\n",
       "      <td>-0.4</td>\n",
       "    </tr>\n",
       "    <tr>\n",
       "      <th>1877</th>\n",
       "      <td>-0.9</td>\n",
       "      <td>-0.6</td>\n",
       "      <td>-0.4</td>\n",
       "      <td>-0.7</td>\n",
       "      <td>0.5</td>\n",
       "      <td>-1.6</td>\n",
       "      <td>-1.0</td>\n",
       "      <td>-0.8</td>\n",
       "      <td>-1.8</td>\n",
       "      <td>-1.5</td>\n",
       "      <td>-1.3</td>\n",
       "      <td>-1.4</td>\n",
       "    </tr>\n",
       "    <tr>\n",
       "      <th>1878</th>\n",
       "      <td>-0.8</td>\n",
       "      <td>-1.9</td>\n",
       "      <td>-1.5</td>\n",
       "      <td>-0.7</td>\n",
       "      <td>0.3</td>\n",
       "      <td>-0.2</td>\n",
       "      <td>1.7</td>\n",
       "      <td>1.3</td>\n",
       "      <td>1.7</td>\n",
       "      <td>1.1</td>\n",
       "      <td>1.4</td>\n",
       "      <td>1.7</td>\n",
       "    </tr>\n",
       "    <tr>\n",
       "      <th>1879</th>\n",
       "      <td>1.3</td>\n",
       "      <td>1.3</td>\n",
       "      <td>1.3</td>\n",
       "      <td>1.2</td>\n",
       "      <td>0.3</td>\n",
       "      <td>1.7</td>\n",
       "      <td>2.3</td>\n",
       "      <td>2.3</td>\n",
       "      <td>1.8</td>\n",
       "      <td>1.5</td>\n",
       "      <td>0.9</td>\n",
       "      <td>-0.6</td>\n",
       "    </tr>\n",
       "    <tr>\n",
       "      <th>1880</th>\n",
       "      <td>1.1</td>\n",
       "      <td>0.7</td>\n",
       "      <td>1.4</td>\n",
       "      <td>0.6</td>\n",
       "      <td>1.3</td>\n",
       "      <td>1.0</td>\n",
       "      <td>0.2</td>\n",
       "      <td>1.5</td>\n",
       "      <td>0.7</td>\n",
       "      <td>0.5</td>\n",
       "      <td>0.6</td>\n",
       "      <td>-0.3</td>\n",
       "    </tr>\n",
       "  </tbody>\n",
       "</table>\n",
       "</div>"
      ],
      "text/plain": [
       "      Jan  Feb  Mar  Apr  May  Jun  Jul  Aug  Sep  Oct  Nov  Dec\n",
       "Year                                                            \n",
       "1876  1.1  1.0  0.1  1.0  0.8  1.8 -0.5  1.3  1.0 -0.8 -0.3 -0.4\n",
       "1877 -0.9 -0.6 -0.4 -0.7  0.5 -1.6 -1.0 -0.8 -1.8 -1.5 -1.3 -1.4\n",
       "1878 -0.8 -1.9 -1.5 -0.7  0.3 -0.2  1.7  1.3  1.7  1.1  1.4  1.7\n",
       "1879  1.3  1.3  1.3  1.2  0.3  1.7  2.3  2.3  1.8  1.5  0.9 -0.6\n",
       "1880  1.1  0.7  1.4  0.6  1.3  1.0  0.2  1.5  0.7  0.5  0.6 -0.3"
      ]
     },
     "execution_count": 110,
     "metadata": {},
     "output_type": "execute_result"
    }
   ],
   "source": [
    "SOI.head()"
   ]
  },
  {
   "cell_type": "code",
   "execution_count": 111,
   "metadata": {
    "collapsed": false
   },
   "outputs": [
    {
     "data": {
      "text/plain": [
       "Int64Index([1876, 1877, 1878, 1879, 1880, 1881, 1882, 1883, 1884, 1885,\n",
       "            ...\n",
       "            2006, 2007, 2008, 2009, 2010, 2011, 2012, 2013, 2014, 2015],\n",
       "           dtype='int64', name='Year', length=140)"
      ]
     },
     "execution_count": 111,
     "metadata": {},
     "output_type": "execute_result"
    }
   ],
   "source": [
    "SOI.index"
   ]
  },
  {
   "cell_type": "code",
   "execution_count": 112,
   "metadata": {
    "collapsed": false
   },
   "outputs": [
    {
     "data": {
      "text/html": [
       "<div>\n",
       "<table border=\"1\" class=\"dataframe\">\n",
       "  <thead>\n",
       "    <tr style=\"text-align: right;\">\n",
       "      <th></th>\n",
       "      <th>Jan</th>\n",
       "      <th>Feb</th>\n",
       "      <th>Mar</th>\n",
       "      <th>Apr</th>\n",
       "      <th>May</th>\n",
       "      <th>Jun</th>\n",
       "      <th>Jul</th>\n",
       "      <th>Aug</th>\n",
       "      <th>Sep</th>\n",
       "      <th>Oct</th>\n",
       "      <th>Nov</th>\n",
       "      <th>Dec</th>\n",
       "    </tr>\n",
       "    <tr>\n",
       "      <th>Year</th>\n",
       "      <th></th>\n",
       "      <th></th>\n",
       "      <th></th>\n",
       "      <th></th>\n",
       "      <th></th>\n",
       "      <th></th>\n",
       "      <th></th>\n",
       "      <th></th>\n",
       "      <th></th>\n",
       "      <th></th>\n",
       "      <th></th>\n",
       "      <th></th>\n",
       "    </tr>\n",
       "  </thead>\n",
       "  <tbody>\n",
       "    <tr>\n",
       "      <th>1950</th>\n",
       "      <td>0.5</td>\n",
       "      <td>1.6</td>\n",
       "      <td>1.8</td>\n",
       "      <td>1.6</td>\n",
       "      <td>0.9</td>\n",
       "      <td>2.8</td>\n",
       "      <td>2.2</td>\n",
       "      <td>1.3</td>\n",
       "      <td>0.6</td>\n",
       "      <td>1.7</td>\n",
       "      <td>1.1</td>\n",
       "      <td>2.2</td>\n",
       "    </tr>\n",
       "    <tr>\n",
       "      <th>1951</th>\n",
       "      <td>1.7</td>\n",
       "      <td>0.8</td>\n",
       "      <td>-0.1</td>\n",
       "      <td>0.0</td>\n",
       "      <td>-0.5</td>\n",
       "      <td>0.6</td>\n",
       "      <td>-0.8</td>\n",
       "      <td>-0.0</td>\n",
       "      <td>-0.7</td>\n",
       "      <td>-0.8</td>\n",
       "      <td>-0.4</td>\n",
       "      <td>-0.4</td>\n",
       "    </tr>\n",
       "    <tr>\n",
       "      <th>1952</th>\n",
       "      <td>-0.9</td>\n",
       "      <td>-0.7</td>\n",
       "      <td>0.1</td>\n",
       "      <td>-0.7</td>\n",
       "      <td>0.7</td>\n",
       "      <td>0.8</td>\n",
       "      <td>0.4</td>\n",
       "      <td>-0.3</td>\n",
       "      <td>-0.4</td>\n",
       "      <td>0.2</td>\n",
       "      <td>-0.1</td>\n",
       "      <td>-1.4</td>\n",
       "    </tr>\n",
       "    <tr>\n",
       "      <th>1953</th>\n",
       "      <td>0.2</td>\n",
       "      <td>-0.6</td>\n",
       "      <td>-0.5</td>\n",
       "      <td>0.1</td>\n",
       "      <td>-3.0</td>\n",
       "      <td>-0.1</td>\n",
       "      <td>-0.1</td>\n",
       "      <td>-1.7</td>\n",
       "      <td>-1.3</td>\n",
       "      <td>-0.0</td>\n",
       "      <td>-0.3</td>\n",
       "      <td>-0.5</td>\n",
       "    </tr>\n",
       "    <tr>\n",
       "      <th>1954</th>\n",
       "      <td>0.6</td>\n",
       "      <td>-0.3</td>\n",
       "      <td>-0.0</td>\n",
       "      <td>0.7</td>\n",
       "      <td>0.6</td>\n",
       "      <td>-0.1</td>\n",
       "      <td>0.5</td>\n",
       "      <td>1.1</td>\n",
       "      <td>0.4</td>\n",
       "      <td>0.2</td>\n",
       "      <td>0.3</td>\n",
       "      <td>1.2</td>\n",
       "    </tr>\n",
       "  </tbody>\n",
       "</table>\n",
       "</div>"
      ],
      "text/plain": [
       "      Jan  Feb  Mar  Apr  May  Jun  Jul  Aug  Sep  Oct  Nov  Dec\n",
       "Year                                                            \n",
       "1950  0.5  1.6  1.8  1.6  0.9  2.8  2.2  1.3  0.6  1.7  1.1  2.2\n",
       "1951  1.7  0.8 -0.1  0.0 -0.5  0.6 -0.8 -0.0 -0.7 -0.8 -0.4 -0.4\n",
       "1952 -0.9 -0.7  0.1 -0.7  0.7  0.8  0.4 -0.3 -0.4  0.2 -0.1 -1.4\n",
       "1953  0.2 -0.6 -0.5  0.1 -3.0 -0.1 -0.1 -1.7 -1.3 -0.0 -0.3 -0.5\n",
       "1954  0.6 -0.3 -0.0  0.7  0.6 -0.1  0.5  1.1  0.4  0.2  0.3  1.2"
      ]
     },
     "execution_count": 112,
     "metadata": {},
     "output_type": "execute_result"
    }
   ],
   "source": [
    "SOI.ix[1950:2000].head()"
   ]
  },
  {
   "cell_type": "markdown",
   "metadata": {},
   "source": [
    "#### Stacking "
   ]
  },
  {
   "cell_type": "code",
   "execution_count": 113,
   "metadata": {
    "collapsed": false
   },
   "outputs": [],
   "source": [
    "SOIs = SOI.stack()"
   ]
  },
  {
   "cell_type": "code",
   "execution_count": 114,
   "metadata": {
    "collapsed": false
   },
   "outputs": [
    {
     "data": {
      "text/plain": [
       "MultiIndex(levels=[[1876, 1877, 1878, 1879, 1880, 1881, 1882, 1883, 1884, 1885, 1886, 1887, 1888, 1889, 1890, 1891, 1892, 1893, 1894, 1895, 1896, 1897, 1898, 1899, 1900, 1901, 1902, 1903, 1904, 1905, 1906, 1907, 1908, 1909, 1910, 1911, 1912, 1913, 1914, 1915, 1916, 1917, 1918, 1919, 1920, 1921, 1922, 1923, 1924, 1925, 1926, 1927, 1928, 1929, 1930, 1931, 1932, 1933, 1934, 1935, 1936, 1937, 1938, 1939, 1940, 1941, 1942, 1943, 1944, 1945, 1946, 1947, 1948, 1949, 1950, 1951, 1952, 1953, 1954, 1955, 1956, 1957, 1958, 1959, 1960, 1961, 1962, 1963, 1964, 1965, 1966, 1967, 1968, 1969, 1970, 1971, 1972, 1973, 1974, 1975, 1976, 1977, 1978, 1979, 1980, 1981, 1982, 1983, 1984, 1985, 1986, 1987, 1988, 1989, 1990, 1991, 1992, 1993, 1994, 1995, 1996, 1997, 1998, 1999, 2000, 2001, 2002, 2003, 2004, 2005, 2006, 2007, 2008, 2009, 2010, 2011, 2012, 2013, 2014, 2015], ['Jan', 'Feb', 'Mar', 'Apr', 'May', 'Jun', 'Jul', 'Aug', 'Sep', 'Oct', 'Nov', 'Dec']],\n",
       "           labels=[[0, 0, 0, 0, 0, 0, 0, 0, 0, 0, 0, 0, 1, 1, 1, 1, 1, 1, 1, 1, 1, 1, 1, 1, 2, 2, 2, 2, 2, 2, 2, 2, 2, 2, 2, 2, 3, 3, 3, 3, 3, 3, 3, 3, 3, 3, 3, 3, 4, 4, 4, 4, 4, 4, 4, 4, 4, 4, 4, 4, 5, 5, 5, 5, 5, 5, 5, 5, 5, 5, 5, 5, 6, 6, 6, 6, 6, 6, 6, 6, 6, 6, 6, 6, 7, 7, 7, 7, 7, 7, 7, 7, 7, 7, 7, 7, 8, 8, 8, 8, 8, 8, 8, 8, 8, 8, 8, 8, 9, 9, 9, 9, 9, 9, 9, 9, 9, 9, 9, 9, 10, 10, 10, 10, 10, 10, 10, 10, 10, 10, 10, 10, 11, 11, 11, 11, 11, 11, 11, 11, 11, 11, 11, 11, 12, 12, 12, 12, 12, 12, 12, 12, 12, 12, 12, 12, 13, 13, 13, 13, 13, 13, 13, 13, 13, 13, 13, 13, 14, 14, 14, 14, 14, 14, 14, 14, 14, 14, 14, 14, 15, 15, 15, 15, 15, 15, 15, 15, 15, 15, 15, 15, 16, 16, 16, 16, 16, 16, 16, 16, 16, 16, 16, 16, 17, 17, 17, 17, 17, 17, 17, 17, 17, 17, 17, 17, 18, 18, 18, 18, 18, 18, 18, 18, 18, 18, 18, 18, 19, 19, 19, 19, 19, 19, 19, 19, 19, 19, 19, 19, 20, 20, 20, 20, 20, 20, 20, 20, 20, 20, 20, 20, 21, 21, 21, 21, 21, 21, 21, 21, 21, 21, 21, 21, 22, 22, 22, 22, 22, 22, 22, 22, 22, 22, 22, 22, 23, 23, 23, 23, 23, 23, 23, 23, 23, 23, 23, 23, 24, 24, 24, 24, 24, 24, 24, 24, 24, 24, 24, 24, 25, 25, 25, 25, 25, 25, 25, 25, 25, 25, 25, 25, 26, 26, 26, 26, 26, 26, 26, 26, 26, 26, 26, 26, 27, 27, 27, 27, 27, 27, 27, 27, 27, 27, 27, 27, 28, 28, 28, 28, 28, 28, 28, 28, 28, 28, 28, 28, 29, 29, 29, 29, 29, 29, 29, 29, 29, 29, 29, 29, 30, 30, 30, 30, 30, 30, 30, 30, 30, 30, 30, 30, 31, 31, 31, 31, 31, 31, 31, 31, 31, 31, 31, 31, 32, 32, 32, 32, 32, 32, 32, 32, 32, 32, 32, 32, 33, 33, 33, 33, 33, 33, 33, 33, 33, 33, 33, 33, 34, 34, 34, 34, 34, 34, 34, 34, 34, 34, 34, 34, 35, 35, 35, 35, 35, 35, 35, 35, 35, 35, 35, 35, 36, 36, 36, 36, 36, 36, 36, 36, 36, 36, 36, 36, 37, 37, 37, 37, 37, 37, 37, 37, 37, 37, 37, 37, 38, 38, 38, 38, 38, 38, 38, 38, 38, 38, 38, 38, 39, 39, 39, 39, 39, 39, 39, 39, 39, 39, 39, 39, 40, 40, 40, 40, 40, 40, 40, 40, 40, 40, 40, 40, 41, 41, 41, 41, 41, 41, 41, 41, 41, 41, 41, 41, 42, 42, 42, 42, 42, 42, 42, 42, 42, 42, 42, 42, 43, 43, 43, 43, 43, 43, 43, 43, 43, 43, 43, 43, 44, 44, 44, 44, 44, 44, 44, 44, 44, 44, 44, 44, 45, 45, 45, 45, 45, 45, 45, 45, 45, 45, 45, 45, 46, 46, 46, 46, 46, 46, 46, 46, 46, 46, 46, 46, 47, 47, 47, 47, 47, 47, 47, 47, 47, 47, 47, 47, 48, 48, 48, 48, 48, 48, 48, 48, 48, 48, 48, 48, 49, 49, 49, 49, 49, 49, 49, 49, 49, 49, 49, 49, 50, 50, 50, 50, 50, 50, 50, 50, 50, 50, 50, 50, 51, 51, 51, 51, 51, 51, 51, 51, 51, 51, 51, 51, 52, 52, 52, 52, 52, 52, 52, 52, 52, 52, 52, 52, 53, 53, 53, 53, 53, 53, 53, 53, 53, 53, 53, 53, 54, 54, 54, 54, 54, 54, 54, 54, 54, 54, 54, 54, 55, 55, 55, 55, 55, 55, 55, 55, 55, 55, 55, 55, 56, 56, 56, 56, 56, 56, 56, 56, 56, 56, 56, 56, 57, 57, 57, 57, 57, 57, 57, 57, 57, 57, 57, 57, 58, 58, 58, 58, 58, 58, 58, 58, 58, 58, 58, 58, 59, 59, 59, 59, 59, 59, 59, 59, 59, 59, 59, 59, 60, 60, 60, 60, 60, 60, 60, 60, 60, 60, 60, 60, 61, 61, 61, 61, 61, 61, 61, 61, 61, 61, 61, 61, 62, 62, 62, 62, 62, 62, 62, 62, 62, 62, 62, 62, 63, 63, 63, 63, 63, 63, 63, 63, 63, 63, 63, 63, 64, 64, 64, 64, 64, 64, 64, 64, 64, 64, 64, 64, 65, 65, 65, 65, 65, 65, 65, 65, 65, 65, 65, 65, 66, 66, 66, 66, 66, 66, 66, 66, 66, 66, 66, 66, 67, 67, 67, 67, 67, 67, 67, 67, 67, 67, 67, 67, 68, 68, 68, 68, 68, 68, 68, 68, 68, 68, 68, 68, 69, 69, 69, 69, 69, 69, 69, 69, 69, 69, 69, 69, 70, 70, 70, 70, 70, 70, 70, 70, 70, 70, 70, 70, 71, 71, 71, 71, 71, 71, 71, 71, 71, 71, 71, 71, 72, 72, 72, 72, 72, 72, 72, 72, 72, 72, 72, 72, 73, 73, 73, 73, 73, 73, 73, 73, 73, 73, 73, 73, 74, 74, 74, 74, 74, 74, 74, 74, 74, 74, 74, 74, 75, 75, 75, 75, 75, 75, 75, 75, 75, 75, 75, 75, 76, 76, 76, 76, 76, 76, 76, 76, 76, 76, 76, 76, 77, 77, 77, 77, 77, 77, 77, 77, 77, 77, 77, 77, 78, 78, 78, 78, 78, 78, 78, 78, 78, 78, 78, 78, 79, 79, 79, 79, 79, 79, 79, 79, 79, 79, 79, 79, 80, 80, 80, 80, 80, 80, 80, 80, 80, 80, 80, 80, 81, 81, 81, 81, 81, 81, 81, 81, 81, 81, 81, 81, 82, 82, 82, 82, 82, 82, 82, 82, 82, 82, 82, 82, 83, 83, 83, 83, 83, 83, 83, 83, 83, 83, 83, 83, 84, 84, 84, 84, 84, 84, 84, 84, 84, 84, 84, 84, 85, 85, 85, 85, 85, 85, 85, 85, 85, 85, 85, 85, 86, 86, 86, 86, 86, 86, 86, 86, 86, 86, 86, 86, 87, 87, 87, 87, 87, 87, 87, 87, 87, 87, 87, 87, 88, 88, 88, 88, 88, 88, 88, 88, 88, 88, 88, 88, 89, 89, 89, 89, 89, 89, 89, 89, 89, 89, 89, 89, 90, 90, 90, 90, 90, 90, 90, 90, 90, 90, 90, 90, 91, 91, 91, 91, 91, 91, 91, 91, 91, 91, 91, 91, 92, 92, 92, 92, 92, 92, 92, 92, 92, 92, 92, 92, 93, 93, 93, 93, 93, 93, 93, 93, 93, 93, 93, 93, 94, 94, 94, 94, 94, 94, 94, 94, 94, 94, 94, 94, 95, 95, 95, 95, 95, 95, 95, 95, 95, 95, 95, 95, 96, 96, 96, 96, 96, 96, 96, 96, 96, 96, 96, 96, 97, 97, 97, 97, 97, 97, 97, 97, 97, 97, 97, 97, 98, 98, 98, 98, 98, 98, 98, 98, 98, 98, 98, 98, 99, 99, 99, 99, 99, 99, 99, 99, 99, 99, 99, 99, 100, 100, 100, 100, 100, 100, 100, 100, 100, 100, 100, 100, 101, 101, 101, 101, 101, 101, 101, 101, 101, 101, 101, 101, 102, 102, 102, 102, 102, 102, 102, 102, 102, 102, 102, 102, 103, 103, 103, 103, 103, 103, 103, 103, 103, 103, 103, 103, 104, 104, 104, 104, 104, 104, 104, 104, 104, 104, 104, 104, 105, 105, 105, 105, 105, 105, 105, 105, 105, 105, 105, 105, 106, 106, 106, 106, 106, 106, 106, 106, 106, 106, 106, 106, 107, 107, 107, 107, 107, 107, 107, 107, 107, 107, 107, 107, 108, 108, 108, 108, 108, 108, 108, 108, 108, 108, 108, 108, 109, 109, 109, 109, 109, 109, 109, 109, 109, 109, 109, 109, 110, 110, 110, 110, 110, 110, 110, 110, 110, 110, 110, 110, 111, 111, 111, 111, 111, 111, 111, 111, 111, 111, 111, 111, 112, 112, 112, 112, 112, 112, 112, 112, 112, 112, 112, 112, 113, 113, 113, 113, 113, 113, 113, 113, 113, 113, 113, 113, 114, 114, 114, 114, 114, 114, 114, 114, 114, 114, 114, 114, 115, 115, 115, 115, 115, 115, 115, 115, 115, 115, 115, 115, 116, 116, 116, 116, 116, 116, 116, 116, 116, 116, 116, 116, 117, 117, 117, 117, 117, 117, 117, 117, 117, 117, 117, 117, 118, 118, 118, 118, 118, 118, 118, 118, 118, 118, 118, 118, 119, 119, 119, 119, 119, 119, 119, 119, 119, 119, 119, 119, 120, 120, 120, 120, 120, 120, 120, 120, 120, 120, 120, 120, 121, 121, 121, 121, 121, 121, 121, 121, 121, 121, 121, 121, 122, 122, 122, 122, 122, 122, 122, 122, 122, 122, 122, 122, 123, 123, 123, 123, 123, 123, 123, 123, 123, 123, 123, 123, 124, 124, 124, 124, 124, 124, 124, 124, 124, 124, 124, 124, 125, 125, 125, 125, 125, 125, 125, 125, 125, 125, 125, 125, 126, 126, 126, 126, 126, 126, 126, 126, 126, 126, 126, 126, 127, 127, 127, 127, 127, 127, 127, 127, 127, 127, 127, 127, 128, 128, 128, 128, 128, 128, 128, 128, 128, 128, 128, 128, 129, 129, 129, 129, 129, 129, 129, 129, 129, 129, 129, 129, 130, 130, 130, 130, 130, 130, 130, 130, 130, 130, 130, 130, 131, 131, 131, 131, 131, 131, 131, 131, 131, 131, 131, 131, 132, 132, 132, 132, 132, 132, 132, 132, 132, 132, 132, 132, 133, 133, 133, 133, 133, 133, 133, 133, 133, 133, 133, 133, 134, 134, 134, 134, 134, 134, 134, 134, 134, 134, 134, 134, 135, 135, 135, 135, 135, 135, 135, 135, 135, 135, 135, 135, 136, 136, 136, 136, 136, 136, 136, 136, 136, 136, 136, 136, 137, 137, 137, 137, 137, 137, 137, 137, 137, 137, 137, 137, 138, 138, 138, 138, 138, 138, 138, 138, 138, 138, 138, 138, 139, 139, 139], [0, 1, 2, 3, 4, 5, 6, 7, 8, 9, 10, 11, 0, 1, 2, 3, 4, 5, 6, 7, 8, 9, 10, 11, 0, 1, 2, 3, 4, 5, 6, 7, 8, 9, 10, 11, 0, 1, 2, 3, 4, 5, 6, 7, 8, 9, 10, 11, 0, 1, 2, 3, 4, 5, 6, 7, 8, 9, 10, 11, 0, 1, 2, 3, 4, 5, 6, 7, 8, 9, 10, 11, 0, 1, 2, 3, 4, 5, 6, 7, 8, 9, 10, 11, 0, 1, 2, 3, 4, 5, 6, 7, 8, 9, 10, 11, 0, 1, 2, 3, 4, 5, 6, 7, 8, 9, 10, 11, 0, 1, 2, 3, 4, 5, 6, 7, 8, 9, 10, 11, 0, 1, 2, 3, 4, 5, 6, 7, 8, 9, 10, 11, 0, 1, 2, 3, 4, 5, 6, 7, 8, 9, 10, 11, 0, 1, 2, 3, 4, 5, 6, 7, 8, 9, 10, 11, 0, 1, 2, 3, 4, 5, 6, 7, 8, 9, 10, 11, 0, 1, 2, 3, 4, 5, 6, 7, 8, 9, 10, 11, 0, 1, 2, 3, 4, 5, 6, 7, 8, 9, 10, 11, 0, 1, 2, 3, 4, 5, 6, 7, 8, 9, 10, 11, 0, 1, 2, 3, 4, 5, 6, 7, 8, 9, 10, 11, 0, 1, 2, 3, 4, 5, 6, 7, 8, 9, 10, 11, 0, 1, 2, 3, 4, 5, 6, 7, 8, 9, 10, 11, 0, 1, 2, 3, 4, 5, 6, 7, 8, 9, 10, 11, 0, 1, 2, 3, 4, 5, 6, 7, 8, 9, 10, 11, 0, 1, 2, 3, 4, 5, 6, 7, 8, 9, 10, 11, 0, 1, 2, 3, 4, 5, 6, 7, 8, 9, 10, 11, 0, 1, 2, 3, 4, 5, 6, 7, 8, 9, 10, 11, 0, 1, 2, 3, 4, 5, 6, 7, 8, 9, 10, 11, 0, 1, 2, 3, 4, 5, 6, 7, 8, 9, 10, 11, 0, 1, 2, 3, 4, 5, 6, 7, 8, 9, 10, 11, 0, 1, 2, 3, 4, 5, 6, 7, 8, 9, 10, 11, 0, 1, 2, 3, 4, 5, 6, 7, 8, 9, 10, 11, 0, 1, 2, 3, 4, 5, 6, 7, 8, 9, 10, 11, 0, 1, 2, 3, 4, 5, 6, 7, 8, 9, 10, 11, 0, 1, 2, 3, 4, 5, 6, 7, 8, 9, 10, 11, 0, 1, 2, 3, 4, 5, 6, 7, 8, 9, 10, 11, 0, 1, 2, 3, 4, 5, 6, 7, 8, 9, 10, 11, 0, 1, 2, 3, 4, 5, 6, 7, 8, 9, 10, 11, 0, 1, 2, 3, 4, 5, 6, 7, 8, 9, 10, 11, 0, 1, 2, 3, 4, 5, 6, 7, 8, 9, 10, 11, 0, 1, 2, 3, 4, 5, 6, 7, 8, 9, 10, 11, 0, 1, 2, 3, 4, 5, 6, 7, 8, 9, 10, 11, 0, 1, 2, 3, 4, 5, 6, 7, 8, 9, 10, 11, 0, 1, 2, 3, 4, 5, 6, 7, 8, 9, 10, 11, 0, 1, 2, 3, 4, 5, 6, 7, 8, 9, 10, 11, 0, 1, 2, 3, 4, 5, 6, 7, 8, 9, 10, 11, 0, 1, 2, 3, 4, 5, 6, 7, 8, 9, 10, 11, 0, 1, 2, 3, 4, 5, 6, 7, 8, 9, 10, 11, 0, 1, 2, 3, 4, 5, 6, 7, 8, 9, 10, 11, 0, 1, 2, 3, 4, 5, 6, 7, 8, 9, 10, 11, 0, 1, 2, 3, 4, 5, 6, 7, 8, 9, 10, 11, 0, 1, 2, 3, 4, 5, 6, 7, 8, 9, 10, 11, 0, 1, 2, 3, 4, 5, 6, 7, 8, 9, 10, 11, 0, 1, 2, 3, 4, 5, 6, 7, 8, 9, 10, 11, 0, 1, 2, 3, 4, 5, 6, 7, 8, 9, 10, 11, 0, 1, 2, 3, 4, 5, 6, 7, 8, 9, 10, 11, 0, 1, 2, 3, 4, 5, 6, 7, 8, 9, 10, 11, 0, 1, 2, 3, 4, 5, 6, 7, 8, 9, 10, 11, 0, 1, 2, 3, 4, 5, 6, 7, 8, 9, 10, 11, 0, 1, 2, 3, 4, 5, 6, 7, 8, 9, 10, 11, 0, 1, 2, 3, 4, 5, 6, 7, 8, 9, 10, 11, 0, 1, 2, 3, 4, 5, 6, 7, 8, 9, 10, 11, 0, 1, 2, 3, 4, 5, 6, 7, 8, 9, 10, 11, 0, 1, 2, 3, 4, 5, 6, 7, 8, 9, 10, 11, 0, 1, 2, 3, 4, 5, 6, 7, 8, 9, 10, 11, 0, 1, 2, 3, 4, 5, 6, 7, 8, 9, 10, 11, 0, 1, 2, 3, 4, 5, 6, 7, 8, 9, 10, 11, 0, 1, 2, 3, 4, 5, 6, 7, 8, 9, 10, 11, 0, 1, 2, 3, 4, 5, 6, 7, 8, 9, 10, 11, 0, 1, 2, 3, 4, 5, 6, 7, 8, 9, 10, 11, 0, 1, 2, 3, 4, 5, 6, 7, 8, 9, 10, 11, 0, 1, 2, 3, 4, 5, 6, 7, 8, 9, 10, 11, 0, 1, 2, 3, 4, 5, 6, 7, 8, 9, 10, 11, 0, 1, 2, 3, 4, 5, 6, 7, 8, 9, 10, 11, 0, 1, 2, 3, 4, 5, 6, 7, 8, 9, 10, 11, 0, 1, 2, 3, 4, 5, 6, 7, 8, 9, 10, 11, 0, 1, 2, 3, 4, 5, 6, 7, 8, 9, 10, 11, 0, 1, 2, 3, 4, 5, 6, 7, 8, 9, 10, 11, 0, 1, 2, 3, 4, 5, 6, 7, 8, 9, 10, 11, 0, 1, 2, 3, 4, 5, 6, 7, 8, 9, 10, 11, 0, 1, 2, 3, 4, 5, 6, 7, 8, 9, 10, 11, 0, 1, 2, 3, 4, 5, 6, 7, 8, 9, 10, 11, 0, 1, 2, 3, 4, 5, 6, 7, 8, 9, 10, 11, 0, 1, 2, 3, 4, 5, 6, 7, 8, 9, 10, 11, 0, 1, 2, 3, 4, 5, 6, 7, 8, 9, 10, 11, 0, 1, 2, 3, 4, 5, 6, 7, 8, 9, 10, 11, 0, 1, 2, 3, 4, 5, 6, 7, 8, 9, 10, 11, 0, 1, 2, 3, 4, 5, 6, 7, 8, 9, 10, 11, 0, 1, 2, 3, 4, 5, 6, 7, 8, 9, 10, 11, 0, 1, 2, 3, 4, 5, 6, 7, 8, 9, 10, 11, 0, 1, 2, 3, 4, 5, 6, 7, 8, 9, 10, 11, 0, 1, 2, 3, 4, 5, 6, 7, 8, 9, 10, 11, 0, 1, 2, 3, 4, 5, 6, 7, 8, 9, 10, 11, 0, 1, 2, 3, 4, 5, 6, 7, 8, 9, 10, 11, 0, 1, 2, 3, 4, 5, 6, 7, 8, 9, 10, 11, 0, 1, 2, 3, 4, 5, 6, 7, 8, 9, 10, 11, 0, 1, 2, 3, 4, 5, 6, 7, 8, 9, 10, 11, 0, 1, 2, 3, 4, 5, 6, 7, 8, 9, 10, 11, 0, 1, 2, 3, 4, 5, 6, 7, 8, 9, 10, 11, 0, 1, 2, 3, 4, 5, 6, 7, 8, 9, 10, 11, 0, 1, 2, 3, 4, 5, 6, 7, 8, 9, 10, 11, 0, 1, 2, 3, 4, 5, 6, 7, 8, 9, 10, 11, 0, 1, 2, 3, 4, 5, 6, 7, 8, 9, 10, 11, 0, 1, 2, 3, 4, 5, 6, 7, 8, 9, 10, 11, 0, 1, 2, 3, 4, 5, 6, 7, 8, 9, 10, 11, 0, 1, 2, 3, 4, 5, 6, 7, 8, 9, 10, 11, 0, 1, 2, 3, 4, 5, 6, 7, 8, 9, 10, 11, 0, 1, 2, 3, 4, 5, 6, 7, 8, 9, 10, 11, 0, 1, 2, 3, 4, 5, 6, 7, 8, 9, 10, 11, 0, 1, 2, 3, 4, 5, 6, 7, 8, 9, 10, 11, 0, 1, 2, 3, 4, 5, 6, 7, 8, 9, 10, 11, 0, 1, 2, 3, 4, 5, 6, 7, 8, 9, 10, 11, 0, 1, 2, 3, 4, 5, 6, 7, 8, 9, 10, 11, 0, 1, 2, 3, 4, 5, 6, 7, 8, 9, 10, 11, 0, 1, 2, 3, 4, 5, 6, 7, 8, 9, 10, 11, 0, 1, 2, 3, 4, 5, 6, 7, 8, 9, 10, 11, 0, 1, 2, 3, 4, 5, 6, 7, 8, 9, 10, 11, 0, 1, 2, 3, 4, 5, 6, 7, 8, 9, 10, 11, 0, 1, 2, 3, 4, 5, 6, 7, 8, 9, 10, 11, 0, 1, 2, 3, 4, 5, 6, 7, 8, 9, 10, 11, 0, 1, 2, 3, 4, 5, 6, 7, 8, 9, 10, 11, 0, 1, 2, 3, 4, 5, 6, 7, 8, 9, 10, 11, 0, 1, 2, 3, 4, 5, 6, 7, 8, 9, 10, 11, 0, 1, 2, 3, 4, 5, 6, 7, 8, 9, 10, 11, 0, 1, 2, 3, 4, 5, 6, 7, 8, 9, 10, 11, 0, 1, 2, 3, 4, 5, 6, 7, 8, 9, 10, 11, 0, 1, 2, 3, 4, 5, 6, 7, 8, 9, 10, 11, 0, 1, 2, 3, 4, 5, 6, 7, 8, 9, 10, 11, 0, 1, 2, 3, 4, 5, 6, 7, 8, 9, 10, 11, 0, 1, 2, 3, 4, 5, 6, 7, 8, 9, 10, 11, 0, 1, 2, 3, 4, 5, 6, 7, 8, 9, 10, 11, 0, 1, 2, 3, 4, 5, 6, 7, 8, 9, 10, 11, 0, 1, 2, 3, 4, 5, 6, 7, 8, 9, 10, 11, 0, 1, 2, 3, 4, 5, 6, 7, 8, 9, 10, 11, 0, 1, 2, 3, 4, 5, 6, 7, 8, 9, 10, 11, 0, 1, 2, 3, 4, 5, 6, 7, 8, 9, 10, 11, 0, 1, 2, 3, 4, 5, 6, 7, 8, 9, 10, 11, 0, 1, 2, 3, 4, 5, 6, 7, 8, 9, 10, 11, 0, 1, 2, 3, 4, 5, 6, 7, 8, 9, 10, 11, 0, 1, 2, 3, 4, 5, 6, 7, 8, 9, 10, 11, 0, 1, 2, 3, 4, 5, 6, 7, 8, 9, 10, 11, 0, 1, 2]],\n",
       "           names=['Year', None])"
      ]
     },
     "execution_count": 114,
     "metadata": {},
     "output_type": "execute_result"
    }
   ],
   "source": [
    "SOIs.index"
   ]
  },
  {
   "cell_type": "code",
   "execution_count": 115,
   "metadata": {
    "collapsed": false
   },
   "outputs": [
    {
     "data": {
      "text/plain": [
       "MultiIndex(levels=[[1876, 1877, 1878, 1879, 1880, 1881, 1882, 1883, 1884, 1885, 1886, 1887, 1888, 1889, 1890, 1891, 1892, 1893, 1894, 1895, 1896, 1897, 1898, 1899, 1900, 1901, 1902, 1903, 1904, 1905, 1906, 1907, 1908, 1909, 1910, 1911, 1912, 1913, 1914, 1915, 1916, 1917, 1918, 1919, 1920, 1921, 1922, 1923, 1924, 1925, 1926, 1927, 1928, 1929, 1930, 1931, 1932, 1933, 1934, 1935, 1936, 1937, 1938, 1939, 1940, 1941, 1942, 1943, 1944, 1945, 1946, 1947, 1948, 1949, 1950, 1951, 1952, 1953, 1954, 1955, 1956, 1957, 1958, 1959, 1960, 1961, 1962, 1963, 1964, 1965, 1966, 1967, 1968, 1969, 1970, 1971, 1972, 1973, 1974, 1975, 1976, 1977, 1978, 1979, 1980, 1981, 1982, 1983, 1984, 1985, 1986, 1987, 1988, 1989, 1990, 1991, 1992, 1993, 1994, 1995, 1996, 1997, 1998, 1999, 2000, 2001, 2002, 2003, 2004, 2005, 2006, 2007, 2008, 2009, 2010, 2011, 2012, 2013, 2014, 2015], ['Jan', 'Feb', 'Mar', 'Apr', 'May', 'Jun', 'Jul', 'Aug', 'Sep', 'Oct', 'Nov', 'Dec']],\n",
       "           labels=[[0, 0, 0, 0, 0, 0, 0, 0, 0, 0, 0, 0, 1, 1, 1, 1, 1, 1, 1, 1, 1, 1, 1, 1, 2, 2, 2, 2, 2, 2, 2, 2, 2, 2, 2, 2, 3, 3, 3, 3, 3, 3, 3, 3, 3, 3, 3, 3, 4, 4, 4, 4, 4, 4, 4, 4, 4, 4, 4, 4, 5, 5, 5, 5, 5, 5, 5, 5, 5, 5, 5, 5, 6, 6, 6, 6, 6, 6, 6, 6, 6, 6, 6, 6, 7, 7, 7, 7, 7, 7, 7, 7, 7, 7, 7, 7, 8, 8, 8, 8, 8, 8, 8, 8, 8, 8, 8, 8, 9, 9, 9, 9, 9, 9, 9, 9, 9, 9, 9, 9, 10, 10, 10, 10, 10, 10, 10, 10, 10, 10, 10, 10, 11, 11, 11, 11, 11, 11, 11, 11, 11, 11, 11, 11, 12, 12, 12, 12, 12, 12, 12, 12, 12, 12, 12, 12, 13, 13, 13, 13, 13, 13, 13, 13, 13, 13, 13, 13, 14, 14, 14, 14, 14, 14, 14, 14, 14, 14, 14, 14, 15, 15, 15, 15, 15, 15, 15, 15, 15, 15, 15, 15, 16, 16, 16, 16, 16, 16, 16, 16, 16, 16, 16, 16, 17, 17, 17, 17, 17, 17, 17, 17, 17, 17, 17, 17, 18, 18, 18, 18, 18, 18, 18, 18, 18, 18, 18, 18, 19, 19, 19, 19, 19, 19, 19, 19, 19, 19, 19, 19, 20, 20, 20, 20, 20, 20, 20, 20, 20, 20, 20, 20, 21, 21, 21, 21, 21, 21, 21, 21, 21, 21, 21, 21, 22, 22, 22, 22, 22, 22, 22, 22, 22, 22, 22, 22, 23, 23, 23, 23, 23, 23, 23, 23, 23, 23, 23, 23, 24, 24, 24, 24, 24, 24, 24, 24, 24, 24, 24, 24, 25, 25, 25, 25, 25, 25, 25, 25, 25, 25, 25, 25, 26, 26, 26, 26, 26, 26, 26, 26, 26, 26, 26, 26, 27, 27, 27, 27, 27, 27, 27, 27, 27, 27, 27, 27, 28, 28, 28, 28, 28, 28, 28, 28, 28, 28, 28, 28, 29, 29, 29, 29, 29, 29, 29, 29, 29, 29, 29, 29, 30, 30, 30, 30, 30, 30, 30, 30, 30, 30, 30, 30, 31, 31, 31, 31, 31, 31, 31, 31, 31, 31, 31, 31, 32, 32, 32, 32, 32, 32, 32, 32, 32, 32, 32, 32, 33, 33, 33, 33, 33, 33, 33, 33, 33, 33, 33, 33, 34, 34, 34, 34, 34, 34, 34, 34, 34, 34, 34, 34, 35, 35, 35, 35, 35, 35, 35, 35, 35, 35, 35, 35, 36, 36, 36, 36, 36, 36, 36, 36, 36, 36, 36, 36, 37, 37, 37, 37, 37, 37, 37, 37, 37, 37, 37, 37, 38, 38, 38, 38, 38, 38, 38, 38, 38, 38, 38, 38, 39, 39, 39, 39, 39, 39, 39, 39, 39, 39, 39, 39, 40, 40, 40, 40, 40, 40, 40, 40, 40, 40, 40, 40, 41, 41, 41, 41, 41, 41, 41, 41, 41, 41, 41, 41, 42, 42, 42, 42, 42, 42, 42, 42, 42, 42, 42, 42, 43, 43, 43, 43, 43, 43, 43, 43, 43, 43, 43, 43, 44, 44, 44, 44, 44, 44, 44, 44, 44, 44, 44, 44, 45, 45, 45, 45, 45, 45, 45, 45, 45, 45, 45, 45, 46, 46, 46, 46, 46, 46, 46, 46, 46, 46, 46, 46, 47, 47, 47, 47, 47, 47, 47, 47, 47, 47, 47, 47, 48, 48, 48, 48, 48, 48, 48, 48, 48, 48, 48, 48, 49, 49, 49, 49, 49, 49, 49, 49, 49, 49, 49, 49, 50, 50, 50, 50, 50, 50, 50, 50, 50, 50, 50, 50, 51, 51, 51, 51, 51, 51, 51, 51, 51, 51, 51, 51, 52, 52, 52, 52, 52, 52, 52, 52, 52, 52, 52, 52, 53, 53, 53, 53, 53, 53, 53, 53, 53, 53, 53, 53, 54, 54, 54, 54, 54, 54, 54, 54, 54, 54, 54, 54, 55, 55, 55, 55, 55, 55, 55, 55, 55, 55, 55, 55, 56, 56, 56, 56, 56, 56, 56, 56, 56, 56, 56, 56, 57, 57, 57, 57, 57, 57, 57, 57, 57, 57, 57, 57, 58, 58, 58, 58, 58, 58, 58, 58, 58, 58, 58, 58, 59, 59, 59, 59, 59, 59, 59, 59, 59, 59, 59, 59, 60, 60, 60, 60, 60, 60, 60, 60, 60, 60, 60, 60, 61, 61, 61, 61, 61, 61, 61, 61, 61, 61, 61, 61, 62, 62, 62, 62, 62, 62, 62, 62, 62, 62, 62, 62, 63, 63, 63, 63, 63, 63, 63, 63, 63, 63, 63, 63, 64, 64, 64, 64, 64, 64, 64, 64, 64, 64, 64, 64, 65, 65, 65, 65, 65, 65, 65, 65, 65, 65, 65, 65, 66, 66, 66, 66, 66, 66, 66, 66, 66, 66, 66, 66, 67, 67, 67, 67, 67, 67, 67, 67, 67, 67, 67, 67, 68, 68, 68, 68, 68, 68, 68, 68, 68, 68, 68, 68, 69, 69, 69, 69, 69, 69, 69, 69, 69, 69, 69, 69, 70, 70, 70, 70, 70, 70, 70, 70, 70, 70, 70, 70, 71, 71, 71, 71, 71, 71, 71, 71, 71, 71, 71, 71, 72, 72, 72, 72, 72, 72, 72, 72, 72, 72, 72, 72, 73, 73, 73, 73, 73, 73, 73, 73, 73, 73, 73, 73, 74, 74, 74, 74, 74, 74, 74, 74, 74, 74, 74, 74, 75, 75, 75, 75, 75, 75, 75, 75, 75, 75, 75, 75, 76, 76, 76, 76, 76, 76, 76, 76, 76, 76, 76, 76, 77, 77, 77, 77, 77, 77, 77, 77, 77, 77, 77, 77, 78, 78, 78, 78, 78, 78, 78, 78, 78, 78, 78, 78, 79, 79, 79, 79, 79, 79, 79, 79, 79, 79, 79, 79, 80, 80, 80, 80, 80, 80, 80, 80, 80, 80, 80, 80, 81, 81, 81, 81, 81, 81, 81, 81, 81, 81, 81, 81, 82, 82, 82, 82, 82, 82, 82, 82, 82, 82, 82, 82, 83, 83, 83, 83, 83, 83, 83, 83, 83, 83, 83, 83, 84, 84, 84, 84, 84, 84, 84, 84, 84, 84, 84, 84, 85, 85, 85, 85, 85, 85, 85, 85, 85, 85, 85, 85, 86, 86, 86, 86, 86, 86, 86, 86, 86, 86, 86, 86, 87, 87, 87, 87, 87, 87, 87, 87, 87, 87, 87, 87, 88, 88, 88, 88, 88, 88, 88, 88, 88, 88, 88, 88, 89, 89, 89, 89, 89, 89, 89, 89, 89, 89, 89, 89, 90, 90, 90, 90, 90, 90, 90, 90, 90, 90, 90, 90, 91, 91, 91, 91, 91, 91, 91, 91, 91, 91, 91, 91, 92, 92, 92, 92, 92, 92, 92, 92, 92, 92, 92, 92, 93, 93, 93, 93, 93, 93, 93, 93, 93, 93, 93, 93, 94, 94, 94, 94, 94, 94, 94, 94, 94, 94, 94, 94, 95, 95, 95, 95, 95, 95, 95, 95, 95, 95, 95, 95, 96, 96, 96, 96, 96, 96, 96, 96, 96, 96, 96, 96, 97, 97, 97, 97, 97, 97, 97, 97, 97, 97, 97, 97, 98, 98, 98, 98, 98, 98, 98, 98, 98, 98, 98, 98, 99, 99, 99, 99, 99, 99, 99, 99, 99, 99, 99, 99, 100, 100, 100, 100, 100, 100, 100, 100, 100, 100, 100, 100, 101, 101, 101, 101, 101, 101, 101, 101, 101, 101, 101, 101, 102, 102, 102, 102, 102, 102, 102, 102, 102, 102, 102, 102, 103, 103, 103, 103, 103, 103, 103, 103, 103, 103, 103, 103, 104, 104, 104, 104, 104, 104, 104, 104, 104, 104, 104, 104, 105, 105, 105, 105, 105, 105, 105, 105, 105, 105, 105, 105, 106, 106, 106, 106, 106, 106, 106, 106, 106, 106, 106, 106, 107, 107, 107, 107, 107, 107, 107, 107, 107, 107, 107, 107, 108, 108, 108, 108, 108, 108, 108, 108, 108, 108, 108, 108, 109, 109, 109, 109, 109, 109, 109, 109, 109, 109, 109, 109, 110, 110, 110, 110, 110, 110, 110, 110, 110, 110, 110, 110, 111, 111, 111, 111, 111, 111, 111, 111, 111, 111, 111, 111, 112, 112, 112, 112, 112, 112, 112, 112, 112, 112, 112, 112, 113, 113, 113, 113, 113, 113, 113, 113, 113, 113, 113, 113, 114, 114, 114, 114, 114, 114, 114, 114, 114, 114, 114, 114, 115, 115, 115, 115, 115, 115, 115, 115, 115, 115, 115, 115, 116, 116, 116, 116, 116, 116, 116, 116, 116, 116, 116, 116, 117, 117, 117, 117, 117, 117, 117, 117, 117, 117, 117, 117, 118, 118, 118, 118, 118, 118, 118, 118, 118, 118, 118, 118, 119, 119, 119, 119, 119, 119, 119, 119, 119, 119, 119, 119, 120, 120, 120, 120, 120, 120, 120, 120, 120, 120, 120, 120, 121, 121, 121, 121, 121, 121, 121, 121, 121, 121, 121, 121, 122, 122, 122, 122, 122, 122, 122, 122, 122, 122, 122, 122, 123, 123, 123, 123, 123, 123, 123, 123, 123, 123, 123, 123, 124, 124, 124, 124, 124, 124, 124, 124, 124, 124, 124, 124, 125, 125, 125, 125, 125, 125, 125, 125, 125, 125, 125, 125, 126, 126, 126, 126, 126, 126, 126, 126, 126, 126, 126, 126, 127, 127, 127, 127, 127, 127, 127, 127, 127, 127, 127, 127, 128, 128, 128, 128, 128, 128, 128, 128, 128, 128, 128, 128, 129, 129, 129, 129, 129, 129, 129, 129, 129, 129, 129, 129, 130, 130, 130, 130, 130, 130, 130, 130, 130, 130, 130, 130, 131, 131, 131, 131, 131, 131, 131, 131, 131, 131, 131, 131, 132, 132, 132, 132, 132, 132, 132, 132, 132, 132, 132, 132, 133, 133, 133, 133, 133, 133, 133, 133, 133, 133, 133, 133, 134, 134, 134, 134, 134, 134, 134, 134, 134, 134, 134, 134, 135, 135, 135, 135, 135, 135, 135, 135, 135, 135, 135, 135, 136, 136, 136, 136, 136, 136, 136, 136, 136, 136, 136, 136, 137, 137, 137, 137, 137, 137, 137, 137, 137, 137, 137, 137, 138, 138, 138, 138, 138, 138, 138, 138, 138, 138, 138, 138, 139, 139, 139], [0, 1, 2, 3, 4, 5, 6, 7, 8, 9, 10, 11, 0, 1, 2, 3, 4, 5, 6, 7, 8, 9, 10, 11, 0, 1, 2, 3, 4, 5, 6, 7, 8, 9, 10, 11, 0, 1, 2, 3, 4, 5, 6, 7, 8, 9, 10, 11, 0, 1, 2, 3, 4, 5, 6, 7, 8, 9, 10, 11, 0, 1, 2, 3, 4, 5, 6, 7, 8, 9, 10, 11, 0, 1, 2, 3, 4, 5, 6, 7, 8, 9, 10, 11, 0, 1, 2, 3, 4, 5, 6, 7, 8, 9, 10, 11, 0, 1, 2, 3, 4, 5, 6, 7, 8, 9, 10, 11, 0, 1, 2, 3, 4, 5, 6, 7, 8, 9, 10, 11, 0, 1, 2, 3, 4, 5, 6, 7, 8, 9, 10, 11, 0, 1, 2, 3, 4, 5, 6, 7, 8, 9, 10, 11, 0, 1, 2, 3, 4, 5, 6, 7, 8, 9, 10, 11, 0, 1, 2, 3, 4, 5, 6, 7, 8, 9, 10, 11, 0, 1, 2, 3, 4, 5, 6, 7, 8, 9, 10, 11, 0, 1, 2, 3, 4, 5, 6, 7, 8, 9, 10, 11, 0, 1, 2, 3, 4, 5, 6, 7, 8, 9, 10, 11, 0, 1, 2, 3, 4, 5, 6, 7, 8, 9, 10, 11, 0, 1, 2, 3, 4, 5, 6, 7, 8, 9, 10, 11, 0, 1, 2, 3, 4, 5, 6, 7, 8, 9, 10, 11, 0, 1, 2, 3, 4, 5, 6, 7, 8, 9, 10, 11, 0, 1, 2, 3, 4, 5, 6, 7, 8, 9, 10, 11, 0, 1, 2, 3, 4, 5, 6, 7, 8, 9, 10, 11, 0, 1, 2, 3, 4, 5, 6, 7, 8, 9, 10, 11, 0, 1, 2, 3, 4, 5, 6, 7, 8, 9, 10, 11, 0, 1, 2, 3, 4, 5, 6, 7, 8, 9, 10, 11, 0, 1, 2, 3, 4, 5, 6, 7, 8, 9, 10, 11, 0, 1, 2, 3, 4, 5, 6, 7, 8, 9, 10, 11, 0, 1, 2, 3, 4, 5, 6, 7, 8, 9, 10, 11, 0, 1, 2, 3, 4, 5, 6, 7, 8, 9, 10, 11, 0, 1, 2, 3, 4, 5, 6, 7, 8, 9, 10, 11, 0, 1, 2, 3, 4, 5, 6, 7, 8, 9, 10, 11, 0, 1, 2, 3, 4, 5, 6, 7, 8, 9, 10, 11, 0, 1, 2, 3, 4, 5, 6, 7, 8, 9, 10, 11, 0, 1, 2, 3, 4, 5, 6, 7, 8, 9, 10, 11, 0, 1, 2, 3, 4, 5, 6, 7, 8, 9, 10, 11, 0, 1, 2, 3, 4, 5, 6, 7, 8, 9, 10, 11, 0, 1, 2, 3, 4, 5, 6, 7, 8, 9, 10, 11, 0, 1, 2, 3, 4, 5, 6, 7, 8, 9, 10, 11, 0, 1, 2, 3, 4, 5, 6, 7, 8, 9, 10, 11, 0, 1, 2, 3, 4, 5, 6, 7, 8, 9, 10, 11, 0, 1, 2, 3, 4, 5, 6, 7, 8, 9, 10, 11, 0, 1, 2, 3, 4, 5, 6, 7, 8, 9, 10, 11, 0, 1, 2, 3, 4, 5, 6, 7, 8, 9, 10, 11, 0, 1, 2, 3, 4, 5, 6, 7, 8, 9, 10, 11, 0, 1, 2, 3, 4, 5, 6, 7, 8, 9, 10, 11, 0, 1, 2, 3, 4, 5, 6, 7, 8, 9, 10, 11, 0, 1, 2, 3, 4, 5, 6, 7, 8, 9, 10, 11, 0, 1, 2, 3, 4, 5, 6, 7, 8, 9, 10, 11, 0, 1, 2, 3, 4, 5, 6, 7, 8, 9, 10, 11, 0, 1, 2, 3, 4, 5, 6, 7, 8, 9, 10, 11, 0, 1, 2, 3, 4, 5, 6, 7, 8, 9, 10, 11, 0, 1, 2, 3, 4, 5, 6, 7, 8, 9, 10, 11, 0, 1, 2, 3, 4, 5, 6, 7, 8, 9, 10, 11, 0, 1, 2, 3, 4, 5, 6, 7, 8, 9, 10, 11, 0, 1, 2, 3, 4, 5, 6, 7, 8, 9, 10, 11, 0, 1, 2, 3, 4, 5, 6, 7, 8, 9, 10, 11, 0, 1, 2, 3, 4, 5, 6, 7, 8, 9, 10, 11, 0, 1, 2, 3, 4, 5, 6, 7, 8, 9, 10, 11, 0, 1, 2, 3, 4, 5, 6, 7, 8, 9, 10, 11, 0, 1, 2, 3, 4, 5, 6, 7, 8, 9, 10, 11, 0, 1, 2, 3, 4, 5, 6, 7, 8, 9, 10, 11, 0, 1, 2, 3, 4, 5, 6, 7, 8, 9, 10, 11, 0, 1, 2, 3, 4, 5, 6, 7, 8, 9, 10, 11, 0, 1, 2, 3, 4, 5, 6, 7, 8, 9, 10, 11, 0, 1, 2, 3, 4, 5, 6, 7, 8, 9, 10, 11, 0, 1, 2, 3, 4, 5, 6, 7, 8, 9, 10, 11, 0, 1, 2, 3, 4, 5, 6, 7, 8, 9, 10, 11, 0, 1, 2, 3, 4, 5, 6, 7, 8, 9, 10, 11, 0, 1, 2, 3, 4, 5, 6, 7, 8, 9, 10, 11, 0, 1, 2, 3, 4, 5, 6, 7, 8, 9, 10, 11, 0, 1, 2, 3, 4, 5, 6, 7, 8, 9, 10, 11, 0, 1, 2, 3, 4, 5, 6, 7, 8, 9, 10, 11, 0, 1, 2, 3, 4, 5, 6, 7, 8, 9, 10, 11, 0, 1, 2, 3, 4, 5, 6, 7, 8, 9, 10, 11, 0, 1, 2, 3, 4, 5, 6, 7, 8, 9, 10, 11, 0, 1, 2, 3, 4, 5, 6, 7, 8, 9, 10, 11, 0, 1, 2, 3, 4, 5, 6, 7, 8, 9, 10, 11, 0, 1, 2, 3, 4, 5, 6, 7, 8, 9, 10, 11, 0, 1, 2, 3, 4, 5, 6, 7, 8, 9, 10, 11, 0, 1, 2, 3, 4, 5, 6, 7, 8, 9, 10, 11, 0, 1, 2, 3, 4, 5, 6, 7, 8, 9, 10, 11, 0, 1, 2, 3, 4, 5, 6, 7, 8, 9, 10, 11, 0, 1, 2, 3, 4, 5, 6, 7, 8, 9, 10, 11, 0, 1, 2, 3, 4, 5, 6, 7, 8, 9, 10, 11, 0, 1, 2, 3, 4, 5, 6, 7, 8, 9, 10, 11, 0, 1, 2, 3, 4, 5, 6, 7, 8, 9, 10, 11, 0, 1, 2, 3, 4, 5, 6, 7, 8, 9, 10, 11, 0, 1, 2, 3, 4, 5, 6, 7, 8, 9, 10, 11, 0, 1, 2, 3, 4, 5, 6, 7, 8, 9, 10, 11, 0, 1, 2, 3, 4, 5, 6, 7, 8, 9, 10, 11, 0, 1, 2, 3, 4, 5, 6, 7, 8, 9, 10, 11, 0, 1, 2, 3, 4, 5, 6, 7, 8, 9, 10, 11, 0, 1, 2, 3, 4, 5, 6, 7, 8, 9, 10, 11, 0, 1, 2, 3, 4, 5, 6, 7, 8, 9, 10, 11, 0, 1, 2, 3, 4, 5, 6, 7, 8, 9, 10, 11, 0, 1, 2, 3, 4, 5, 6, 7, 8, 9, 10, 11, 0, 1, 2, 3, 4, 5, 6, 7, 8, 9, 10, 11, 0, 1, 2, 3, 4, 5, 6, 7, 8, 9, 10, 11, 0, 1, 2, 3, 4, 5, 6, 7, 8, 9, 10, 11, 0, 1, 2, 3, 4, 5, 6, 7, 8, 9, 10, 11, 0, 1, 2, 3, 4, 5, 6, 7, 8, 9, 10, 11, 0, 1, 2, 3, 4, 5, 6, 7, 8, 9, 10, 11, 0, 1, 2, 3, 4, 5, 6, 7, 8, 9, 10, 11, 0, 1, 2, 3, 4, 5, 6, 7, 8, 9, 10, 11, 0, 1, 2, 3, 4, 5, 6, 7, 8, 9, 10, 11, 0, 1, 2, 3, 4, 5, 6, 7, 8, 9, 10, 11, 0, 1, 2, 3, 4, 5, 6, 7, 8, 9, 10, 11, 0, 1, 2, 3, 4, 5, 6, 7, 8, 9, 10, 11, 0, 1, 2, 3, 4, 5, 6, 7, 8, 9, 10, 11, 0, 1, 2, 3, 4, 5, 6, 7, 8, 9, 10, 11, 0, 1, 2, 3, 4, 5, 6, 7, 8, 9, 10, 11, 0, 1, 2, 3, 4, 5, 6, 7, 8, 9, 10, 11, 0, 1, 2, 3, 4, 5, 6, 7, 8, 9, 10, 11, 0, 1, 2, 3, 4, 5, 6, 7, 8, 9, 10, 11, 0, 1, 2, 3, 4, 5, 6, 7, 8, 9, 10, 11, 0, 1, 2, 3, 4, 5, 6, 7, 8, 9, 10, 11, 0, 1, 2, 3, 4, 5, 6, 7, 8, 9, 10, 11, 0, 1, 2, 3, 4, 5, 6, 7, 8, 9, 10, 11, 0, 1, 2, 3, 4, 5, 6, 7, 8, 9, 10, 11, 0, 1, 2, 3, 4, 5, 6, 7, 8, 9, 10, 11, 0, 1, 2, 3, 4, 5, 6, 7, 8, 9, 10, 11, 0, 1, 2, 3, 4, 5, 6, 7, 8, 9, 10, 11, 0, 1, 2, 3, 4, 5, 6, 7, 8, 9, 10, 11, 0, 1, 2, 3, 4, 5, 6, 7, 8, 9, 10, 11, 0, 1, 2, 3, 4, 5, 6, 7, 8, 9, 10, 11, 0, 1, 2, 3, 4, 5, 6, 7, 8, 9, 10, 11, 0, 1, 2, 3, 4, 5, 6, 7, 8, 9, 10, 11, 0, 1, 2, 3, 4, 5, 6, 7, 8, 9, 10, 11, 0, 1, 2, 3, 4, 5, 6, 7, 8, 9, 10, 11, 0, 1, 2, 3, 4, 5, 6, 7, 8, 9, 10, 11, 0, 1, 2, 3, 4, 5, 6, 7, 8, 9, 10, 11, 0, 1, 2, 3, 4, 5, 6, 7, 8, 9, 10, 11, 0, 1, 2, 3, 4, 5, 6, 7, 8, 9, 10, 11, 0, 1, 2, 3, 4, 5, 6, 7, 8, 9, 10, 11, 0, 1, 2, 3, 4, 5, 6, 7, 8, 9, 10, 11, 0, 1, 2, 3, 4, 5, 6, 7, 8, 9, 10, 11, 0, 1, 2, 3, 4, 5, 6, 7, 8, 9, 10, 11, 0, 1, 2, 3, 4, 5, 6, 7, 8, 9, 10, 11, 0, 1, 2]],\n",
       "           names=['Year', None])"
      ]
     },
     "execution_count": 115,
     "metadata": {},
     "output_type": "execute_result"
    }
   ],
   "source": [
    "SOIs.index"
   ]
  },
  {
   "cell_type": "code",
   "execution_count": 116,
   "metadata": {
    "collapsed": false
   },
   "outputs": [],
   "source": [
    "from dateutil import parser"
   ]
  },
  {
   "cell_type": "code",
   "execution_count": 117,
   "metadata": {
    "collapsed": false
   },
   "outputs": [],
   "source": [
    "dateindex = [parser.parse(\"-\".join(map(str, [x[0], x[1], 1]))) for x in SOIs.index]"
   ]
  },
  {
   "cell_type": "code",
   "execution_count": 118,
   "metadata": {
    "collapsed": false
   },
   "outputs": [
    {
     "data": {
      "text/plain": [
       "[datetime.datetime(1876, 1, 1, 0, 0),\n",
       " datetime.datetime(1876, 2, 1, 0, 0),\n",
       " datetime.datetime(1876, 3, 1, 0, 0),\n",
       " datetime.datetime(1876, 4, 1, 0, 0),\n",
       " datetime.datetime(1876, 5, 1, 0, 0),\n",
       " datetime.datetime(1876, 6, 1, 0, 0),\n",
       " datetime.datetime(1876, 7, 1, 0, 0),\n",
       " datetime.datetime(1876, 8, 1, 0, 0),\n",
       " datetime.datetime(1876, 9, 1, 0, 0),\n",
       " datetime.datetime(1876, 10, 1, 0, 0),\n",
       " datetime.datetime(1876, 11, 1, 0, 0),\n",
       " datetime.datetime(1876, 12, 1, 0, 0),\n",
       " datetime.datetime(1877, 1, 1, 0, 0),\n",
       " datetime.datetime(1877, 2, 1, 0, 0),\n",
       " datetime.datetime(1877, 3, 1, 0, 0),\n",
       " datetime.datetime(1877, 4, 1, 0, 0),\n",
       " datetime.datetime(1877, 5, 1, 0, 0),\n",
       " datetime.datetime(1877, 6, 1, 0, 0),\n",
       " datetime.datetime(1877, 7, 1, 0, 0),\n",
       " datetime.datetime(1877, 8, 1, 0, 0),\n",
       " datetime.datetime(1877, 9, 1, 0, 0),\n",
       " datetime.datetime(1877, 10, 1, 0, 0),\n",
       " datetime.datetime(1877, 11, 1, 0, 0),\n",
       " datetime.datetime(1877, 12, 1, 0, 0),\n",
       " datetime.datetime(1878, 1, 1, 0, 0),\n",
       " datetime.datetime(1878, 2, 1, 0, 0),\n",
       " datetime.datetime(1878, 3, 1, 0, 0),\n",
       " datetime.datetime(1878, 4, 1, 0, 0),\n",
       " datetime.datetime(1878, 5, 1, 0, 0),\n",
       " datetime.datetime(1878, 6, 1, 0, 0),\n",
       " datetime.datetime(1878, 7, 1, 0, 0),\n",
       " datetime.datetime(1878, 8, 1, 0, 0),\n",
       " datetime.datetime(1878, 9, 1, 0, 0),\n",
       " datetime.datetime(1878, 10, 1, 0, 0),\n",
       " datetime.datetime(1878, 11, 1, 0, 0),\n",
       " datetime.datetime(1878, 12, 1, 0, 0),\n",
       " datetime.datetime(1879, 1, 1, 0, 0),\n",
       " datetime.datetime(1879, 2, 1, 0, 0),\n",
       " datetime.datetime(1879, 3, 1, 0, 0),\n",
       " datetime.datetime(1879, 4, 1, 0, 0),\n",
       " datetime.datetime(1879, 5, 1, 0, 0),\n",
       " datetime.datetime(1879, 6, 1, 0, 0),\n",
       " datetime.datetime(1879, 7, 1, 0, 0),\n",
       " datetime.datetime(1879, 8, 1, 0, 0),\n",
       " datetime.datetime(1879, 9, 1, 0, 0),\n",
       " datetime.datetime(1879, 10, 1, 0, 0),\n",
       " datetime.datetime(1879, 11, 1, 0, 0),\n",
       " datetime.datetime(1879, 12, 1, 0, 0),\n",
       " datetime.datetime(1880, 1, 1, 0, 0),\n",
       " datetime.datetime(1880, 2, 1, 0, 0),\n",
       " datetime.datetime(1880, 3, 1, 0, 0),\n",
       " datetime.datetime(1880, 4, 1, 0, 0),\n",
       " datetime.datetime(1880, 5, 1, 0, 0),\n",
       " datetime.datetime(1880, 6, 1, 0, 0),\n",
       " datetime.datetime(1880, 7, 1, 0, 0),\n",
       " datetime.datetime(1880, 8, 1, 0, 0),\n",
       " datetime.datetime(1880, 9, 1, 0, 0),\n",
       " datetime.datetime(1880, 10, 1, 0, 0),\n",
       " datetime.datetime(1880, 11, 1, 0, 0),\n",
       " datetime.datetime(1880, 12, 1, 0, 0),\n",
       " datetime.datetime(1881, 1, 1, 0, 0),\n",
       " datetime.datetime(1881, 2, 1, 0, 0),\n",
       " datetime.datetime(1881, 3, 1, 0, 0),\n",
       " datetime.datetime(1881, 4, 1, 0, 0),\n",
       " datetime.datetime(1881, 5, 1, 0, 0),\n",
       " datetime.datetime(1881, 6, 1, 0, 0),\n",
       " datetime.datetime(1881, 7, 1, 0, 0),\n",
       " datetime.datetime(1881, 8, 1, 0, 0),\n",
       " datetime.datetime(1881, 9, 1, 0, 0),\n",
       " datetime.datetime(1881, 10, 1, 0, 0),\n",
       " datetime.datetime(1881, 11, 1, 0, 0),\n",
       " datetime.datetime(1881, 12, 1, 0, 0),\n",
       " datetime.datetime(1882, 1, 1, 0, 0),\n",
       " datetime.datetime(1882, 2, 1, 0, 0),\n",
       " datetime.datetime(1882, 3, 1, 0, 0),\n",
       " datetime.datetime(1882, 4, 1, 0, 0),\n",
       " datetime.datetime(1882, 5, 1, 0, 0),\n",
       " datetime.datetime(1882, 6, 1, 0, 0),\n",
       " datetime.datetime(1882, 7, 1, 0, 0),\n",
       " datetime.datetime(1882, 8, 1, 0, 0),\n",
       " datetime.datetime(1882, 9, 1, 0, 0),\n",
       " datetime.datetime(1882, 10, 1, 0, 0),\n",
       " datetime.datetime(1882, 11, 1, 0, 0),\n",
       " datetime.datetime(1882, 12, 1, 0, 0),\n",
       " datetime.datetime(1883, 1, 1, 0, 0),\n",
       " datetime.datetime(1883, 2, 1, 0, 0),\n",
       " datetime.datetime(1883, 3, 1, 0, 0),\n",
       " datetime.datetime(1883, 4, 1, 0, 0),\n",
       " datetime.datetime(1883, 5, 1, 0, 0),\n",
       " datetime.datetime(1883, 6, 1, 0, 0),\n",
       " datetime.datetime(1883, 7, 1, 0, 0),\n",
       " datetime.datetime(1883, 8, 1, 0, 0),\n",
       " datetime.datetime(1883, 9, 1, 0, 0),\n",
       " datetime.datetime(1883, 10, 1, 0, 0),\n",
       " datetime.datetime(1883, 11, 1, 0, 0),\n",
       " datetime.datetime(1883, 12, 1, 0, 0),\n",
       " datetime.datetime(1884, 1, 1, 0, 0),\n",
       " datetime.datetime(1884, 2, 1, 0, 0),\n",
       " datetime.datetime(1884, 3, 1, 0, 0),\n",
       " datetime.datetime(1884, 4, 1, 0, 0),\n",
       " datetime.datetime(1884, 5, 1, 0, 0),\n",
       " datetime.datetime(1884, 6, 1, 0, 0),\n",
       " datetime.datetime(1884, 7, 1, 0, 0),\n",
       " datetime.datetime(1884, 8, 1, 0, 0),\n",
       " datetime.datetime(1884, 9, 1, 0, 0),\n",
       " datetime.datetime(1884, 10, 1, 0, 0),\n",
       " datetime.datetime(1884, 11, 1, 0, 0),\n",
       " datetime.datetime(1884, 12, 1, 0, 0),\n",
       " datetime.datetime(1885, 1, 1, 0, 0),\n",
       " datetime.datetime(1885, 2, 1, 0, 0),\n",
       " datetime.datetime(1885, 3, 1, 0, 0),\n",
       " datetime.datetime(1885, 4, 1, 0, 0),\n",
       " datetime.datetime(1885, 5, 1, 0, 0),\n",
       " datetime.datetime(1885, 6, 1, 0, 0),\n",
       " datetime.datetime(1885, 7, 1, 0, 0),\n",
       " datetime.datetime(1885, 8, 1, 0, 0),\n",
       " datetime.datetime(1885, 9, 1, 0, 0),\n",
       " datetime.datetime(1885, 10, 1, 0, 0),\n",
       " datetime.datetime(1885, 11, 1, 0, 0),\n",
       " datetime.datetime(1885, 12, 1, 0, 0),\n",
       " datetime.datetime(1886, 1, 1, 0, 0),\n",
       " datetime.datetime(1886, 2, 1, 0, 0),\n",
       " datetime.datetime(1886, 3, 1, 0, 0),\n",
       " datetime.datetime(1886, 4, 1, 0, 0),\n",
       " datetime.datetime(1886, 5, 1, 0, 0),\n",
       " datetime.datetime(1886, 6, 1, 0, 0),\n",
       " datetime.datetime(1886, 7, 1, 0, 0),\n",
       " datetime.datetime(1886, 8, 1, 0, 0),\n",
       " datetime.datetime(1886, 9, 1, 0, 0),\n",
       " datetime.datetime(1886, 10, 1, 0, 0),\n",
       " datetime.datetime(1886, 11, 1, 0, 0),\n",
       " datetime.datetime(1886, 12, 1, 0, 0),\n",
       " datetime.datetime(1887, 1, 1, 0, 0),\n",
       " datetime.datetime(1887, 2, 1, 0, 0),\n",
       " datetime.datetime(1887, 3, 1, 0, 0),\n",
       " datetime.datetime(1887, 4, 1, 0, 0),\n",
       " datetime.datetime(1887, 5, 1, 0, 0),\n",
       " datetime.datetime(1887, 6, 1, 0, 0),\n",
       " datetime.datetime(1887, 7, 1, 0, 0),\n",
       " datetime.datetime(1887, 8, 1, 0, 0),\n",
       " datetime.datetime(1887, 9, 1, 0, 0),\n",
       " datetime.datetime(1887, 10, 1, 0, 0),\n",
       " datetime.datetime(1887, 11, 1, 0, 0),\n",
       " datetime.datetime(1887, 12, 1, 0, 0),\n",
       " datetime.datetime(1888, 1, 1, 0, 0),\n",
       " datetime.datetime(1888, 2, 1, 0, 0),\n",
       " datetime.datetime(1888, 3, 1, 0, 0),\n",
       " datetime.datetime(1888, 4, 1, 0, 0),\n",
       " datetime.datetime(1888, 5, 1, 0, 0),\n",
       " datetime.datetime(1888, 6, 1, 0, 0),\n",
       " datetime.datetime(1888, 7, 1, 0, 0),\n",
       " datetime.datetime(1888, 8, 1, 0, 0),\n",
       " datetime.datetime(1888, 9, 1, 0, 0),\n",
       " datetime.datetime(1888, 10, 1, 0, 0),\n",
       " datetime.datetime(1888, 11, 1, 0, 0),\n",
       " datetime.datetime(1888, 12, 1, 0, 0),\n",
       " datetime.datetime(1889, 1, 1, 0, 0),\n",
       " datetime.datetime(1889, 2, 1, 0, 0),\n",
       " datetime.datetime(1889, 3, 1, 0, 0),\n",
       " datetime.datetime(1889, 4, 1, 0, 0),\n",
       " datetime.datetime(1889, 5, 1, 0, 0),\n",
       " datetime.datetime(1889, 6, 1, 0, 0),\n",
       " datetime.datetime(1889, 7, 1, 0, 0),\n",
       " datetime.datetime(1889, 8, 1, 0, 0),\n",
       " datetime.datetime(1889, 9, 1, 0, 0),\n",
       " datetime.datetime(1889, 10, 1, 0, 0),\n",
       " datetime.datetime(1889, 11, 1, 0, 0),\n",
       " datetime.datetime(1889, 12, 1, 0, 0),\n",
       " datetime.datetime(1890, 1, 1, 0, 0),\n",
       " datetime.datetime(1890, 2, 1, 0, 0),\n",
       " datetime.datetime(1890, 3, 1, 0, 0),\n",
       " datetime.datetime(1890, 4, 1, 0, 0),\n",
       " datetime.datetime(1890, 5, 1, 0, 0),\n",
       " datetime.datetime(1890, 6, 1, 0, 0),\n",
       " datetime.datetime(1890, 7, 1, 0, 0),\n",
       " datetime.datetime(1890, 8, 1, 0, 0),\n",
       " datetime.datetime(1890, 9, 1, 0, 0),\n",
       " datetime.datetime(1890, 10, 1, 0, 0),\n",
       " datetime.datetime(1890, 11, 1, 0, 0),\n",
       " datetime.datetime(1890, 12, 1, 0, 0),\n",
       " datetime.datetime(1891, 1, 1, 0, 0),\n",
       " datetime.datetime(1891, 2, 1, 0, 0),\n",
       " datetime.datetime(1891, 3, 1, 0, 0),\n",
       " datetime.datetime(1891, 4, 1, 0, 0),\n",
       " datetime.datetime(1891, 5, 1, 0, 0),\n",
       " datetime.datetime(1891, 6, 1, 0, 0),\n",
       " datetime.datetime(1891, 7, 1, 0, 0),\n",
       " datetime.datetime(1891, 8, 1, 0, 0),\n",
       " datetime.datetime(1891, 9, 1, 0, 0),\n",
       " datetime.datetime(1891, 10, 1, 0, 0),\n",
       " datetime.datetime(1891, 11, 1, 0, 0),\n",
       " datetime.datetime(1891, 12, 1, 0, 0),\n",
       " datetime.datetime(1892, 1, 1, 0, 0),\n",
       " datetime.datetime(1892, 2, 1, 0, 0),\n",
       " datetime.datetime(1892, 3, 1, 0, 0),\n",
       " datetime.datetime(1892, 4, 1, 0, 0),\n",
       " datetime.datetime(1892, 5, 1, 0, 0),\n",
       " datetime.datetime(1892, 6, 1, 0, 0),\n",
       " datetime.datetime(1892, 7, 1, 0, 0),\n",
       " datetime.datetime(1892, 8, 1, 0, 0),\n",
       " datetime.datetime(1892, 9, 1, 0, 0),\n",
       " datetime.datetime(1892, 10, 1, 0, 0),\n",
       " datetime.datetime(1892, 11, 1, 0, 0),\n",
       " datetime.datetime(1892, 12, 1, 0, 0),\n",
       " datetime.datetime(1893, 1, 1, 0, 0),\n",
       " datetime.datetime(1893, 2, 1, 0, 0),\n",
       " datetime.datetime(1893, 3, 1, 0, 0),\n",
       " datetime.datetime(1893, 4, 1, 0, 0),\n",
       " datetime.datetime(1893, 5, 1, 0, 0),\n",
       " datetime.datetime(1893, 6, 1, 0, 0),\n",
       " datetime.datetime(1893, 7, 1, 0, 0),\n",
       " datetime.datetime(1893, 8, 1, 0, 0),\n",
       " datetime.datetime(1893, 9, 1, 0, 0),\n",
       " datetime.datetime(1893, 10, 1, 0, 0),\n",
       " datetime.datetime(1893, 11, 1, 0, 0),\n",
       " datetime.datetime(1893, 12, 1, 0, 0),\n",
       " datetime.datetime(1894, 1, 1, 0, 0),\n",
       " datetime.datetime(1894, 2, 1, 0, 0),\n",
       " datetime.datetime(1894, 3, 1, 0, 0),\n",
       " datetime.datetime(1894, 4, 1, 0, 0),\n",
       " datetime.datetime(1894, 5, 1, 0, 0),\n",
       " datetime.datetime(1894, 6, 1, 0, 0),\n",
       " datetime.datetime(1894, 7, 1, 0, 0),\n",
       " datetime.datetime(1894, 8, 1, 0, 0),\n",
       " datetime.datetime(1894, 9, 1, 0, 0),\n",
       " datetime.datetime(1894, 10, 1, 0, 0),\n",
       " datetime.datetime(1894, 11, 1, 0, 0),\n",
       " datetime.datetime(1894, 12, 1, 0, 0),\n",
       " datetime.datetime(1895, 1, 1, 0, 0),\n",
       " datetime.datetime(1895, 2, 1, 0, 0),\n",
       " datetime.datetime(1895, 3, 1, 0, 0),\n",
       " datetime.datetime(1895, 4, 1, 0, 0),\n",
       " datetime.datetime(1895, 5, 1, 0, 0),\n",
       " datetime.datetime(1895, 6, 1, 0, 0),\n",
       " datetime.datetime(1895, 7, 1, 0, 0),\n",
       " datetime.datetime(1895, 8, 1, 0, 0),\n",
       " datetime.datetime(1895, 9, 1, 0, 0),\n",
       " datetime.datetime(1895, 10, 1, 0, 0),\n",
       " datetime.datetime(1895, 11, 1, 0, 0),\n",
       " datetime.datetime(1895, 12, 1, 0, 0),\n",
       " datetime.datetime(1896, 1, 1, 0, 0),\n",
       " datetime.datetime(1896, 2, 1, 0, 0),\n",
       " datetime.datetime(1896, 3, 1, 0, 0),\n",
       " datetime.datetime(1896, 4, 1, 0, 0),\n",
       " datetime.datetime(1896, 5, 1, 0, 0),\n",
       " datetime.datetime(1896, 6, 1, 0, 0),\n",
       " datetime.datetime(1896, 7, 1, 0, 0),\n",
       " datetime.datetime(1896, 8, 1, 0, 0),\n",
       " datetime.datetime(1896, 9, 1, 0, 0),\n",
       " datetime.datetime(1896, 10, 1, 0, 0),\n",
       " datetime.datetime(1896, 11, 1, 0, 0),\n",
       " datetime.datetime(1896, 12, 1, 0, 0),\n",
       " datetime.datetime(1897, 1, 1, 0, 0),\n",
       " datetime.datetime(1897, 2, 1, 0, 0),\n",
       " datetime.datetime(1897, 3, 1, 0, 0),\n",
       " datetime.datetime(1897, 4, 1, 0, 0),\n",
       " datetime.datetime(1897, 5, 1, 0, 0),\n",
       " datetime.datetime(1897, 6, 1, 0, 0),\n",
       " datetime.datetime(1897, 7, 1, 0, 0),\n",
       " datetime.datetime(1897, 8, 1, 0, 0),\n",
       " datetime.datetime(1897, 9, 1, 0, 0),\n",
       " datetime.datetime(1897, 10, 1, 0, 0),\n",
       " datetime.datetime(1897, 11, 1, 0, 0),\n",
       " datetime.datetime(1897, 12, 1, 0, 0),\n",
       " datetime.datetime(1898, 1, 1, 0, 0),\n",
       " datetime.datetime(1898, 2, 1, 0, 0),\n",
       " datetime.datetime(1898, 3, 1, 0, 0),\n",
       " datetime.datetime(1898, 4, 1, 0, 0),\n",
       " datetime.datetime(1898, 5, 1, 0, 0),\n",
       " datetime.datetime(1898, 6, 1, 0, 0),\n",
       " datetime.datetime(1898, 7, 1, 0, 0),\n",
       " datetime.datetime(1898, 8, 1, 0, 0),\n",
       " datetime.datetime(1898, 9, 1, 0, 0),\n",
       " datetime.datetime(1898, 10, 1, 0, 0),\n",
       " datetime.datetime(1898, 11, 1, 0, 0),\n",
       " datetime.datetime(1898, 12, 1, 0, 0),\n",
       " datetime.datetime(1899, 1, 1, 0, 0),\n",
       " datetime.datetime(1899, 2, 1, 0, 0),\n",
       " datetime.datetime(1899, 3, 1, 0, 0),\n",
       " datetime.datetime(1899, 4, 1, 0, 0),\n",
       " datetime.datetime(1899, 5, 1, 0, 0),\n",
       " datetime.datetime(1899, 6, 1, 0, 0),\n",
       " datetime.datetime(1899, 7, 1, 0, 0),\n",
       " datetime.datetime(1899, 8, 1, 0, 0),\n",
       " datetime.datetime(1899, 9, 1, 0, 0),\n",
       " datetime.datetime(1899, 10, 1, 0, 0),\n",
       " datetime.datetime(1899, 11, 1, 0, 0),\n",
       " datetime.datetime(1899, 12, 1, 0, 0),\n",
       " datetime.datetime(1900, 1, 1, 0, 0),\n",
       " datetime.datetime(1900, 2, 1, 0, 0),\n",
       " datetime.datetime(1900, 3, 1, 0, 0),\n",
       " datetime.datetime(1900, 4, 1, 0, 0),\n",
       " datetime.datetime(1900, 5, 1, 0, 0),\n",
       " datetime.datetime(1900, 6, 1, 0, 0),\n",
       " datetime.datetime(1900, 7, 1, 0, 0),\n",
       " datetime.datetime(1900, 8, 1, 0, 0),\n",
       " datetime.datetime(1900, 9, 1, 0, 0),\n",
       " datetime.datetime(1900, 10, 1, 0, 0),\n",
       " datetime.datetime(1900, 11, 1, 0, 0),\n",
       " datetime.datetime(1900, 12, 1, 0, 0),\n",
       " datetime.datetime(1901, 1, 1, 0, 0),\n",
       " datetime.datetime(1901, 2, 1, 0, 0),\n",
       " datetime.datetime(1901, 3, 1, 0, 0),\n",
       " datetime.datetime(1901, 4, 1, 0, 0),\n",
       " datetime.datetime(1901, 5, 1, 0, 0),\n",
       " datetime.datetime(1901, 6, 1, 0, 0),\n",
       " datetime.datetime(1901, 7, 1, 0, 0),\n",
       " datetime.datetime(1901, 8, 1, 0, 0),\n",
       " datetime.datetime(1901, 9, 1, 0, 0),\n",
       " datetime.datetime(1901, 10, 1, 0, 0),\n",
       " datetime.datetime(1901, 11, 1, 0, 0),\n",
       " datetime.datetime(1901, 12, 1, 0, 0),\n",
       " datetime.datetime(1902, 1, 1, 0, 0),\n",
       " datetime.datetime(1902, 2, 1, 0, 0),\n",
       " datetime.datetime(1902, 3, 1, 0, 0),\n",
       " datetime.datetime(1902, 4, 1, 0, 0),\n",
       " datetime.datetime(1902, 5, 1, 0, 0),\n",
       " datetime.datetime(1902, 6, 1, 0, 0),\n",
       " datetime.datetime(1902, 7, 1, 0, 0),\n",
       " datetime.datetime(1902, 8, 1, 0, 0),\n",
       " datetime.datetime(1902, 9, 1, 0, 0),\n",
       " datetime.datetime(1902, 10, 1, 0, 0),\n",
       " datetime.datetime(1902, 11, 1, 0, 0),\n",
       " datetime.datetime(1902, 12, 1, 0, 0),\n",
       " datetime.datetime(1903, 1, 1, 0, 0),\n",
       " datetime.datetime(1903, 2, 1, 0, 0),\n",
       " datetime.datetime(1903, 3, 1, 0, 0),\n",
       " datetime.datetime(1903, 4, 1, 0, 0),\n",
       " datetime.datetime(1903, 5, 1, 0, 0),\n",
       " datetime.datetime(1903, 6, 1, 0, 0),\n",
       " datetime.datetime(1903, 7, 1, 0, 0),\n",
       " datetime.datetime(1903, 8, 1, 0, 0),\n",
       " datetime.datetime(1903, 9, 1, 0, 0),\n",
       " datetime.datetime(1903, 10, 1, 0, 0),\n",
       " datetime.datetime(1903, 11, 1, 0, 0),\n",
       " datetime.datetime(1903, 12, 1, 0, 0),\n",
       " datetime.datetime(1904, 1, 1, 0, 0),\n",
       " datetime.datetime(1904, 2, 1, 0, 0),\n",
       " datetime.datetime(1904, 3, 1, 0, 0),\n",
       " datetime.datetime(1904, 4, 1, 0, 0),\n",
       " datetime.datetime(1904, 5, 1, 0, 0),\n",
       " datetime.datetime(1904, 6, 1, 0, 0),\n",
       " datetime.datetime(1904, 7, 1, 0, 0),\n",
       " datetime.datetime(1904, 8, 1, 0, 0),\n",
       " datetime.datetime(1904, 9, 1, 0, 0),\n",
       " datetime.datetime(1904, 10, 1, 0, 0),\n",
       " datetime.datetime(1904, 11, 1, 0, 0),\n",
       " datetime.datetime(1904, 12, 1, 0, 0),\n",
       " datetime.datetime(1905, 1, 1, 0, 0),\n",
       " datetime.datetime(1905, 2, 1, 0, 0),\n",
       " datetime.datetime(1905, 3, 1, 0, 0),\n",
       " datetime.datetime(1905, 4, 1, 0, 0),\n",
       " datetime.datetime(1905, 5, 1, 0, 0),\n",
       " datetime.datetime(1905, 6, 1, 0, 0),\n",
       " datetime.datetime(1905, 7, 1, 0, 0),\n",
       " datetime.datetime(1905, 8, 1, 0, 0),\n",
       " datetime.datetime(1905, 9, 1, 0, 0),\n",
       " datetime.datetime(1905, 10, 1, 0, 0),\n",
       " datetime.datetime(1905, 11, 1, 0, 0),\n",
       " datetime.datetime(1905, 12, 1, 0, 0),\n",
       " datetime.datetime(1906, 1, 1, 0, 0),\n",
       " datetime.datetime(1906, 2, 1, 0, 0),\n",
       " datetime.datetime(1906, 3, 1, 0, 0),\n",
       " datetime.datetime(1906, 4, 1, 0, 0),\n",
       " datetime.datetime(1906, 5, 1, 0, 0),\n",
       " datetime.datetime(1906, 6, 1, 0, 0),\n",
       " datetime.datetime(1906, 7, 1, 0, 0),\n",
       " datetime.datetime(1906, 8, 1, 0, 0),\n",
       " datetime.datetime(1906, 9, 1, 0, 0),\n",
       " datetime.datetime(1906, 10, 1, 0, 0),\n",
       " datetime.datetime(1906, 11, 1, 0, 0),\n",
       " datetime.datetime(1906, 12, 1, 0, 0),\n",
       " datetime.datetime(1907, 1, 1, 0, 0),\n",
       " datetime.datetime(1907, 2, 1, 0, 0),\n",
       " datetime.datetime(1907, 3, 1, 0, 0),\n",
       " datetime.datetime(1907, 4, 1, 0, 0),\n",
       " datetime.datetime(1907, 5, 1, 0, 0),\n",
       " datetime.datetime(1907, 6, 1, 0, 0),\n",
       " datetime.datetime(1907, 7, 1, 0, 0),\n",
       " datetime.datetime(1907, 8, 1, 0, 0),\n",
       " datetime.datetime(1907, 9, 1, 0, 0),\n",
       " datetime.datetime(1907, 10, 1, 0, 0),\n",
       " datetime.datetime(1907, 11, 1, 0, 0),\n",
       " datetime.datetime(1907, 12, 1, 0, 0),\n",
       " datetime.datetime(1908, 1, 1, 0, 0),\n",
       " datetime.datetime(1908, 2, 1, 0, 0),\n",
       " datetime.datetime(1908, 3, 1, 0, 0),\n",
       " datetime.datetime(1908, 4, 1, 0, 0),\n",
       " datetime.datetime(1908, 5, 1, 0, 0),\n",
       " datetime.datetime(1908, 6, 1, 0, 0),\n",
       " datetime.datetime(1908, 7, 1, 0, 0),\n",
       " datetime.datetime(1908, 8, 1, 0, 0),\n",
       " datetime.datetime(1908, 9, 1, 0, 0),\n",
       " datetime.datetime(1908, 10, 1, 0, 0),\n",
       " datetime.datetime(1908, 11, 1, 0, 0),\n",
       " datetime.datetime(1908, 12, 1, 0, 0),\n",
       " datetime.datetime(1909, 1, 1, 0, 0),\n",
       " datetime.datetime(1909, 2, 1, 0, 0),\n",
       " datetime.datetime(1909, 3, 1, 0, 0),\n",
       " datetime.datetime(1909, 4, 1, 0, 0),\n",
       " datetime.datetime(1909, 5, 1, 0, 0),\n",
       " datetime.datetime(1909, 6, 1, 0, 0),\n",
       " datetime.datetime(1909, 7, 1, 0, 0),\n",
       " datetime.datetime(1909, 8, 1, 0, 0),\n",
       " datetime.datetime(1909, 9, 1, 0, 0),\n",
       " datetime.datetime(1909, 10, 1, 0, 0),\n",
       " datetime.datetime(1909, 11, 1, 0, 0),\n",
       " datetime.datetime(1909, 12, 1, 0, 0),\n",
       " datetime.datetime(1910, 1, 1, 0, 0),\n",
       " datetime.datetime(1910, 2, 1, 0, 0),\n",
       " datetime.datetime(1910, 3, 1, 0, 0),\n",
       " datetime.datetime(1910, 4, 1, 0, 0),\n",
       " datetime.datetime(1910, 5, 1, 0, 0),\n",
       " datetime.datetime(1910, 6, 1, 0, 0),\n",
       " datetime.datetime(1910, 7, 1, 0, 0),\n",
       " datetime.datetime(1910, 8, 1, 0, 0),\n",
       " datetime.datetime(1910, 9, 1, 0, 0),\n",
       " datetime.datetime(1910, 10, 1, 0, 0),\n",
       " datetime.datetime(1910, 11, 1, 0, 0),\n",
       " datetime.datetime(1910, 12, 1, 0, 0),\n",
       " datetime.datetime(1911, 1, 1, 0, 0),\n",
       " datetime.datetime(1911, 2, 1, 0, 0),\n",
       " datetime.datetime(1911, 3, 1, 0, 0),\n",
       " datetime.datetime(1911, 4, 1, 0, 0),\n",
       " datetime.datetime(1911, 5, 1, 0, 0),\n",
       " datetime.datetime(1911, 6, 1, 0, 0),\n",
       " datetime.datetime(1911, 7, 1, 0, 0),\n",
       " datetime.datetime(1911, 8, 1, 0, 0),\n",
       " datetime.datetime(1911, 9, 1, 0, 0),\n",
       " datetime.datetime(1911, 10, 1, 0, 0),\n",
       " datetime.datetime(1911, 11, 1, 0, 0),\n",
       " datetime.datetime(1911, 12, 1, 0, 0),\n",
       " datetime.datetime(1912, 1, 1, 0, 0),\n",
       " datetime.datetime(1912, 2, 1, 0, 0),\n",
       " datetime.datetime(1912, 3, 1, 0, 0),\n",
       " datetime.datetime(1912, 4, 1, 0, 0),\n",
       " datetime.datetime(1912, 5, 1, 0, 0),\n",
       " datetime.datetime(1912, 6, 1, 0, 0),\n",
       " datetime.datetime(1912, 7, 1, 0, 0),\n",
       " datetime.datetime(1912, 8, 1, 0, 0),\n",
       " datetime.datetime(1912, 9, 1, 0, 0),\n",
       " datetime.datetime(1912, 10, 1, 0, 0),\n",
       " datetime.datetime(1912, 11, 1, 0, 0),\n",
       " datetime.datetime(1912, 12, 1, 0, 0),\n",
       " datetime.datetime(1913, 1, 1, 0, 0),\n",
       " datetime.datetime(1913, 2, 1, 0, 0),\n",
       " datetime.datetime(1913, 3, 1, 0, 0),\n",
       " datetime.datetime(1913, 4, 1, 0, 0),\n",
       " datetime.datetime(1913, 5, 1, 0, 0),\n",
       " datetime.datetime(1913, 6, 1, 0, 0),\n",
       " datetime.datetime(1913, 7, 1, 0, 0),\n",
       " datetime.datetime(1913, 8, 1, 0, 0),\n",
       " datetime.datetime(1913, 9, 1, 0, 0),\n",
       " datetime.datetime(1913, 10, 1, 0, 0),\n",
       " datetime.datetime(1913, 11, 1, 0, 0),\n",
       " datetime.datetime(1913, 12, 1, 0, 0),\n",
       " datetime.datetime(1914, 1, 1, 0, 0),\n",
       " datetime.datetime(1914, 2, 1, 0, 0),\n",
       " datetime.datetime(1914, 3, 1, 0, 0),\n",
       " datetime.datetime(1914, 4, 1, 0, 0),\n",
       " datetime.datetime(1914, 5, 1, 0, 0),\n",
       " datetime.datetime(1914, 6, 1, 0, 0),\n",
       " datetime.datetime(1914, 7, 1, 0, 0),\n",
       " datetime.datetime(1914, 8, 1, 0, 0),\n",
       " datetime.datetime(1914, 9, 1, 0, 0),\n",
       " datetime.datetime(1914, 10, 1, 0, 0),\n",
       " datetime.datetime(1914, 11, 1, 0, 0),\n",
       " datetime.datetime(1914, 12, 1, 0, 0),\n",
       " datetime.datetime(1915, 1, 1, 0, 0),\n",
       " datetime.datetime(1915, 2, 1, 0, 0),\n",
       " datetime.datetime(1915, 3, 1, 0, 0),\n",
       " datetime.datetime(1915, 4, 1, 0, 0),\n",
       " datetime.datetime(1915, 5, 1, 0, 0),\n",
       " datetime.datetime(1915, 6, 1, 0, 0),\n",
       " datetime.datetime(1915, 7, 1, 0, 0),\n",
       " datetime.datetime(1915, 8, 1, 0, 0),\n",
       " datetime.datetime(1915, 9, 1, 0, 0),\n",
       " datetime.datetime(1915, 10, 1, 0, 0),\n",
       " datetime.datetime(1915, 11, 1, 0, 0),\n",
       " datetime.datetime(1915, 12, 1, 0, 0),\n",
       " datetime.datetime(1916, 1, 1, 0, 0),\n",
       " datetime.datetime(1916, 2, 1, 0, 0),\n",
       " datetime.datetime(1916, 3, 1, 0, 0),\n",
       " datetime.datetime(1916, 4, 1, 0, 0),\n",
       " datetime.datetime(1916, 5, 1, 0, 0),\n",
       " datetime.datetime(1916, 6, 1, 0, 0),\n",
       " datetime.datetime(1916, 7, 1, 0, 0),\n",
       " datetime.datetime(1916, 8, 1, 0, 0),\n",
       " datetime.datetime(1916, 9, 1, 0, 0),\n",
       " datetime.datetime(1916, 10, 1, 0, 0),\n",
       " datetime.datetime(1916, 11, 1, 0, 0),\n",
       " datetime.datetime(1916, 12, 1, 0, 0),\n",
       " datetime.datetime(1917, 1, 1, 0, 0),\n",
       " datetime.datetime(1917, 2, 1, 0, 0),\n",
       " datetime.datetime(1917, 3, 1, 0, 0),\n",
       " datetime.datetime(1917, 4, 1, 0, 0),\n",
       " datetime.datetime(1917, 5, 1, 0, 0),\n",
       " datetime.datetime(1917, 6, 1, 0, 0),\n",
       " datetime.datetime(1917, 7, 1, 0, 0),\n",
       " datetime.datetime(1917, 8, 1, 0, 0),\n",
       " datetime.datetime(1917, 9, 1, 0, 0),\n",
       " datetime.datetime(1917, 10, 1, 0, 0),\n",
       " datetime.datetime(1917, 11, 1, 0, 0),\n",
       " datetime.datetime(1917, 12, 1, 0, 0),\n",
       " datetime.datetime(1918, 1, 1, 0, 0),\n",
       " datetime.datetime(1918, 2, 1, 0, 0),\n",
       " datetime.datetime(1918, 3, 1, 0, 0),\n",
       " datetime.datetime(1918, 4, 1, 0, 0),\n",
       " datetime.datetime(1918, 5, 1, 0, 0),\n",
       " datetime.datetime(1918, 6, 1, 0, 0),\n",
       " datetime.datetime(1918, 7, 1, 0, 0),\n",
       " datetime.datetime(1918, 8, 1, 0, 0),\n",
       " datetime.datetime(1918, 9, 1, 0, 0),\n",
       " datetime.datetime(1918, 10, 1, 0, 0),\n",
       " datetime.datetime(1918, 11, 1, 0, 0),\n",
       " datetime.datetime(1918, 12, 1, 0, 0),\n",
       " datetime.datetime(1919, 1, 1, 0, 0),\n",
       " datetime.datetime(1919, 2, 1, 0, 0),\n",
       " datetime.datetime(1919, 3, 1, 0, 0),\n",
       " datetime.datetime(1919, 4, 1, 0, 0),\n",
       " datetime.datetime(1919, 5, 1, 0, 0),\n",
       " datetime.datetime(1919, 6, 1, 0, 0),\n",
       " datetime.datetime(1919, 7, 1, 0, 0),\n",
       " datetime.datetime(1919, 8, 1, 0, 0),\n",
       " datetime.datetime(1919, 9, 1, 0, 0),\n",
       " datetime.datetime(1919, 10, 1, 0, 0),\n",
       " datetime.datetime(1919, 11, 1, 0, 0),\n",
       " datetime.datetime(1919, 12, 1, 0, 0),\n",
       " datetime.datetime(1920, 1, 1, 0, 0),\n",
       " datetime.datetime(1920, 2, 1, 0, 0),\n",
       " datetime.datetime(1920, 3, 1, 0, 0),\n",
       " datetime.datetime(1920, 4, 1, 0, 0),\n",
       " datetime.datetime(1920, 5, 1, 0, 0),\n",
       " datetime.datetime(1920, 6, 1, 0, 0),\n",
       " datetime.datetime(1920, 7, 1, 0, 0),\n",
       " datetime.datetime(1920, 8, 1, 0, 0),\n",
       " datetime.datetime(1920, 9, 1, 0, 0),\n",
       " datetime.datetime(1920, 10, 1, 0, 0),\n",
       " datetime.datetime(1920, 11, 1, 0, 0),\n",
       " datetime.datetime(1920, 12, 1, 0, 0),\n",
       " datetime.datetime(1921, 1, 1, 0, 0),\n",
       " datetime.datetime(1921, 2, 1, 0, 0),\n",
       " datetime.datetime(1921, 3, 1, 0, 0),\n",
       " datetime.datetime(1921, 4, 1, 0, 0),\n",
       " datetime.datetime(1921, 5, 1, 0, 0),\n",
       " datetime.datetime(1921, 6, 1, 0, 0),\n",
       " datetime.datetime(1921, 7, 1, 0, 0),\n",
       " datetime.datetime(1921, 8, 1, 0, 0),\n",
       " datetime.datetime(1921, 9, 1, 0, 0),\n",
       " datetime.datetime(1921, 10, 1, 0, 0),\n",
       " datetime.datetime(1921, 11, 1, 0, 0),\n",
       " datetime.datetime(1921, 12, 1, 0, 0),\n",
       " datetime.datetime(1922, 1, 1, 0, 0),\n",
       " datetime.datetime(1922, 2, 1, 0, 0),\n",
       " datetime.datetime(1922, 3, 1, 0, 0),\n",
       " datetime.datetime(1922, 4, 1, 0, 0),\n",
       " datetime.datetime(1922, 5, 1, 0, 0),\n",
       " datetime.datetime(1922, 6, 1, 0, 0),\n",
       " datetime.datetime(1922, 7, 1, 0, 0),\n",
       " datetime.datetime(1922, 8, 1, 0, 0),\n",
       " datetime.datetime(1922, 9, 1, 0, 0),\n",
       " datetime.datetime(1922, 10, 1, 0, 0),\n",
       " datetime.datetime(1922, 11, 1, 0, 0),\n",
       " datetime.datetime(1922, 12, 1, 0, 0),\n",
       " datetime.datetime(1923, 1, 1, 0, 0),\n",
       " datetime.datetime(1923, 2, 1, 0, 0),\n",
       " datetime.datetime(1923, 3, 1, 0, 0),\n",
       " datetime.datetime(1923, 4, 1, 0, 0),\n",
       " datetime.datetime(1923, 5, 1, 0, 0),\n",
       " datetime.datetime(1923, 6, 1, 0, 0),\n",
       " datetime.datetime(1923, 7, 1, 0, 0),\n",
       " datetime.datetime(1923, 8, 1, 0, 0),\n",
       " datetime.datetime(1923, 9, 1, 0, 0),\n",
       " datetime.datetime(1923, 10, 1, 0, 0),\n",
       " datetime.datetime(1923, 11, 1, 0, 0),\n",
       " datetime.datetime(1923, 12, 1, 0, 0),\n",
       " datetime.datetime(1924, 1, 1, 0, 0),\n",
       " datetime.datetime(1924, 2, 1, 0, 0),\n",
       " datetime.datetime(1924, 3, 1, 0, 0),\n",
       " datetime.datetime(1924, 4, 1, 0, 0),\n",
       " datetime.datetime(1924, 5, 1, 0, 0),\n",
       " datetime.datetime(1924, 6, 1, 0, 0),\n",
       " datetime.datetime(1924, 7, 1, 0, 0),\n",
       " datetime.datetime(1924, 8, 1, 0, 0),\n",
       " datetime.datetime(1924, 9, 1, 0, 0),\n",
       " datetime.datetime(1924, 10, 1, 0, 0),\n",
       " datetime.datetime(1924, 11, 1, 0, 0),\n",
       " datetime.datetime(1924, 12, 1, 0, 0),\n",
       " datetime.datetime(1925, 1, 1, 0, 0),\n",
       " datetime.datetime(1925, 2, 1, 0, 0),\n",
       " datetime.datetime(1925, 3, 1, 0, 0),\n",
       " datetime.datetime(1925, 4, 1, 0, 0),\n",
       " datetime.datetime(1925, 5, 1, 0, 0),\n",
       " datetime.datetime(1925, 6, 1, 0, 0),\n",
       " datetime.datetime(1925, 7, 1, 0, 0),\n",
       " datetime.datetime(1925, 8, 1, 0, 0),\n",
       " datetime.datetime(1925, 9, 1, 0, 0),\n",
       " datetime.datetime(1925, 10, 1, 0, 0),\n",
       " datetime.datetime(1925, 11, 1, 0, 0),\n",
       " datetime.datetime(1925, 12, 1, 0, 0),\n",
       " datetime.datetime(1926, 1, 1, 0, 0),\n",
       " datetime.datetime(1926, 2, 1, 0, 0),\n",
       " datetime.datetime(1926, 3, 1, 0, 0),\n",
       " datetime.datetime(1926, 4, 1, 0, 0),\n",
       " datetime.datetime(1926, 5, 1, 0, 0),\n",
       " datetime.datetime(1926, 6, 1, 0, 0),\n",
       " datetime.datetime(1926, 7, 1, 0, 0),\n",
       " datetime.datetime(1926, 8, 1, 0, 0),\n",
       " datetime.datetime(1926, 9, 1, 0, 0),\n",
       " datetime.datetime(1926, 10, 1, 0, 0),\n",
       " datetime.datetime(1926, 11, 1, 0, 0),\n",
       " datetime.datetime(1926, 12, 1, 0, 0),\n",
       " datetime.datetime(1927, 1, 1, 0, 0),\n",
       " datetime.datetime(1927, 2, 1, 0, 0),\n",
       " datetime.datetime(1927, 3, 1, 0, 0),\n",
       " datetime.datetime(1927, 4, 1, 0, 0),\n",
       " datetime.datetime(1927, 5, 1, 0, 0),\n",
       " datetime.datetime(1927, 6, 1, 0, 0),\n",
       " datetime.datetime(1927, 7, 1, 0, 0),\n",
       " datetime.datetime(1927, 8, 1, 0, 0),\n",
       " datetime.datetime(1927, 9, 1, 0, 0),\n",
       " datetime.datetime(1927, 10, 1, 0, 0),\n",
       " datetime.datetime(1927, 11, 1, 0, 0),\n",
       " datetime.datetime(1927, 12, 1, 0, 0),\n",
       " datetime.datetime(1928, 1, 1, 0, 0),\n",
       " datetime.datetime(1928, 2, 1, 0, 0),\n",
       " datetime.datetime(1928, 3, 1, 0, 0),\n",
       " datetime.datetime(1928, 4, 1, 0, 0),\n",
       " datetime.datetime(1928, 5, 1, 0, 0),\n",
       " datetime.datetime(1928, 6, 1, 0, 0),\n",
       " datetime.datetime(1928, 7, 1, 0, 0),\n",
       " datetime.datetime(1928, 8, 1, 0, 0),\n",
       " datetime.datetime(1928, 9, 1, 0, 0),\n",
       " datetime.datetime(1928, 10, 1, 0, 0),\n",
       " datetime.datetime(1928, 11, 1, 0, 0),\n",
       " datetime.datetime(1928, 12, 1, 0, 0),\n",
       " datetime.datetime(1929, 1, 1, 0, 0),\n",
       " datetime.datetime(1929, 2, 1, 0, 0),\n",
       " datetime.datetime(1929, 3, 1, 0, 0),\n",
       " datetime.datetime(1929, 4, 1, 0, 0),\n",
       " datetime.datetime(1929, 5, 1, 0, 0),\n",
       " datetime.datetime(1929, 6, 1, 0, 0),\n",
       " datetime.datetime(1929, 7, 1, 0, 0),\n",
       " datetime.datetime(1929, 8, 1, 0, 0),\n",
       " datetime.datetime(1929, 9, 1, 0, 0),\n",
       " datetime.datetime(1929, 10, 1, 0, 0),\n",
       " datetime.datetime(1929, 11, 1, 0, 0),\n",
       " datetime.datetime(1929, 12, 1, 0, 0),\n",
       " datetime.datetime(1930, 1, 1, 0, 0),\n",
       " datetime.datetime(1930, 2, 1, 0, 0),\n",
       " datetime.datetime(1930, 3, 1, 0, 0),\n",
       " datetime.datetime(1930, 4, 1, 0, 0),\n",
       " datetime.datetime(1930, 5, 1, 0, 0),\n",
       " datetime.datetime(1930, 6, 1, 0, 0),\n",
       " datetime.datetime(1930, 7, 1, 0, 0),\n",
       " datetime.datetime(1930, 8, 1, 0, 0),\n",
       " datetime.datetime(1930, 9, 1, 0, 0),\n",
       " datetime.datetime(1930, 10, 1, 0, 0),\n",
       " datetime.datetime(1930, 11, 1, 0, 0),\n",
       " datetime.datetime(1930, 12, 1, 0, 0),\n",
       " datetime.datetime(1931, 1, 1, 0, 0),\n",
       " datetime.datetime(1931, 2, 1, 0, 0),\n",
       " datetime.datetime(1931, 3, 1, 0, 0),\n",
       " datetime.datetime(1931, 4, 1, 0, 0),\n",
       " datetime.datetime(1931, 5, 1, 0, 0),\n",
       " datetime.datetime(1931, 6, 1, 0, 0),\n",
       " datetime.datetime(1931, 7, 1, 0, 0),\n",
       " datetime.datetime(1931, 8, 1, 0, 0),\n",
       " datetime.datetime(1931, 9, 1, 0, 0),\n",
       " datetime.datetime(1931, 10, 1, 0, 0),\n",
       " datetime.datetime(1931, 11, 1, 0, 0),\n",
       " datetime.datetime(1931, 12, 1, 0, 0),\n",
       " datetime.datetime(1932, 1, 1, 0, 0),\n",
       " datetime.datetime(1932, 2, 1, 0, 0),\n",
       " datetime.datetime(1932, 3, 1, 0, 0),\n",
       " datetime.datetime(1932, 4, 1, 0, 0),\n",
       " datetime.datetime(1932, 5, 1, 0, 0),\n",
       " datetime.datetime(1932, 6, 1, 0, 0),\n",
       " datetime.datetime(1932, 7, 1, 0, 0),\n",
       " datetime.datetime(1932, 8, 1, 0, 0),\n",
       " datetime.datetime(1932, 9, 1, 0, 0),\n",
       " datetime.datetime(1932, 10, 1, 0, 0),\n",
       " datetime.datetime(1932, 11, 1, 0, 0),\n",
       " datetime.datetime(1932, 12, 1, 0, 0),\n",
       " datetime.datetime(1933, 1, 1, 0, 0),\n",
       " datetime.datetime(1933, 2, 1, 0, 0),\n",
       " datetime.datetime(1933, 3, 1, 0, 0),\n",
       " datetime.datetime(1933, 4, 1, 0, 0),\n",
       " datetime.datetime(1933, 5, 1, 0, 0),\n",
       " datetime.datetime(1933, 6, 1, 0, 0),\n",
       " datetime.datetime(1933, 7, 1, 0, 0),\n",
       " datetime.datetime(1933, 8, 1, 0, 0),\n",
       " datetime.datetime(1933, 9, 1, 0, 0),\n",
       " datetime.datetime(1933, 10, 1, 0, 0),\n",
       " datetime.datetime(1933, 11, 1, 0, 0),\n",
       " datetime.datetime(1933, 12, 1, 0, 0),\n",
       " datetime.datetime(1934, 1, 1, 0, 0),\n",
       " datetime.datetime(1934, 2, 1, 0, 0),\n",
       " datetime.datetime(1934, 3, 1, 0, 0),\n",
       " datetime.datetime(1934, 4, 1, 0, 0),\n",
       " datetime.datetime(1934, 5, 1, 0, 0),\n",
       " datetime.datetime(1934, 6, 1, 0, 0),\n",
       " datetime.datetime(1934, 7, 1, 0, 0),\n",
       " datetime.datetime(1934, 8, 1, 0, 0),\n",
       " datetime.datetime(1934, 9, 1, 0, 0),\n",
       " datetime.datetime(1934, 10, 1, 0, 0),\n",
       " datetime.datetime(1934, 11, 1, 0, 0),\n",
       " datetime.datetime(1934, 12, 1, 0, 0),\n",
       " datetime.datetime(1935, 1, 1, 0, 0),\n",
       " datetime.datetime(1935, 2, 1, 0, 0),\n",
       " datetime.datetime(1935, 3, 1, 0, 0),\n",
       " datetime.datetime(1935, 4, 1, 0, 0),\n",
       " datetime.datetime(1935, 5, 1, 0, 0),\n",
       " datetime.datetime(1935, 6, 1, 0, 0),\n",
       " datetime.datetime(1935, 7, 1, 0, 0),\n",
       " datetime.datetime(1935, 8, 1, 0, 0),\n",
       " datetime.datetime(1935, 9, 1, 0, 0),\n",
       " datetime.datetime(1935, 10, 1, 0, 0),\n",
       " datetime.datetime(1935, 11, 1, 0, 0),\n",
       " datetime.datetime(1935, 12, 1, 0, 0),\n",
       " datetime.datetime(1936, 1, 1, 0, 0),\n",
       " datetime.datetime(1936, 2, 1, 0, 0),\n",
       " datetime.datetime(1936, 3, 1, 0, 0),\n",
       " datetime.datetime(1936, 4, 1, 0, 0),\n",
       " datetime.datetime(1936, 5, 1, 0, 0),\n",
       " datetime.datetime(1936, 6, 1, 0, 0),\n",
       " datetime.datetime(1936, 7, 1, 0, 0),\n",
       " datetime.datetime(1936, 8, 1, 0, 0),\n",
       " datetime.datetime(1936, 9, 1, 0, 0),\n",
       " datetime.datetime(1936, 10, 1, 0, 0),\n",
       " datetime.datetime(1936, 11, 1, 0, 0),\n",
       " datetime.datetime(1936, 12, 1, 0, 0),\n",
       " datetime.datetime(1937, 1, 1, 0, 0),\n",
       " datetime.datetime(1937, 2, 1, 0, 0),\n",
       " datetime.datetime(1937, 3, 1, 0, 0),\n",
       " datetime.datetime(1937, 4, 1, 0, 0),\n",
       " datetime.datetime(1937, 5, 1, 0, 0),\n",
       " datetime.datetime(1937, 6, 1, 0, 0),\n",
       " datetime.datetime(1937, 7, 1, 0, 0),\n",
       " datetime.datetime(1937, 8, 1, 0, 0),\n",
       " datetime.datetime(1937, 9, 1, 0, 0),\n",
       " datetime.datetime(1937, 10, 1, 0, 0),\n",
       " datetime.datetime(1937, 11, 1, 0, 0),\n",
       " datetime.datetime(1937, 12, 1, 0, 0),\n",
       " datetime.datetime(1938, 1, 1, 0, 0),\n",
       " datetime.datetime(1938, 2, 1, 0, 0),\n",
       " datetime.datetime(1938, 3, 1, 0, 0),\n",
       " datetime.datetime(1938, 4, 1, 0, 0),\n",
       " datetime.datetime(1938, 5, 1, 0, 0),\n",
       " datetime.datetime(1938, 6, 1, 0, 0),\n",
       " datetime.datetime(1938, 7, 1, 0, 0),\n",
       " datetime.datetime(1938, 8, 1, 0, 0),\n",
       " datetime.datetime(1938, 9, 1, 0, 0),\n",
       " datetime.datetime(1938, 10, 1, 0, 0),\n",
       " datetime.datetime(1938, 11, 1, 0, 0),\n",
       " datetime.datetime(1938, 12, 1, 0, 0),\n",
       " datetime.datetime(1939, 1, 1, 0, 0),\n",
       " datetime.datetime(1939, 2, 1, 0, 0),\n",
       " datetime.datetime(1939, 3, 1, 0, 0),\n",
       " datetime.datetime(1939, 4, 1, 0, 0),\n",
       " datetime.datetime(1939, 5, 1, 0, 0),\n",
       " datetime.datetime(1939, 6, 1, 0, 0),\n",
       " datetime.datetime(1939, 7, 1, 0, 0),\n",
       " datetime.datetime(1939, 8, 1, 0, 0),\n",
       " datetime.datetime(1939, 9, 1, 0, 0),\n",
       " datetime.datetime(1939, 10, 1, 0, 0),\n",
       " datetime.datetime(1939, 11, 1, 0, 0),\n",
       " datetime.datetime(1939, 12, 1, 0, 0),\n",
       " datetime.datetime(1940, 1, 1, 0, 0),\n",
       " datetime.datetime(1940, 2, 1, 0, 0),\n",
       " datetime.datetime(1940, 3, 1, 0, 0),\n",
       " datetime.datetime(1940, 4, 1, 0, 0),\n",
       " datetime.datetime(1940, 5, 1, 0, 0),\n",
       " datetime.datetime(1940, 6, 1, 0, 0),\n",
       " datetime.datetime(1940, 7, 1, 0, 0),\n",
       " datetime.datetime(1940, 8, 1, 0, 0),\n",
       " datetime.datetime(1940, 9, 1, 0, 0),\n",
       " datetime.datetime(1940, 10, 1, 0, 0),\n",
       " datetime.datetime(1940, 11, 1, 0, 0),\n",
       " datetime.datetime(1940, 12, 1, 0, 0),\n",
       " datetime.datetime(1941, 1, 1, 0, 0),\n",
       " datetime.datetime(1941, 2, 1, 0, 0),\n",
       " datetime.datetime(1941, 3, 1, 0, 0),\n",
       " datetime.datetime(1941, 4, 1, 0, 0),\n",
       " datetime.datetime(1941, 5, 1, 0, 0),\n",
       " datetime.datetime(1941, 6, 1, 0, 0),\n",
       " datetime.datetime(1941, 7, 1, 0, 0),\n",
       " datetime.datetime(1941, 8, 1, 0, 0),\n",
       " datetime.datetime(1941, 9, 1, 0, 0),\n",
       " datetime.datetime(1941, 10, 1, 0, 0),\n",
       " datetime.datetime(1941, 11, 1, 0, 0),\n",
       " datetime.datetime(1941, 12, 1, 0, 0),\n",
       " datetime.datetime(1942, 1, 1, 0, 0),\n",
       " datetime.datetime(1942, 2, 1, 0, 0),\n",
       " datetime.datetime(1942, 3, 1, 0, 0),\n",
       " datetime.datetime(1942, 4, 1, 0, 0),\n",
       " datetime.datetime(1942, 5, 1, 0, 0),\n",
       " datetime.datetime(1942, 6, 1, 0, 0),\n",
       " datetime.datetime(1942, 7, 1, 0, 0),\n",
       " datetime.datetime(1942, 8, 1, 0, 0),\n",
       " datetime.datetime(1942, 9, 1, 0, 0),\n",
       " datetime.datetime(1942, 10, 1, 0, 0),\n",
       " datetime.datetime(1942, 11, 1, 0, 0),\n",
       " datetime.datetime(1942, 12, 1, 0, 0),\n",
       " datetime.datetime(1943, 1, 1, 0, 0),\n",
       " datetime.datetime(1943, 2, 1, 0, 0),\n",
       " datetime.datetime(1943, 3, 1, 0, 0),\n",
       " datetime.datetime(1943, 4, 1, 0, 0),\n",
       " datetime.datetime(1943, 5, 1, 0, 0),\n",
       " datetime.datetime(1943, 6, 1, 0, 0),\n",
       " datetime.datetime(1943, 7, 1, 0, 0),\n",
       " datetime.datetime(1943, 8, 1, 0, 0),\n",
       " datetime.datetime(1943, 9, 1, 0, 0),\n",
       " datetime.datetime(1943, 10, 1, 0, 0),\n",
       " datetime.datetime(1943, 11, 1, 0, 0),\n",
       " datetime.datetime(1943, 12, 1, 0, 0),\n",
       " datetime.datetime(1944, 1, 1, 0, 0),\n",
       " datetime.datetime(1944, 2, 1, 0, 0),\n",
       " datetime.datetime(1944, 3, 1, 0, 0),\n",
       " datetime.datetime(1944, 4, 1, 0, 0),\n",
       " datetime.datetime(1944, 5, 1, 0, 0),\n",
       " datetime.datetime(1944, 6, 1, 0, 0),\n",
       " datetime.datetime(1944, 7, 1, 0, 0),\n",
       " datetime.datetime(1944, 8, 1, 0, 0),\n",
       " datetime.datetime(1944, 9, 1, 0, 0),\n",
       " datetime.datetime(1944, 10, 1, 0, 0),\n",
       " datetime.datetime(1944, 11, 1, 0, 0),\n",
       " datetime.datetime(1944, 12, 1, 0, 0),\n",
       " datetime.datetime(1945, 1, 1, 0, 0),\n",
       " datetime.datetime(1945, 2, 1, 0, 0),\n",
       " datetime.datetime(1945, 3, 1, 0, 0),\n",
       " datetime.datetime(1945, 4, 1, 0, 0),\n",
       " datetime.datetime(1945, 5, 1, 0, 0),\n",
       " datetime.datetime(1945, 6, 1, 0, 0),\n",
       " datetime.datetime(1945, 7, 1, 0, 0),\n",
       " datetime.datetime(1945, 8, 1, 0, 0),\n",
       " datetime.datetime(1945, 9, 1, 0, 0),\n",
       " datetime.datetime(1945, 10, 1, 0, 0),\n",
       " datetime.datetime(1945, 11, 1, 0, 0),\n",
       " datetime.datetime(1945, 12, 1, 0, 0),\n",
       " datetime.datetime(1946, 1, 1, 0, 0),\n",
       " datetime.datetime(1946, 2, 1, 0, 0),\n",
       " datetime.datetime(1946, 3, 1, 0, 0),\n",
       " datetime.datetime(1946, 4, 1, 0, 0),\n",
       " datetime.datetime(1946, 5, 1, 0, 0),\n",
       " datetime.datetime(1946, 6, 1, 0, 0),\n",
       " datetime.datetime(1946, 7, 1, 0, 0),\n",
       " datetime.datetime(1946, 8, 1, 0, 0),\n",
       " datetime.datetime(1946, 9, 1, 0, 0),\n",
       " datetime.datetime(1946, 10, 1, 0, 0),\n",
       " datetime.datetime(1946, 11, 1, 0, 0),\n",
       " datetime.datetime(1946, 12, 1, 0, 0),\n",
       " datetime.datetime(1947, 1, 1, 0, 0),\n",
       " datetime.datetime(1947, 2, 1, 0, 0),\n",
       " datetime.datetime(1947, 3, 1, 0, 0),\n",
       " datetime.datetime(1947, 4, 1, 0, 0),\n",
       " datetime.datetime(1947, 5, 1, 0, 0),\n",
       " datetime.datetime(1947, 6, 1, 0, 0),\n",
       " datetime.datetime(1947, 7, 1, 0, 0),\n",
       " datetime.datetime(1947, 8, 1, 0, 0),\n",
       " datetime.datetime(1947, 9, 1, 0, 0),\n",
       " datetime.datetime(1947, 10, 1, 0, 0),\n",
       " datetime.datetime(1947, 11, 1, 0, 0),\n",
       " datetime.datetime(1947, 12, 1, 0, 0),\n",
       " datetime.datetime(1948, 1, 1, 0, 0),\n",
       " datetime.datetime(1948, 2, 1, 0, 0),\n",
       " datetime.datetime(1948, 3, 1, 0, 0),\n",
       " datetime.datetime(1948, 4, 1, 0, 0),\n",
       " datetime.datetime(1948, 5, 1, 0, 0),\n",
       " datetime.datetime(1948, 6, 1, 0, 0),\n",
       " datetime.datetime(1948, 7, 1, 0, 0),\n",
       " datetime.datetime(1948, 8, 1, 0, 0),\n",
       " datetime.datetime(1948, 9, 1, 0, 0),\n",
       " datetime.datetime(1948, 10, 1, 0, 0),\n",
       " datetime.datetime(1948, 11, 1, 0, 0),\n",
       " datetime.datetime(1948, 12, 1, 0, 0),\n",
       " datetime.datetime(1949, 1, 1, 0, 0),\n",
       " datetime.datetime(1949, 2, 1, 0, 0),\n",
       " datetime.datetime(1949, 3, 1, 0, 0),\n",
       " datetime.datetime(1949, 4, 1, 0, 0),\n",
       " datetime.datetime(1949, 5, 1, 0, 0),\n",
       " datetime.datetime(1949, 6, 1, 0, 0),\n",
       " datetime.datetime(1949, 7, 1, 0, 0),\n",
       " datetime.datetime(1949, 8, 1, 0, 0),\n",
       " datetime.datetime(1949, 9, 1, 0, 0),\n",
       " datetime.datetime(1949, 10, 1, 0, 0),\n",
       " datetime.datetime(1949, 11, 1, 0, 0),\n",
       " datetime.datetime(1949, 12, 1, 0, 0),\n",
       " datetime.datetime(1950, 1, 1, 0, 0),\n",
       " datetime.datetime(1950, 2, 1, 0, 0),\n",
       " datetime.datetime(1950, 3, 1, 0, 0),\n",
       " datetime.datetime(1950, 4, 1, 0, 0),\n",
       " datetime.datetime(1950, 5, 1, 0, 0),\n",
       " datetime.datetime(1950, 6, 1, 0, 0),\n",
       " datetime.datetime(1950, 7, 1, 0, 0),\n",
       " datetime.datetime(1950, 8, 1, 0, 0),\n",
       " datetime.datetime(1950, 9, 1, 0, 0),\n",
       " datetime.datetime(1950, 10, 1, 0, 0),\n",
       " datetime.datetime(1950, 11, 1, 0, 0),\n",
       " datetime.datetime(1950, 12, 1, 0, 0),\n",
       " datetime.datetime(1951, 1, 1, 0, 0),\n",
       " datetime.datetime(1951, 2, 1, 0, 0),\n",
       " datetime.datetime(1951, 3, 1, 0, 0),\n",
       " datetime.datetime(1951, 4, 1, 0, 0),\n",
       " datetime.datetime(1951, 5, 1, 0, 0),\n",
       " datetime.datetime(1951, 6, 1, 0, 0),\n",
       " datetime.datetime(1951, 7, 1, 0, 0),\n",
       " datetime.datetime(1951, 8, 1, 0, 0),\n",
       " datetime.datetime(1951, 9, 1, 0, 0),\n",
       " datetime.datetime(1951, 10, 1, 0, 0),\n",
       " datetime.datetime(1951, 11, 1, 0, 0),\n",
       " datetime.datetime(1951, 12, 1, 0, 0),\n",
       " datetime.datetime(1952, 1, 1, 0, 0),\n",
       " datetime.datetime(1952, 2, 1, 0, 0),\n",
       " datetime.datetime(1952, 3, 1, 0, 0),\n",
       " datetime.datetime(1952, 4, 1, 0, 0),\n",
       " datetime.datetime(1952, 5, 1, 0, 0),\n",
       " datetime.datetime(1952, 6, 1, 0, 0),\n",
       " datetime.datetime(1952, 7, 1, 0, 0),\n",
       " datetime.datetime(1952, 8, 1, 0, 0),\n",
       " datetime.datetime(1952, 9, 1, 0, 0),\n",
       " datetime.datetime(1952, 10, 1, 0, 0),\n",
       " datetime.datetime(1952, 11, 1, 0, 0),\n",
       " datetime.datetime(1952, 12, 1, 0, 0),\n",
       " datetime.datetime(1953, 1, 1, 0, 0),\n",
       " datetime.datetime(1953, 2, 1, 0, 0),\n",
       " datetime.datetime(1953, 3, 1, 0, 0),\n",
       " datetime.datetime(1953, 4, 1, 0, 0),\n",
       " datetime.datetime(1953, 5, 1, 0, 0),\n",
       " datetime.datetime(1953, 6, 1, 0, 0),\n",
       " datetime.datetime(1953, 7, 1, 0, 0),\n",
       " datetime.datetime(1953, 8, 1, 0, 0),\n",
       " datetime.datetime(1953, 9, 1, 0, 0),\n",
       " datetime.datetime(1953, 10, 1, 0, 0),\n",
       " datetime.datetime(1953, 11, 1, 0, 0),\n",
       " datetime.datetime(1953, 12, 1, 0, 0),\n",
       " datetime.datetime(1954, 1, 1, 0, 0),\n",
       " datetime.datetime(1954, 2, 1, 0, 0),\n",
       " datetime.datetime(1954, 3, 1, 0, 0),\n",
       " datetime.datetime(1954, 4, 1, 0, 0),\n",
       " datetime.datetime(1954, 5, 1, 0, 0),\n",
       " datetime.datetime(1954, 6, 1, 0, 0),\n",
       " datetime.datetime(1954, 7, 1, 0, 0),\n",
       " datetime.datetime(1954, 8, 1, 0, 0),\n",
       " datetime.datetime(1954, 9, 1, 0, 0),\n",
       " datetime.datetime(1954, 10, 1, 0, 0),\n",
       " datetime.datetime(1954, 11, 1, 0, 0),\n",
       " datetime.datetime(1954, 12, 1, 0, 0),\n",
       " datetime.datetime(1955, 1, 1, 0, 0),\n",
       " datetime.datetime(1955, 2, 1, 0, 0),\n",
       " datetime.datetime(1955, 3, 1, 0, 0),\n",
       " datetime.datetime(1955, 4, 1, 0, 0),\n",
       " datetime.datetime(1955, 5, 1, 0, 0),\n",
       " datetime.datetime(1955, 6, 1, 0, 0),\n",
       " datetime.datetime(1955, 7, 1, 0, 0),\n",
       " datetime.datetime(1955, 8, 1, 0, 0),\n",
       " datetime.datetime(1955, 9, 1, 0, 0),\n",
       " datetime.datetime(1955, 10, 1, 0, 0),\n",
       " datetime.datetime(1955, 11, 1, 0, 0),\n",
       " datetime.datetime(1955, 12, 1, 0, 0),\n",
       " datetime.datetime(1956, 1, 1, 0, 0),\n",
       " datetime.datetime(1956, 2, 1, 0, 0),\n",
       " datetime.datetime(1956, 3, 1, 0, 0),\n",
       " datetime.datetime(1956, 4, 1, 0, 0),\n",
       " datetime.datetime(1956, 5, 1, 0, 0),\n",
       " datetime.datetime(1956, 6, 1, 0, 0),\n",
       " datetime.datetime(1956, 7, 1, 0, 0),\n",
       " datetime.datetime(1956, 8, 1, 0, 0),\n",
       " datetime.datetime(1956, 9, 1, 0, 0),\n",
       " datetime.datetime(1956, 10, 1, 0, 0),\n",
       " datetime.datetime(1956, 11, 1, 0, 0),\n",
       " datetime.datetime(1956, 12, 1, 0, 0),\n",
       " datetime.datetime(1957, 1, 1, 0, 0),\n",
       " datetime.datetime(1957, 2, 1, 0, 0),\n",
       " datetime.datetime(1957, 3, 1, 0, 0),\n",
       " datetime.datetime(1957, 4, 1, 0, 0),\n",
       " datetime.datetime(1957, 5, 1, 0, 0),\n",
       " datetime.datetime(1957, 6, 1, 0, 0),\n",
       " datetime.datetime(1957, 7, 1, 0, 0),\n",
       " datetime.datetime(1957, 8, 1, 0, 0),\n",
       " datetime.datetime(1957, 9, 1, 0, 0),\n",
       " datetime.datetime(1957, 10, 1, 0, 0),\n",
       " datetime.datetime(1957, 11, 1, 0, 0),\n",
       " datetime.datetime(1957, 12, 1, 0, 0),\n",
       " datetime.datetime(1958, 1, 1, 0, 0),\n",
       " datetime.datetime(1958, 2, 1, 0, 0),\n",
       " datetime.datetime(1958, 3, 1, 0, 0),\n",
       " datetime.datetime(1958, 4, 1, 0, 0),\n",
       " datetime.datetime(1958, 5, 1, 0, 0),\n",
       " datetime.datetime(1958, 6, 1, 0, 0),\n",
       " datetime.datetime(1958, 7, 1, 0, 0),\n",
       " datetime.datetime(1958, 8, 1, 0, 0),\n",
       " datetime.datetime(1958, 9, 1, 0, 0),\n",
       " datetime.datetime(1958, 10, 1, 0, 0),\n",
       " datetime.datetime(1958, 11, 1, 0, 0),\n",
       " datetime.datetime(1958, 12, 1, 0, 0),\n",
       " datetime.datetime(1959, 1, 1, 0, 0),\n",
       " datetime.datetime(1959, 2, 1, 0, 0),\n",
       " datetime.datetime(1959, 3, 1, 0, 0),\n",
       " datetime.datetime(1959, 4, 1, 0, 0),\n",
       " ...]"
      ]
     },
     "execution_count": 118,
     "metadata": {},
     "output_type": "execute_result"
    }
   ],
   "source": [
    "dateindex"
   ]
  },
  {
   "cell_type": "code",
   "execution_count": 119,
   "metadata": {
    "collapsed": false
   },
   "outputs": [],
   "source": [
    "SOIs.index=dateindex"
   ]
  },
  {
   "cell_type": "code",
   "execution_count": 120,
   "metadata": {
    "collapsed": false
   },
   "outputs": [
    {
     "data": {
      "text/plain": [
       "1876-01-01    1.1\n",
       "1876-02-01    1.0\n",
       "1876-03-01    0.1\n",
       "1876-04-01    1.0\n",
       "1876-05-01    0.8\n",
       "dtype: float64"
      ]
     },
     "execution_count": 120,
     "metadata": {},
     "output_type": "execute_result"
    }
   ],
   "source": [
    "SOIs.head()"
   ]
  },
  {
   "cell_type": "code",
   "execution_count": 121,
   "metadata": {
    "collapsed": false
   },
   "outputs": [
    {
     "data": {
      "text/plain": [
       "<matplotlib.axes._subplots.AxesSubplot at 0x11d40b550>"
      ]
     },
     "execution_count": 121,
     "metadata": {},
     "output_type": "execute_result"
    },
    {
     "data": {
      "image/png": "[encoded data removed]",
      "text/plain": [
       "<matplotlib.figure.Figure at 0x11ddab7b8>"
      ]
     },
     "metadata": {},
     "output_type": "display_data"
    }
   ],
   "source": [
    "SOIs.plot(figsize=(12,5))"
   ]
  },
  {
   "cell_type": "code",
   "execution_count": 122,
   "metadata": {
    "collapsed": false
   },
   "outputs": [
    {
     "name": "stderr",
     "output_type": "stream",
     "text": [
      "/Users/nicolasf/anaconda/anaconda/lib/python3.5/site-packages/ipykernel/__main__.py:1: FutureWarning: pd.rolling_mean is deprecated for Series and will be removed in a future version, replace with \n",
      "\tSeries.rolling(center=False,window=12).mean()\n",
      "  if __name__ == '__main__':\n"
     ]
    },
    {
     "data": {
      "text/plain": [
       "<matplotlib.axes._subplots.AxesSubplot at 0x11de76cc0>"
      ]
     },
     "execution_count": 122,
     "metadata": {},
     "output_type": "execute_result"
    },
    {
     "data": {
      "image/png": "[encoded data removed]",
      "text/plain": [
       "<matplotlib.figure.Figure at 0x11e005ba8>"
      ]
     },
     "metadata": {},
     "output_type": "display_data"
    }
   ],
   "source": [
    "pd.rolling_mean(SOIs,12).plot()"
   ]
  },
  {
   "cell_type": "markdown",
   "metadata": {},
   "source": [
    "##### Saving in csv, excel etc"
   ]
  },
  {
   "cell_type": "code",
   "execution_count": 123,
   "metadata": {
    "collapsed": false
   },
   "outputs": [
    {
     "data": {
      "text/plain": [
       "pandas.core.series.Series"
      ]
     },
     "execution_count": 123,
     "metadata": {},
     "output_type": "execute_result"
    }
   ],
   "source": [
    "type(SOIs)"
   ]
  },
  {
   "cell_type": "code",
   "execution_count": 124,
   "metadata": {
    "collapsed": false
   },
   "outputs": [],
   "source": [
    "SOIs = pd.DataFrame(SOIs)"
   ]
  },
  {
   "cell_type": "code",
   "execution_count": 125,
   "metadata": {
    "collapsed": true
   },
   "outputs": [],
   "source": [
    "SOIs.to_csv('../data/SOI_time_series.csv')"
   ]
  },
  {
   "cell_type": "code",
   "execution_count": 126,
   "metadata": {
    "collapsed": false
   },
   "outputs": [],
   "source": [
    "SOIs.to_excel('../data/SOI_time_series.xlsx', header=False, sheet_name='Sheet1')"
   ]
  },
  {
   "cell_type": "markdown",
   "metadata": {},
   "source": [
    "first example: an Excel file, containing one sheet, with an Excel `dates` column"
   ]
  },
  {
   "cell_type": "code",
   "execution_count": 127,
   "metadata": {
    "collapsed": false
   },
   "outputs": [],
   "source": [
    "!open ../data/ISO_datetime.xls"
   ]
  },
  {
   "cell_type": "code",
   "execution_count": 128,
   "metadata": {
    "collapsed": false
   },
   "outputs": [],
   "source": [
    "data = pd.read_excel('../data/ISO_datetime.xls', sheetname='Sheet1')"
   ]
  },
  {
   "cell_type": "code",
   "execution_count": 129,
   "metadata": {
    "collapsed": false
   },
   "outputs": [
    {
     "data": {
      "text/html": [
       "<div>\n",
       "<table border=\"1\" class=\"dataframe\">\n",
       "  <thead>\n",
       "    <tr style=\"text-align: right;\">\n",
       "      <th></th>\n",
       "      <th>date</th>\n",
       "      <th>value</th>\n",
       "    </tr>\n",
       "  </thead>\n",
       "  <tbody>\n",
       "    <tr>\n",
       "      <th>0</th>\n",
       "      <td>2014-01-02</td>\n",
       "      <td>0.786299</td>\n",
       "    </tr>\n",
       "    <tr>\n",
       "      <th>1</th>\n",
       "      <td>2014-01-03</td>\n",
       "      <td>0.354398</td>\n",
       "    </tr>\n",
       "    <tr>\n",
       "      <th>2</th>\n",
       "      <td>2014-01-04</td>\n",
       "      <td>0.747329</td>\n",
       "    </tr>\n",
       "    <tr>\n",
       "      <th>3</th>\n",
       "      <td>2014-01-05</td>\n",
       "      <td>0.461564</td>\n",
       "    </tr>\n",
       "    <tr>\n",
       "      <th>4</th>\n",
       "      <td>2014-01-06</td>\n",
       "      <td>0.626105</td>\n",
       "    </tr>\n",
       "  </tbody>\n",
       "</table>\n",
       "</div>"
      ],
      "text/plain": [
       "        date     value\n",
       "0 2014-01-02  0.786299\n",
       "1 2014-01-03  0.354398\n",
       "2 2014-01-04  0.747329\n",
       "3 2014-01-05  0.461564\n",
       "4 2014-01-06  0.626105"
      ]
     },
     "execution_count": 129,
     "metadata": {},
     "output_type": "execute_result"
    }
   ],
   "source": [
    "data.head()"
   ]
  },
  {
   "cell_type": "code",
   "execution_count": 130,
   "metadata": {
    "collapsed": false
   },
   "outputs": [
    {
     "data": {
      "text/plain": [
       "0   2014-01-02\n",
       "1   2014-01-03\n",
       "2   2014-01-04\n",
       "3   2014-01-05\n",
       "4   2014-01-06\n",
       "5   2014-01-07\n",
       "6   2014-01-08\n",
       "7   2014-01-09\n",
       "8   2014-01-10\n",
       "9   2014-01-11\n",
       "Name: date, dtype: datetime64[ns]"
      ]
     },
     "execution_count": 130,
     "metadata": {},
     "output_type": "execute_result"
    }
   ],
   "source": [
    "data['date']"
   ]
  },
  {
   "cell_type": "code",
   "execution_count": 131,
   "metadata": {
    "collapsed": false
   },
   "outputs": [],
   "source": [
    "data = pd.read_excel('../data/ISO_datetime.xls', \\\n",
    "                     sheetname='Sheet1', index_col=0)"
   ]
  },
  {
   "cell_type": "code",
   "execution_count": 132,
   "metadata": {
    "collapsed": false
   },
   "outputs": [
    {
     "data": {
      "text/html": [
       "<div>\n",
       "<table border=\"1\" class=\"dataframe\">\n",
       "  <thead>\n",
       "    <tr style=\"text-align: right;\">\n",
       "      <th></th>\n",
       "      <th>value</th>\n",
       "    </tr>\n",
       "    <tr>\n",
       "      <th>date</th>\n",
       "      <th></th>\n",
       "    </tr>\n",
       "  </thead>\n",
       "  <tbody>\n",
       "    <tr>\n",
       "      <th>2014-01-02</th>\n",
       "      <td>0.786299</td>\n",
       "    </tr>\n",
       "    <tr>\n",
       "      <th>2014-01-03</th>\n",
       "      <td>0.354398</td>\n",
       "    </tr>\n",
       "    <tr>\n",
       "      <th>2014-01-04</th>\n",
       "      <td>0.747329</td>\n",
       "    </tr>\n",
       "    <tr>\n",
       "      <th>2014-01-05</th>\n",
       "      <td>0.461564</td>\n",
       "    </tr>\n",
       "    <tr>\n",
       "      <th>2014-01-06</th>\n",
       "      <td>0.626105</td>\n",
       "    </tr>\n",
       "  </tbody>\n",
       "</table>\n",
       "</div>"
      ],
      "text/plain": [
       "               value\n",
       "date                \n",
       "2014-01-02  0.786299\n",
       "2014-01-03  0.354398\n",
       "2014-01-04  0.747329\n",
       "2014-01-05  0.461564\n",
       "2014-01-06  0.626105"
      ]
     },
     "execution_count": 132,
     "metadata": {},
     "output_type": "execute_result"
    }
   ],
   "source": [
    "data.head()"
   ]
  },
  {
   "cell_type": "markdown",
   "metadata": {},
   "source": [
    "#### correctly parsing date(times) when date and time information are contained in different columns"
   ]
  },
  {
   "cell_type": "code",
   "execution_count": 145,
   "metadata": {
    "collapsed": true
   },
   "outputs": [],
   "source": [
    "from datetime import datetime"
   ]
  },
  {
   "cell_type": "code",
   "execution_count": 146,
   "metadata": {
    "collapsed": false
   },
   "outputs": [],
   "source": [
    "# !open ../data/year_month_day.xlsx"
   ]
  },
  {
   "cell_type": "code",
   "execution_count": 147,
   "metadata": {
    "collapsed": false
   },
   "outputs": [
    {
     "data": {
      "text/html": [
       "<div>\n",
       "<table border=\"1\" class=\"dataframe\">\n",
       "  <thead>\n",
       "    <tr style=\"text-align: right;\">\n",
       "      <th></th>\n",
       "      <th>year</th>\n",
       "      <th>month</th>\n",
       "      <th>day</th>\n",
       "      <th>value</th>\n",
       "    </tr>\n",
       "  </thead>\n",
       "  <tbody>\n",
       "    <tr>\n",
       "      <th>0</th>\n",
       "      <td>2014</td>\n",
       "      <td>1</td>\n",
       "      <td>2</td>\n",
       "      <td>0.786299</td>\n",
       "    </tr>\n",
       "    <tr>\n",
       "      <th>1</th>\n",
       "      <td>2014</td>\n",
       "      <td>1</td>\n",
       "      <td>3</td>\n",
       "      <td>0.354398</td>\n",
       "    </tr>\n",
       "    <tr>\n",
       "      <th>2</th>\n",
       "      <td>2014</td>\n",
       "      <td>1</td>\n",
       "      <td>4</td>\n",
       "      <td>0.747329</td>\n",
       "    </tr>\n",
       "    <tr>\n",
       "      <th>3</th>\n",
       "      <td>2014</td>\n",
       "      <td>1</td>\n",
       "      <td>5</td>\n",
       "      <td>0.461564</td>\n",
       "    </tr>\n",
       "    <tr>\n",
       "      <th>4</th>\n",
       "      <td>2014</td>\n",
       "      <td>1</td>\n",
       "      <td>6</td>\n",
       "      <td>0.626105</td>\n",
       "    </tr>\n",
       "  </tbody>\n",
       "</table>\n",
       "</div>"
      ],
      "text/plain": [
       "   year  month  day     value\n",
       "0  2014      1    2  0.786299\n",
       "1  2014      1    3  0.354398\n",
       "2  2014      1    4  0.747329\n",
       "3  2014      1    5  0.461564\n",
       "4  2014      1    6  0.626105"
      ]
     },
     "execution_count": 147,
     "metadata": {},
     "output_type": "execute_result"
    }
   ],
   "source": [
    "ymd = pd.read_excel('../data/year_month_day.xlsx', sheetname='Sheet1')\n",
    "ymd.head()"
   ]
  },
  {
   "cell_type": "code",
   "execution_count": 148,
   "metadata": {
    "collapsed": false
   },
   "outputs": [],
   "source": [
    "ymd.index = ymd[['year', 'month', 'day']].apply(lambda d: datetime(*d), axis = 1)"
   ]
  },
  {
   "cell_type": "code",
   "execution_count": 149,
   "metadata": {
    "collapsed": false
   },
   "outputs": [
    {
     "data": {
      "text/html": [
       "<div>\n",
       "<table border=\"1\" class=\"dataframe\">\n",
       "  <thead>\n",
       "    <tr style=\"text-align: right;\">\n",
       "      <th></th>\n",
       "      <th>year</th>\n",
       "      <th>month</th>\n",
       "      <th>day</th>\n",
       "      <th>value</th>\n",
       "    </tr>\n",
       "  </thead>\n",
       "  <tbody>\n",
       "    <tr>\n",
       "      <th>2014-01-02</th>\n",
       "      <td>2014</td>\n",
       "      <td>1</td>\n",
       "      <td>2</td>\n",
       "      <td>0.786299</td>\n",
       "    </tr>\n",
       "    <tr>\n",
       "      <th>2014-01-03</th>\n",
       "      <td>2014</td>\n",
       "      <td>1</td>\n",
       "      <td>3</td>\n",
       "      <td>0.354398</td>\n",
       "    </tr>\n",
       "    <tr>\n",
       "      <th>2014-01-04</th>\n",
       "      <td>2014</td>\n",
       "      <td>1</td>\n",
       "      <td>4</td>\n",
       "      <td>0.747329</td>\n",
       "    </tr>\n",
       "    <tr>\n",
       "      <th>2014-01-05</th>\n",
       "      <td>2014</td>\n",
       "      <td>1</td>\n",
       "      <td>5</td>\n",
       "      <td>0.461564</td>\n",
       "    </tr>\n",
       "    <tr>\n",
       "      <th>2014-01-06</th>\n",
       "      <td>2014</td>\n",
       "      <td>1</td>\n",
       "      <td>6</td>\n",
       "      <td>0.626105</td>\n",
       "    </tr>\n",
       "  </tbody>\n",
       "</table>\n",
       "</div>"
      ],
      "text/plain": [
       "            year  month  day     value\n",
       "2014-01-02  2014      1    2  0.786299\n",
       "2014-01-03  2014      1    3  0.354398\n",
       "2014-01-04  2014      1    4  0.747329\n",
       "2014-01-05  2014      1    5  0.461564\n",
       "2014-01-06  2014      1    6  0.626105"
      ]
     },
     "execution_count": 149,
     "metadata": {},
     "output_type": "execute_result"
    }
   ],
   "source": [
    "ymd.head()"
   ]
  },
  {
   "cell_type": "code",
   "execution_count": 150,
   "metadata": {
    "collapsed": false
   },
   "outputs": [
    {
     "data": {
      "text/html": [
       "<div>\n",
       "<table border=\"1\" class=\"dataframe\">\n",
       "  <thead>\n",
       "    <tr style=\"text-align: right;\">\n",
       "      <th></th>\n",
       "      <th>month</th>\n",
       "      <th>year</th>\n",
       "      <th>day</th>\n",
       "      <th>value</th>\n",
       "    </tr>\n",
       "  </thead>\n",
       "  <tbody>\n",
       "    <tr>\n",
       "      <th>0</th>\n",
       "      <td>1</td>\n",
       "      <td>2014</td>\n",
       "      <td>2</td>\n",
       "      <td>0.478467</td>\n",
       "    </tr>\n",
       "    <tr>\n",
       "      <th>1</th>\n",
       "      <td>1</td>\n",
       "      <td>2014</td>\n",
       "      <td>3</td>\n",
       "      <td>0.833801</td>\n",
       "    </tr>\n",
       "    <tr>\n",
       "      <th>2</th>\n",
       "      <td>1</td>\n",
       "      <td>2014</td>\n",
       "      <td>4</td>\n",
       "      <td>0.837646</td>\n",
       "    </tr>\n",
       "    <tr>\n",
       "      <th>3</th>\n",
       "      <td>1</td>\n",
       "      <td>2014</td>\n",
       "      <td>5</td>\n",
       "      <td>0.453646</td>\n",
       "    </tr>\n",
       "    <tr>\n",
       "      <th>4</th>\n",
       "      <td>1</td>\n",
       "      <td>2014</td>\n",
       "      <td>6</td>\n",
       "      <td>0.260355</td>\n",
       "    </tr>\n",
       "  </tbody>\n",
       "</table>\n",
       "</div>"
      ],
      "text/plain": [
       "   month  year  day     value\n",
       "0      1  2014    2  0.478467\n",
       "1      1  2014    3  0.833801\n",
       "2      1  2014    4  0.837646\n",
       "3      1  2014    5  0.453646\n",
       "4      1  2014    6  0.260355"
      ]
     },
     "execution_count": 150,
     "metadata": {},
     "output_type": "execute_result"
    }
   ],
   "source": [
    "myd = pd.read_excel('../data/year_month_day.xlsx', sheetname='Sheet2'); myd.head()"
   ]
  },
  {
   "cell_type": "code",
   "execution_count": 151,
   "metadata": {
    "collapsed": true
   },
   "outputs": [],
   "source": [
    "myd.index = myd[['year', 'month', 'day']].apply(lambda d: datetime(*d), axis = 1)"
   ]
  },
  {
   "cell_type": "code",
   "execution_count": 152,
   "metadata": {
    "collapsed": false
   },
   "outputs": [
    {
     "data": {
      "text/html": [
       "<div>\n",
       "<table border=\"1\" class=\"dataframe\">\n",
       "  <thead>\n",
       "    <tr style=\"text-align: right;\">\n",
       "      <th></th>\n",
       "      <th>month</th>\n",
       "      <th>year</th>\n",
       "      <th>day</th>\n",
       "      <th>value</th>\n",
       "    </tr>\n",
       "  </thead>\n",
       "  <tbody>\n",
       "    <tr>\n",
       "      <th>2014-01-02</th>\n",
       "      <td>1</td>\n",
       "      <td>2014</td>\n",
       "      <td>2</td>\n",
       "      <td>0.478467</td>\n",
       "    </tr>\n",
       "    <tr>\n",
       "      <th>2014-01-03</th>\n",
       "      <td>1</td>\n",
       "      <td>2014</td>\n",
       "      <td>3</td>\n",
       "      <td>0.833801</td>\n",
       "    </tr>\n",
       "    <tr>\n",
       "      <th>2014-01-04</th>\n",
       "      <td>1</td>\n",
       "      <td>2014</td>\n",
       "      <td>4</td>\n",
       "      <td>0.837646</td>\n",
       "    </tr>\n",
       "    <tr>\n",
       "      <th>2014-01-05</th>\n",
       "      <td>1</td>\n",
       "      <td>2014</td>\n",
       "      <td>5</td>\n",
       "      <td>0.453646</td>\n",
       "    </tr>\n",
       "    <tr>\n",
       "      <th>2014-01-06</th>\n",
       "      <td>1</td>\n",
       "      <td>2014</td>\n",
       "      <td>6</td>\n",
       "      <td>0.260355</td>\n",
       "    </tr>\n",
       "  </tbody>\n",
       "</table>\n",
       "</div>"
      ],
      "text/plain": [
       "            month  year  day     value\n",
       "2014-01-02      1  2014    2  0.478467\n",
       "2014-01-03      1  2014    3  0.833801\n",
       "2014-01-04      1  2014    4  0.837646\n",
       "2014-01-05      1  2014    5  0.453646\n",
       "2014-01-06      1  2014    6  0.260355"
      ]
     },
     "execution_count": 152,
     "metadata": {},
     "output_type": "execute_result"
    }
   ],
   "source": [
    "myd.head()"
   ]
  },
  {
   "cell_type": "markdown",
   "metadata": {},
   "source": [
    "#### dealing with separators in text files"
   ]
  },
  {
   "cell_type": "code",
   "execution_count": 153,
   "metadata": {
    "collapsed": false
   },
   "outputs": [
    {
     "data": {
      "text/html": [
       "<iframe src=http://www.jamstec.go.jp/frcgc/research/d1/iod/DATA/emi.weekly.txt width=900 height=200></iframe>"
      ],
      "text/plain": [
       "<IPython.core.display.HTML object>"
      ]
     },
     "execution_count": 153,
     "metadata": {},
     "output_type": "execute_result"
    }
   ],
   "source": [
    "HTML('<iframe src=http://www.jamstec.go.jp/frcgc/research/d1/iod/DATA/emi.weekly.txt width=900 height=200></iframe>')"
   ]
  },
  {
   "cell_type": "markdown",
   "metadata": {},
   "source": [
    "You can use [regular expressions](http://en.wikipedia.org/wiki/Regular_expression) to specify what delimiters to use. \n",
    "\n",
    "To know more about regular expressions and their use from Python via the [re](https://docs.python.org/2/library/re.html) package, read: [http://www.ucs.cam.ac.uk/docs/course-notes/unix-courses/PythonRE/files/PythonRE.pdf](http://www.ucs.cam.ac.uk/docs/course-notes/unix-courses/PythonRE/files/PythonRE.pdf)"
   ]
  },
  {
   "cell_type": "code",
   "execution_count": 154,
   "metadata": {
    "collapsed": false
   },
   "outputs": [],
   "source": [
    "data_weekly = pd.read_table('http://www.jamstec.go.jp/frcgc/research/d1/iod/DATA/emi.weekly.txt', \\\n",
    "                            header=None, sep=r'[:, \\s*]', parse_dates={'date':[0,1,2]}, engine='python',\\\n",
    "                            index_col='date', usecols=[0,1,2,4])"
   ]
  },
  {
   "cell_type": "code",
   "execution_count": 155,
   "metadata": {
    "collapsed": false
   },
   "outputs": [],
   "source": [
    "data_weekly.columns = ['EMI']"
   ]
  },
  {
   "cell_type": "code",
   "execution_count": 156,
   "metadata": {
    "collapsed": false
   },
   "outputs": [
    {
     "data": {
      "image/png": "[encoded data removed]",
      "text/plain": [
       "<matplotlib.figure.Figure at 0x11eb8cef0>"
      ]
     },
     "metadata": {},
     "output_type": "display_data"
    }
   ],
   "source": [
    "data_weekly.plot();"
   ]
  },
  {
   "cell_type": "markdown",
   "metadata": {},
   "source": [
    "### groupby operations in Pandas "
   ]
  },
  {
   "cell_type": "markdown",
   "metadata": {},
   "source": [
    "The **groupby** method is a very powerful method of pandas DataFrames, in a nutschell it allows you to\n",
    "\n",
    "1. **split** your data according to unique values of a variable (or unique *combinations* of *N* variables)\n",
    "\n",
    "2. **apply** some operation to the groups thus defined, either an *aggregation* or *transformation* method \n",
    "\n",
    "3. **combine** the results into a DataFrame\n",
    "\n",
    "This process is illustrated below, where the operation is here calculating the mean of the groups's values\n",
    "\n",
    "A very nice explanation of the **groupby** method, with examples, is available from Pandas's documentation at:  \n",
    "\n",
    "[http://pandas.pydata.org/pandas-docs/stable/groupby.html](http://pandas.pydata.org/pandas-docs/stable/groupby.html)\n",
    "\n",
    "and a short tutorial on Wes McKinney's blog [here](http://wesmckinney.com/blog/?p=125)"
   ]
  },
  {
   "cell_type": "code",
   "execution_count": 157,
   "metadata": {
    "collapsed": false
   },
   "outputs": [
    {
     "data": {
      "image/png": "[encoded data removed]",
      "text/plain": [
       "<IPython.core.display.Image object>"
      ]
     },
     "execution_count": 157,
     "metadata": {
      "image/png": {
       "width": 800
      }
     },
     "output_type": "execute_result"
    }
   ],
   "source": [
    "Image(filename='images/split-apply-combine.png', width=800)"
   ]
  },
  {
   "cell_type": "code",
   "execution_count": 158,
   "metadata": {
    "collapsed": false
   },
   "outputs": [],
   "source": [
    "url = \"ftp://ftp.cpc.ncep.noaa.gov/wd52dg/data/indices/ersst3b.nino.mth.81-10.ascii\""
   ]
  },
  {
   "cell_type": "code",
   "execution_count": 159,
   "metadata": {
    "collapsed": false
   },
   "outputs": [],
   "source": [
    "#!wget -P ./data ftp://ftp.cpc.ncep.noaa.gov/wd52dg/data/indices/ersst3b.nino.mth.81-10.ascii"
   ]
  },
  {
   "cell_type": "code",
   "execution_count": 160,
   "metadata": {
    "collapsed": false
   },
   "outputs": [],
   "source": [
    "data = pd.read_table('../data/ersst3b.nino.mth.81-10.ascii', sep='\\s+') #the '\\s+' is a regular expression meaning any number of spaces"
   ]
  },
  {
   "cell_type": "code",
   "execution_count": 161,
   "metadata": {
    "collapsed": false
   },
   "outputs": [],
   "source": [
    "# if the network confirguration allows it, you can read directly off the URL (ftp):\n",
    "\n",
    "#data = pd.read_table(url, sep='\\s+')"
   ]
  },
  {
   "cell_type": "code",
   "execution_count": 162,
   "metadata": {
    "collapsed": false
   },
   "outputs": [
    {
     "data": {
      "text/html": [
       "<div>\n",
       "<table border=\"1\" class=\"dataframe\">\n",
       "  <thead>\n",
       "    <tr style=\"text-align: right;\">\n",
       "      <th></th>\n",
       "      <th>YR</th>\n",
       "      <th>MON</th>\n",
       "      <th>NINO1+2</th>\n",
       "      <th>ANOM</th>\n",
       "      <th>NINO3</th>\n",
       "      <th>ANOM.1</th>\n",
       "      <th>NINO4</th>\n",
       "      <th>ANOM.2</th>\n",
       "      <th>NINO3.4</th>\n",
       "      <th>ANOM.3</th>\n",
       "    </tr>\n",
       "  </thead>\n",
       "  <tbody>\n",
       "    <tr>\n",
       "      <th>785</th>\n",
       "      <td>2015</td>\n",
       "      <td>6</td>\n",
       "      <td>25.31</td>\n",
       "      <td>2.23</td>\n",
       "      <td>27.89</td>\n",
       "      <td>1.28</td>\n",
       "      <td>29.76</td>\n",
       "      <td>0.92</td>\n",
       "      <td>28.76</td>\n",
       "      <td>1.07</td>\n",
       "    </tr>\n",
       "    <tr>\n",
       "      <th>786</th>\n",
       "      <td>2015</td>\n",
       "      <td>7</td>\n",
       "      <td>24.39</td>\n",
       "      <td>2.40</td>\n",
       "      <td>27.44</td>\n",
       "      <td>1.65</td>\n",
       "      <td>29.65</td>\n",
       "      <td>0.85</td>\n",
       "      <td>28.64</td>\n",
       "      <td>1.36</td>\n",
       "    </tr>\n",
       "    <tr>\n",
       "      <th>787</th>\n",
       "      <td>2015</td>\n",
       "      <td>8</td>\n",
       "      <td>22.88</td>\n",
       "      <td>1.78</td>\n",
       "      <td>27.05</td>\n",
       "      <td>1.85</td>\n",
       "      <td>29.62</td>\n",
       "      <td>0.90</td>\n",
       "      <td>28.52</td>\n",
       "      <td>1.59</td>\n",
       "    </tr>\n",
       "    <tr>\n",
       "      <th>788</th>\n",
       "      <td>2015</td>\n",
       "      <td>9</td>\n",
       "      <td>23.05</td>\n",
       "      <td>2.17</td>\n",
       "      <td>27.21</td>\n",
       "      <td>2.19</td>\n",
       "      <td>29.65</td>\n",
       "      <td>0.93</td>\n",
       "      <td>28.68</td>\n",
       "      <td>1.85</td>\n",
       "    </tr>\n",
       "    <tr>\n",
       "      <th>789</th>\n",
       "      <td>2015</td>\n",
       "      <td>10</td>\n",
       "      <td>23.38</td>\n",
       "      <td>2.18</td>\n",
       "      <td>27.29</td>\n",
       "      <td>2.23</td>\n",
       "      <td>29.72</td>\n",
       "      <td>1.00</td>\n",
       "      <td>28.79</td>\n",
       "      <td>2.00</td>\n",
       "    </tr>\n",
       "  </tbody>\n",
       "</table>\n",
       "</div>"
      ],
      "text/plain": [
       "       YR  MON  NINO1+2  ANOM  NINO3  ANOM.1  NINO4  ANOM.2  NINO3.4  ANOM.3\n",
       "785  2015    6    25.31  2.23  27.89    1.28  29.76    0.92    28.76    1.07\n",
       "786  2015    7    24.39  2.40  27.44    1.65  29.65    0.85    28.64    1.36\n",
       "787  2015    8    22.88  1.78  27.05    1.85  29.62    0.90    28.52    1.59\n",
       "788  2015    9    23.05  2.17  27.21    2.19  29.65    0.93    28.68    1.85\n",
       "789  2015   10    23.38  2.18  27.29    2.23  29.72    1.00    28.79    2.00"
      ]
     },
     "execution_count": 162,
     "metadata": {},
     "output_type": "execute_result"
    }
   ],
   "source": [
    "data.tail()"
   ]
  },
  {
   "cell_type": "markdown",
   "metadata": {},
   "source": [
    "I only keep the raw - monthly - values of NINO 3.4 "
   ]
  },
  {
   "cell_type": "code",
   "execution_count": 163,
   "metadata": {
    "collapsed": false
   },
   "outputs": [],
   "source": [
    "nino = data[['YR','MON','NINO3.4']]"
   ]
  },
  {
   "cell_type": "code",
   "execution_count": 164,
   "metadata": {
    "collapsed": false
   },
   "outputs": [
    {
     "data": {
      "text/html": [
       "<div>\n",
       "<table border=\"1\" class=\"dataframe\">\n",
       "  <thead>\n",
       "    <tr style=\"text-align: right;\">\n",
       "      <th></th>\n",
       "      <th>YR</th>\n",
       "      <th>MON</th>\n",
       "      <th>NINO3.4</th>\n",
       "    </tr>\n",
       "  </thead>\n",
       "  <tbody>\n",
       "    <tr>\n",
       "      <th>785</th>\n",
       "      <td>2015</td>\n",
       "      <td>6</td>\n",
       "      <td>28.76</td>\n",
       "    </tr>\n",
       "    <tr>\n",
       "      <th>786</th>\n",
       "      <td>2015</td>\n",
       "      <td>7</td>\n",
       "      <td>28.64</td>\n",
       "    </tr>\n",
       "    <tr>\n",
       "      <th>787</th>\n",
       "      <td>2015</td>\n",
       "      <td>8</td>\n",
       "      <td>28.52</td>\n",
       "    </tr>\n",
       "    <tr>\n",
       "      <th>788</th>\n",
       "      <td>2015</td>\n",
       "      <td>9</td>\n",
       "      <td>28.68</td>\n",
       "    </tr>\n",
       "    <tr>\n",
       "      <th>789</th>\n",
       "      <td>2015</td>\n",
       "      <td>10</td>\n",
       "      <td>28.79</td>\n",
       "    </tr>\n",
       "  </tbody>\n",
       "</table>\n",
       "</div>"
      ],
      "text/plain": [
       "       YR  MON  NINO3.4\n",
       "785  2015    6    28.76\n",
       "786  2015    7    28.64\n",
       "787  2015    8    28.52\n",
       "788  2015    9    28.68\n",
       "789  2015   10    28.79"
      ]
     },
     "execution_count": 164,
     "metadata": {},
     "output_type": "execute_result"
    }
   ],
   "source": [
    "nino.tail()"
   ]
  },
  {
   "cell_type": "markdown",
   "metadata": {},
   "source": [
    "Now I want to calculate a climatology (over the whole period available)\n",
    "\n",
    "I first group by UNIQUE values of the variable months, I should get 12 groups"
   ]
  },
  {
   "cell_type": "code",
   "execution_count": 165,
   "metadata": {
    "collapsed": false
   },
   "outputs": [],
   "source": [
    "groups = nino.groupby('MON')"
   ]
  },
  {
   "cell_type": "code",
   "execution_count": 168,
   "metadata": {
    "collapsed": false
   },
   "outputs": [
    {
     "name": "stdout",
     "output_type": "stream",
     "text": [
      "1\n",
      "      YR  MON  NINO3.4\n",
      "0   1950    1    24.83\n",
      "12  1951    1    25.46\n",
      "24  1952    1    26.85\n",
      "36  1953    1    26.85\n",
      "48  1954    1    27.03\n",
      "2\n",
      "      YR  MON  NINO3.4\n",
      "1   1950    2    25.20\n",
      "13  1951    2    25.78\n",
      "25  1952    2    26.79\n",
      "37  1953    2    27.19\n",
      "49  1954    2    27.22\n",
      "3\n",
      "      YR  MON  NINO3.4\n",
      "2   1950    3    26.03\n",
      "14  1951    3    26.72\n",
      "26  1952    3    27.32\n",
      "38  1953    3    27.68\n",
      "50  1954    3    27.21\n",
      "4\n",
      "      YR  MON  NINO3.4\n",
      "3   1950    4    26.36\n",
      "15  1951    4    27.24\n",
      "27  1952    4    27.88\n",
      "39  1953    4    28.19\n",
      "51  1954    4    26.87\n",
      "5\n",
      "      YR  MON  NINO3.4\n",
      "4   1950    5    26.19\n",
      "16  1951    5    27.68\n",
      "28  1952    5    27.99\n",
      "40  1953    5    28.29\n",
      "52  1954    5    27.07\n",
      "6\n",
      "      YR  MON  NINO3.4\n",
      "5   1950    6    26.52\n",
      "17  1951    6    27.46\n",
      "29  1952    6    27.33\n",
      "41  1953    6    28.02\n",
      "53  1954    6    26.93\n",
      "7\n",
      "      YR  MON  NINO3.4\n",
      "6   1950    7    26.42\n",
      "18  1951    7    27.72\n",
      "30  1952    7    26.72\n",
      "42  1953    7    27.52\n",
      "54  1954    7    26.37\n",
      "8\n",
      "      YR  MON  NINO3.4\n",
      "7   1950    8    25.98\n",
      "19  1951    8    27.36\n",
      "31  1952    8    26.46\n",
      "43  1953    8    27.16\n",
      "55  1954    8    25.73\n",
      "9\n",
      "      YR  MON  NINO3.4\n",
      "8   1950    9    25.78\n",
      "20  1951    9    27.51\n",
      "32  1952    9    26.54\n",
      "44  1953    9    27.13\n",
      "56  1954    9    25.38\n",
      "10\n",
      "      YR  MON  NINO3.4\n",
      "9   1950   10    25.96\n",
      "21  1951   10    27.43\n",
      "33  1952   10    26.54\n",
      "45  1953   10    27.02\n",
      "57  1954   10    25.51\n",
      "11\n",
      "      YR  MON  NINO3.4\n",
      "10  1950   11    25.64\n",
      "22  1951   11    27.48\n",
      "34  1952   11    26.36\n",
      "46  1953   11    26.96\n",
      "58  1954   11    25.67\n",
      "12\n",
      "      YR  MON  NINO3.4\n",
      "11  1950   12    25.50\n",
      "23  1951   12    27.12\n",
      "35  1952   12    26.53\n",
      "47  1953   12    26.99\n",
      "59  1954   12    25.37\n"
     ]
    }
   ],
   "source": [
    "for month, group in groups:\n",
    "    print(month)\n",
    "    print(group.head())"
   ]
  },
  {
   "cell_type": "code",
   "execution_count": 169,
   "metadata": {
    "collapsed": false
   },
   "outputs": [],
   "source": [
    "climatology = groups.mean()"
   ]
  },
  {
   "cell_type": "markdown",
   "metadata": {},
   "source": [
    "Same as \n",
    "\n",
    "    climatology = groups.aggregate(np.mean)\n",
    "    \n",
    "    "
   ]
  },
  {
   "cell_type": "code",
   "execution_count": 170,
   "metadata": {
    "collapsed": false
   },
   "outputs": [
    {
     "data": {
      "text/plain": [
       "MON\n",
       "1     26.495455\n",
       "2     26.686515\n",
       "3     27.194091\n",
       "4     27.638485\n",
       "5     27.756212\n",
       "6     27.562879\n",
       "7     27.174545\n",
       "8     26.791970\n",
       "9     26.702879\n",
       "10    26.674545\n",
       "11    26.608615\n",
       "12    26.541692\n",
       "Name: NINO3.4, dtype: float64"
      ]
     },
     "execution_count": 170,
     "metadata": {},
     "output_type": "execute_result"
    }
   ],
   "source": [
    "climatology['NINO3.4'].head(12)"
   ]
  },
  {
   "cell_type": "code",
   "execution_count": 171,
   "metadata": {
    "collapsed": false
   },
   "outputs": [
    {
     "data": {
      "image/png": "[encoded data removed]",
      "text/plain": [
       "<matplotlib.figure.Figure at 0x11ec844e0>"
      ]
     },
     "metadata": {},
     "output_type": "display_data"
    }
   ],
   "source": [
    "f, ax = plt.subplots()\n",
    "\n",
    "climatology['NINO3.4'].plot(ax=ax, kind='bar',ylim=[26,28], rot=0, width=0.9)\n",
    "\n",
    "ax.set_xticklabels(list('JFMAMJJASOND'));\n",
    "\n",
    "f.savefig('./climatology.pdf')"
   ]
  },
  {
   "cell_type": "markdown",
   "metadata": {},
   "source": [
    "Now suppose we want to apply a function that doesnt **aggregate** the values in the groups (such as *sum*, or *mean*) but rather want to **apply a function** to those values ... \n",
    "\n",
    "An example would be calculating the standardized anomalies per month (to each value subtract the mean of the corresponding month, then divide by the standard-deviation)"
   ]
  },
  {
   "cell_type": "code",
   "execution_count": 172,
   "metadata": {
    "collapsed": false
   },
   "outputs": [],
   "source": [
    "def zscore(x): \n",
    "    z = (x - x.mean()) / x.std()\n",
    "    return z"
   ]
  },
  {
   "cell_type": "code",
   "execution_count": 173,
   "metadata": {
    "collapsed": false
   },
   "outputs": [
    {
     "data": {
      "text/html": [
       "<div>\n",
       "<table border=\"1\" class=\"dataframe\">\n",
       "  <thead>\n",
       "    <tr style=\"text-align: right;\">\n",
       "      <th></th>\n",
       "      <th>YR</th>\n",
       "      <th>MON</th>\n",
       "      <th>NINO3.4</th>\n",
       "    </tr>\n",
       "  </thead>\n",
       "  <tbody>\n",
       "    <tr>\n",
       "      <th>0</th>\n",
       "      <td>1950</td>\n",
       "      <td>1</td>\n",
       "      <td>24.83</td>\n",
       "    </tr>\n",
       "    <tr>\n",
       "      <th>1</th>\n",
       "      <td>1950</td>\n",
       "      <td>2</td>\n",
       "      <td>25.20</td>\n",
       "    </tr>\n",
       "    <tr>\n",
       "      <th>2</th>\n",
       "      <td>1950</td>\n",
       "      <td>3</td>\n",
       "      <td>26.03</td>\n",
       "    </tr>\n",
       "    <tr>\n",
       "      <th>3</th>\n",
       "      <td>1950</td>\n",
       "      <td>4</td>\n",
       "      <td>26.36</td>\n",
       "    </tr>\n",
       "    <tr>\n",
       "      <th>4</th>\n",
       "      <td>1950</td>\n",
       "      <td>5</td>\n",
       "      <td>26.19</td>\n",
       "    </tr>\n",
       "  </tbody>\n",
       "</table>\n",
       "</div>"
      ],
      "text/plain": [
       "     YR  MON  NINO3.4\n",
       "0  1950    1    24.83\n",
       "1  1950    2    25.20\n",
       "2  1950    3    26.03\n",
       "3  1950    4    26.36\n",
       "4  1950    5    26.19"
      ]
     },
     "execution_count": 173,
     "metadata": {},
     "output_type": "execute_result"
    }
   ],
   "source": [
    "nino.head()"
   ]
  },
  {
   "cell_type": "code",
   "execution_count": 174,
   "metadata": {
    "collapsed": false
   },
   "outputs": [],
   "source": [
    "transformed = nino.groupby('MON').apply(zscore)"
   ]
  },
  {
   "cell_type": "code",
   "execution_count": 175,
   "metadata": {
    "collapsed": false
   },
   "outputs": [
    {
     "data": {
      "text/plain": [
       "<matplotlib.axes._subplots.AxesSubplot at 0x11eb831d0>"
      ]
     },
     "execution_count": 175,
     "metadata": {},
     "output_type": "execute_result"
    },
    {
     "data": {
      "image/png": "[encoded data removed]",
      "text/plain": [
       "<matplotlib.figure.Figure at 0x11e3f2748>"
      ]
     },
     "metadata": {},
     "output_type": "display_data"
    }
   ],
   "source": [
    "transformed['NINO3.4'].plot()"
   ]
  },
  {
   "cell_type": "markdown",
   "metadata": {},
   "source": [
    "Now we want calculate (just) the anomalies WRT to the climatology, but with a ** *normal* established over 1981 - 2010**"
   ]
  },
  {
   "cell_type": "code",
   "execution_count": 176,
   "metadata": {
    "collapsed": false
   },
   "outputs": [
    {
     "data": {
      "text/html": [
       "<div>\n",
       "<table border=\"1\" class=\"dataframe\">\n",
       "  <thead>\n",
       "    <tr style=\"text-align: right;\">\n",
       "      <th></th>\n",
       "      <th>YR</th>\n",
       "      <th>MON</th>\n",
       "      <th>NINO3.4</th>\n",
       "    </tr>\n",
       "  </thead>\n",
       "  <tbody>\n",
       "    <tr>\n",
       "      <th>0</th>\n",
       "      <td>1950</td>\n",
       "      <td>1</td>\n",
       "      <td>24.83</td>\n",
       "    </tr>\n",
       "    <tr>\n",
       "      <th>1</th>\n",
       "      <td>1950</td>\n",
       "      <td>2</td>\n",
       "      <td>25.20</td>\n",
       "    </tr>\n",
       "    <tr>\n",
       "      <th>2</th>\n",
       "      <td>1950</td>\n",
       "      <td>3</td>\n",
       "      <td>26.03</td>\n",
       "    </tr>\n",
       "    <tr>\n",
       "      <th>3</th>\n",
       "      <td>1950</td>\n",
       "      <td>4</td>\n",
       "      <td>26.36</td>\n",
       "    </tr>\n",
       "    <tr>\n",
       "      <th>4</th>\n",
       "      <td>1950</td>\n",
       "      <td>5</td>\n",
       "      <td>26.19</td>\n",
       "    </tr>\n",
       "  </tbody>\n",
       "</table>\n",
       "</div>"
      ],
      "text/plain": [
       "     YR  MON  NINO3.4\n",
       "0  1950    1    24.83\n",
       "1  1950    2    25.20\n",
       "2  1950    3    26.03\n",
       "3  1950    4    26.36\n",
       "4  1950    5    26.19"
      ]
     },
     "execution_count": 176,
     "metadata": {},
     "output_type": "execute_result"
    }
   ],
   "source": [
    "nino.head()"
   ]
  },
  {
   "cell_type": "markdown",
   "metadata": {},
   "source": [
    "we can make use of the *query* method of Pandas DataFrames to select the climatological period"
   ]
  },
  {
   "cell_type": "code",
   "execution_count": 177,
   "metadata": {
    "collapsed": false
   },
   "outputs": [
    {
     "data": {
      "text/html": [
       "<div>\n",
       "<table border=\"1\" class=\"dataframe\">\n",
       "  <thead>\n",
       "    <tr style=\"text-align: right;\">\n",
       "      <th></th>\n",
       "      <th>YR</th>\n",
       "      <th>MON</th>\n",
       "      <th>NINO3.4</th>\n",
       "    </tr>\n",
       "  </thead>\n",
       "  <tbody>\n",
       "    <tr>\n",
       "      <th>372</th>\n",
       "      <td>1981</td>\n",
       "      <td>1</td>\n",
       "      <td>26.17</td>\n",
       "    </tr>\n",
       "    <tr>\n",
       "      <th>373</th>\n",
       "      <td>1981</td>\n",
       "      <td>2</td>\n",
       "      <td>26.13</td>\n",
       "    </tr>\n",
       "    <tr>\n",
       "      <th>374</th>\n",
       "      <td>1981</td>\n",
       "      <td>3</td>\n",
       "      <td>26.75</td>\n",
       "    </tr>\n",
       "    <tr>\n",
       "      <th>375</th>\n",
       "      <td>1981</td>\n",
       "      <td>4</td>\n",
       "      <td>27.32</td>\n",
       "    </tr>\n",
       "    <tr>\n",
       "      <th>376</th>\n",
       "      <td>1981</td>\n",
       "      <td>5</td>\n",
       "      <td>27.41</td>\n",
       "    </tr>\n",
       "  </tbody>\n",
       "</table>\n",
       "</div>"
      ],
      "text/plain": [
       "       YR  MON  NINO3.4\n",
       "372  1981    1    26.17\n",
       "373  1981    2    26.13\n",
       "374  1981    3    26.75\n",
       "375  1981    4    27.32\n",
       "376  1981    5    27.41"
      ]
     },
     "execution_count": 177,
     "metadata": {},
     "output_type": "execute_result"
    }
   ],
   "source": [
    "nino.query('YR >= 1981 & YR <= 2010').head()"
   ]
  },
  {
   "cell_type": "code",
   "execution_count": 178,
   "metadata": {
    "collapsed": false
   },
   "outputs": [],
   "source": [
    "def demean(x): \n",
    "    z = x - x.query('YR >= 1981 & YR <= 2010').mean()\n",
    "    return z"
   ]
  },
  {
   "cell_type": "code",
   "execution_count": 179,
   "metadata": {
    "collapsed": false
   },
   "outputs": [],
   "source": [
    "anoms = nino.groupby('MON').apply(demean)"
   ]
  },
  {
   "cell_type": "code",
   "execution_count": 180,
   "metadata": {
    "collapsed": false
   },
   "outputs": [
    {
     "data": {
      "text/plain": [
       "<matplotlib.axes._subplots.AxesSubplot at 0x11d4e1940>"
      ]
     },
     "execution_count": 180,
     "metadata": {},
     "output_type": "execute_result"
    },
    {
     "data": {
      "image/png": "[encoded data removed]",
      "text/plain": [
       "<matplotlib.figure.Figure at 0x11cd811d0>"
      ]
     },
     "metadata": {},
     "output_type": "display_data"
    }
   ],
   "source": [
    "f, ax = plt.subplots(figsize=(10,6))\n",
    "anoms['NINO3.4'].plot()\n",
    "data['ANOM.3'].plot() # Should be the same"
   ]
  },
  {
   "cell_type": "markdown",
   "metadata": {},
   "source": [
    "### Exercise"
   ]
  },
  {
   "cell_type": "markdown",
   "metadata": {},
   "source": [
    "The file [Daily_clim_data_Auckland.csv](../data/Daily_clim_data_Auckland.csv) in the `data` directory contains \n",
    "daily values for rainfall, minimum and maximum temperatures for Auckland from 1972 to now.  \n",
    "\n",
    "1. Read the data in a Pandas DataFrame, correctly setting up the index as a datetime object \n",
    "2. calculate monthly means for the temperature data, monthly totals for rainfall \n",
    "3. calculate and plot a climatology over the period 1981 - 2000 for all parameters \n",
    "4. calculate the anomalies WRT this climatology for all parameters \n",
    "5. plots the time-series of minimum and maximum temperature \n",
    "6. dig into the Scipy documentation to find how to calculate the linear trend over the period for the temperature data \n",
    "7. calculate and plot the trend \n",
    "8. Contact the [New Zealand Climate Science Coalition](http://www.nzclimatescience.org/)"
   ]
  }
 ],
 "metadata": {
  "gist_id": "7ff2df68a2861dede6fc",
  "kernelspec": {
   "display_name": "Python 3",
   "language": "python",
   "name": "python3"
  },
  "language_info": {
   "codemirror_mode": {
    "name": "ipython",
    "version": 3
   },
   "file_extension": ".py",
   "mimetype": "text/x-python",
   "name": "python",
   "nbconvert_exporter": "python",
   "pygments_lexer": "ipython3",
   "version": "3.5.2"
  },
  "latex_envs": {
   "bibliofile": "biblio.bib",
   "cite_by": "apalike",
   "current_citInitial": 1,
   "eqLabelWithNumbers": true,
   "eqNumInitial": 0
  }
 },
 "nbformat": 4,
 "nbformat_minor": 0
}
